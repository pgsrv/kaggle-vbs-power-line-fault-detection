{
 "cells": [
  {
   "cell_type": "code",
   "execution_count": 1,
   "metadata": {},
   "outputs": [],
   "source": [
    "from pathlib import Path"
   ]
  },
  {
   "cell_type": "code",
   "execution_count": 3,
   "metadata": {},
   "outputs": [],
   "source": [
    "submissions = list(Path(\".\").glob(\"**/*.csv\"))"
   ]
  },
  {
   "cell_type": "code",
   "execution_count": 4,
   "metadata": {},
   "outputs": [
    {
     "data": {
      "text/plain": [
       "[PosixPath('hierarchical_gru-summary-window-400-step-200-not-scaled_submission.csv'),\n",
       " PosixPath('cnn-attention_multiple_dropout_glu-summary_window_40_step_20_submission.csv'),\n",
       " PosixPath('bigru_attention_mixup_window_5000_summary_mixup_3_submission.csv'),\n",
       " PosixPath('resnet_50_aug_summary_window_40_step_20_oversampling_submission.csv'),\n",
       " PosixPath('cnn_8layer_attention_summary_window_40_step_20_submission.csv'),\n",
       " PosixPath('senet-resnet_50-summary_window_40_step_20_submission.csv'),\n",
       " PosixPath('kernel_results/transformer-multiple-dropouts_submission.csv'),\n",
       " PosixPath('kernel_results/roydatascience-eda-iso-pca-lle-stratified-lstm-attention_submission.csv'),\n",
       " PosixPath('kernel_results/attention-feature-engineering-aug-multidrop_submission.csv'),\n",
       " PosixPath('kernel_results/braquino-5-fold-lstm-attention-fully-commented-0-694_submission.csv'),\n",
       " PosixPath('kernel_results/vsb-base-neural-networ-dropout_submission.csv')]"
      ]
     },
     "execution_count": 4,
     "metadata": {},
     "output_type": "execute_result"
    }
   ],
   "source": [
    "submissions"
   ]
  },
  {
   "cell_type": "code",
   "execution_count": 5,
   "metadata": {},
   "outputs": [
    {
     "data": {
      "text/plain": [
       "11"
      ]
     },
     "execution_count": 5,
     "metadata": {},
     "output_type": "execute_result"
    }
   ],
   "source": [
    "len(submissions)"
   ]
  },
  {
   "cell_type": "code",
   "execution_count": 6,
   "metadata": {},
   "outputs": [],
   "source": [
    "import pandas as pd"
   ]
  },
  {
   "cell_type": "code",
   "execution_count": 15,
   "metadata": {},
   "outputs": [],
   "source": [
    "df = pd.concat([pd.read_csv(path).rename({\"target\": path.name.replace(\"_subamission.csv\", \"\")}, axis=1) for path in submissions], axis=1)"
   ]
  },
  {
   "cell_type": "code",
   "execution_count": 16,
   "metadata": {},
   "outputs": [
    {
     "data": {
      "text/html": [
       "<div>\n",
       "<style scoped>\n",
       "    .dataframe tbody tr th:only-of-type {\n",
       "        vertical-align: middle;\n",
       "    }\n",
       "\n",
       "    .dataframe tbody tr th {\n",
       "        vertical-align: top;\n",
       "    }\n",
       "\n",
       "    .dataframe thead th {\n",
       "        text-align: right;\n",
       "    }\n",
       "</style>\n",
       "<table border=\"1\" class=\"dataframe\">\n",
       "  <thead>\n",
       "    <tr style=\"text-align: right;\">\n",
       "      <th></th>\n",
       "      <th>signal_id</th>\n",
       "      <th>hierarchical_gru-summary-window-400-step-200-not-scaled_submission.csv</th>\n",
       "      <th>signal_id</th>\n",
       "      <th>cnn-attention_multiple_dropout_glu-summary_window_40_step_20_submission.csv</th>\n",
       "      <th>signal_id</th>\n",
       "      <th>bigru_attention_mixup_window_5000_summary_mixup_3_submission.csv</th>\n",
       "      <th>signal_id</th>\n",
       "      <th>resnet_50_aug_summary_window_40_step_20_oversampling_submission.csv</th>\n",
       "      <th>signal_id</th>\n",
       "      <th>cnn_8layer_attention_summary_window_40_step_20_submission.csv</th>\n",
       "      <th>...</th>\n",
       "      <th>signal_id</th>\n",
       "      <th>transformer-multiple-dropouts_submission.csv</th>\n",
       "      <th>signal_id</th>\n",
       "      <th>roydatascience-eda-iso-pca-lle-stratified-lstm-attention_submission.csv</th>\n",
       "      <th>signal_id</th>\n",
       "      <th>attention-feature-engineering-aug-multidrop_submission.csv</th>\n",
       "      <th>signal_id</th>\n",
       "      <th>braquino-5-fold-lstm-attention-fully-commented-0-694_submission.csv</th>\n",
       "      <th>signal_id</th>\n",
       "      <th>vsb-base-neural-networ-dropout_submission.csv</th>\n",
       "    </tr>\n",
       "  </thead>\n",
       "  <tbody>\n",
       "    <tr>\n",
       "      <th>0</th>\n",
       "      <td>8712</td>\n",
       "      <td>False</td>\n",
       "      <td>8712</td>\n",
       "      <td>False</td>\n",
       "      <td>8712</td>\n",
       "      <td>False</td>\n",
       "      <td>8712</td>\n",
       "      <td>False</td>\n",
       "      <td>8712</td>\n",
       "      <td>False</td>\n",
       "      <td>...</td>\n",
       "      <td>8712</td>\n",
       "      <td>0</td>\n",
       "      <td>8712</td>\n",
       "      <td>0</td>\n",
       "      <td>8712</td>\n",
       "      <td>0</td>\n",
       "      <td>8712</td>\n",
       "      <td>0</td>\n",
       "      <td>8712</td>\n",
       "      <td>0</td>\n",
       "    </tr>\n",
       "    <tr>\n",
       "      <th>1</th>\n",
       "      <td>8713</td>\n",
       "      <td>False</td>\n",
       "      <td>8713</td>\n",
       "      <td>False</td>\n",
       "      <td>8713</td>\n",
       "      <td>False</td>\n",
       "      <td>8713</td>\n",
       "      <td>False</td>\n",
       "      <td>8713</td>\n",
       "      <td>False</td>\n",
       "      <td>...</td>\n",
       "      <td>8713</td>\n",
       "      <td>0</td>\n",
       "      <td>8713</td>\n",
       "      <td>0</td>\n",
       "      <td>8713</td>\n",
       "      <td>0</td>\n",
       "      <td>8713</td>\n",
       "      <td>0</td>\n",
       "      <td>8713</td>\n",
       "      <td>0</td>\n",
       "    </tr>\n",
       "    <tr>\n",
       "      <th>2</th>\n",
       "      <td>8714</td>\n",
       "      <td>False</td>\n",
       "      <td>8714</td>\n",
       "      <td>False</td>\n",
       "      <td>8714</td>\n",
       "      <td>False</td>\n",
       "      <td>8714</td>\n",
       "      <td>False</td>\n",
       "      <td>8714</td>\n",
       "      <td>False</td>\n",
       "      <td>...</td>\n",
       "      <td>8714</td>\n",
       "      <td>0</td>\n",
       "      <td>8714</td>\n",
       "      <td>0</td>\n",
       "      <td>8714</td>\n",
       "      <td>0</td>\n",
       "      <td>8714</td>\n",
       "      <td>0</td>\n",
       "      <td>8714</td>\n",
       "      <td>0</td>\n",
       "    </tr>\n",
       "    <tr>\n",
       "      <th>3</th>\n",
       "      <td>8715</td>\n",
       "      <td>False</td>\n",
       "      <td>8715</td>\n",
       "      <td>False</td>\n",
       "      <td>8715</td>\n",
       "      <td>False</td>\n",
       "      <td>8715</td>\n",
       "      <td>False</td>\n",
       "      <td>8715</td>\n",
       "      <td>False</td>\n",
       "      <td>...</td>\n",
       "      <td>8715</td>\n",
       "      <td>0</td>\n",
       "      <td>8715</td>\n",
       "      <td>0</td>\n",
       "      <td>8715</td>\n",
       "      <td>0</td>\n",
       "      <td>8715</td>\n",
       "      <td>0</td>\n",
       "      <td>8715</td>\n",
       "      <td>0</td>\n",
       "    </tr>\n",
       "    <tr>\n",
       "      <th>4</th>\n",
       "      <td>8716</td>\n",
       "      <td>False</td>\n",
       "      <td>8716</td>\n",
       "      <td>False</td>\n",
       "      <td>8716</td>\n",
       "      <td>False</td>\n",
       "      <td>8716</td>\n",
       "      <td>False</td>\n",
       "      <td>8716</td>\n",
       "      <td>False</td>\n",
       "      <td>...</td>\n",
       "      <td>8716</td>\n",
       "      <td>0</td>\n",
       "      <td>8716</td>\n",
       "      <td>0</td>\n",
       "      <td>8716</td>\n",
       "      <td>0</td>\n",
       "      <td>8716</td>\n",
       "      <td>0</td>\n",
       "      <td>8716</td>\n",
       "      <td>0</td>\n",
       "    </tr>\n",
       "    <tr>\n",
       "      <th>5</th>\n",
       "      <td>8717</td>\n",
       "      <td>False</td>\n",
       "      <td>8717</td>\n",
       "      <td>False</td>\n",
       "      <td>8717</td>\n",
       "      <td>False</td>\n",
       "      <td>8717</td>\n",
       "      <td>False</td>\n",
       "      <td>8717</td>\n",
       "      <td>False</td>\n",
       "      <td>...</td>\n",
       "      <td>8717</td>\n",
       "      <td>0</td>\n",
       "      <td>8717</td>\n",
       "      <td>0</td>\n",
       "      <td>8717</td>\n",
       "      <td>0</td>\n",
       "      <td>8717</td>\n",
       "      <td>0</td>\n",
       "      <td>8717</td>\n",
       "      <td>0</td>\n",
       "    </tr>\n",
       "    <tr>\n",
       "      <th>6</th>\n",
       "      <td>8718</td>\n",
       "      <td>False</td>\n",
       "      <td>8718</td>\n",
       "      <td>False</td>\n",
       "      <td>8718</td>\n",
       "      <td>False</td>\n",
       "      <td>8718</td>\n",
       "      <td>False</td>\n",
       "      <td>8718</td>\n",
       "      <td>False</td>\n",
       "      <td>...</td>\n",
       "      <td>8718</td>\n",
       "      <td>0</td>\n",
       "      <td>8718</td>\n",
       "      <td>0</td>\n",
       "      <td>8718</td>\n",
       "      <td>0</td>\n",
       "      <td>8718</td>\n",
       "      <td>0</td>\n",
       "      <td>8718</td>\n",
       "      <td>0</td>\n",
       "    </tr>\n",
       "    <tr>\n",
       "      <th>7</th>\n",
       "      <td>8719</td>\n",
       "      <td>False</td>\n",
       "      <td>8719</td>\n",
       "      <td>False</td>\n",
       "      <td>8719</td>\n",
       "      <td>False</td>\n",
       "      <td>8719</td>\n",
       "      <td>False</td>\n",
       "      <td>8719</td>\n",
       "      <td>False</td>\n",
       "      <td>...</td>\n",
       "      <td>8719</td>\n",
       "      <td>0</td>\n",
       "      <td>8719</td>\n",
       "      <td>0</td>\n",
       "      <td>8719</td>\n",
       "      <td>0</td>\n",
       "      <td>8719</td>\n",
       "      <td>0</td>\n",
       "      <td>8719</td>\n",
       "      <td>0</td>\n",
       "    </tr>\n",
       "    <tr>\n",
       "      <th>8</th>\n",
       "      <td>8720</td>\n",
       "      <td>False</td>\n",
       "      <td>8720</td>\n",
       "      <td>False</td>\n",
       "      <td>8720</td>\n",
       "      <td>False</td>\n",
       "      <td>8720</td>\n",
       "      <td>False</td>\n",
       "      <td>8720</td>\n",
       "      <td>False</td>\n",
       "      <td>...</td>\n",
       "      <td>8720</td>\n",
       "      <td>0</td>\n",
       "      <td>8720</td>\n",
       "      <td>0</td>\n",
       "      <td>8720</td>\n",
       "      <td>0</td>\n",
       "      <td>8720</td>\n",
       "      <td>0</td>\n",
       "      <td>8720</td>\n",
       "      <td>0</td>\n",
       "    </tr>\n",
       "    <tr>\n",
       "      <th>9</th>\n",
       "      <td>8721</td>\n",
       "      <td>False</td>\n",
       "      <td>8721</td>\n",
       "      <td>False</td>\n",
       "      <td>8721</td>\n",
       "      <td>False</td>\n",
       "      <td>8721</td>\n",
       "      <td>False</td>\n",
       "      <td>8721</td>\n",
       "      <td>False</td>\n",
       "      <td>...</td>\n",
       "      <td>8721</td>\n",
       "      <td>0</td>\n",
       "      <td>8721</td>\n",
       "      <td>0</td>\n",
       "      <td>8721</td>\n",
       "      <td>0</td>\n",
       "      <td>8721</td>\n",
       "      <td>0</td>\n",
       "      <td>8721</td>\n",
       "      <td>0</td>\n",
       "    </tr>\n",
       "  </tbody>\n",
       "</table>\n",
       "<p>10 rows × 22 columns</p>\n",
       "</div>"
      ],
      "text/plain": [
       "   signal_id  \\\n",
       "0       8712   \n",
       "1       8713   \n",
       "2       8714   \n",
       "3       8715   \n",
       "4       8716   \n",
       "5       8717   \n",
       "6       8718   \n",
       "7       8719   \n",
       "8       8720   \n",
       "9       8721   \n",
       "\n",
       "   hierarchical_gru-summary-window-400-step-200-not-scaled_submission.csv  \\\n",
       "0                                              False                        \n",
       "1                                              False                        \n",
       "2                                              False                        \n",
       "3                                              False                        \n",
       "4                                              False                        \n",
       "5                                              False                        \n",
       "6                                              False                        \n",
       "7                                              False                        \n",
       "8                                              False                        \n",
       "9                                              False                        \n",
       "\n",
       "   signal_id  \\\n",
       "0       8712   \n",
       "1       8713   \n",
       "2       8714   \n",
       "3       8715   \n",
       "4       8716   \n",
       "5       8717   \n",
       "6       8718   \n",
       "7       8719   \n",
       "8       8720   \n",
       "9       8721   \n",
       "\n",
       "   cnn-attention_multiple_dropout_glu-summary_window_40_step_20_submission.csv  \\\n",
       "0                                              False                             \n",
       "1                                              False                             \n",
       "2                                              False                             \n",
       "3                                              False                             \n",
       "4                                              False                             \n",
       "5                                              False                             \n",
       "6                                              False                             \n",
       "7                                              False                             \n",
       "8                                              False                             \n",
       "9                                              False                             \n",
       "\n",
       "   signal_id  \\\n",
       "0       8712   \n",
       "1       8713   \n",
       "2       8714   \n",
       "3       8715   \n",
       "4       8716   \n",
       "5       8717   \n",
       "6       8718   \n",
       "7       8719   \n",
       "8       8720   \n",
       "9       8721   \n",
       "\n",
       "   bigru_attention_mixup_window_5000_summary_mixup_3_submission.csv  \\\n",
       "0                                              False                  \n",
       "1                                              False                  \n",
       "2                                              False                  \n",
       "3                                              False                  \n",
       "4                                              False                  \n",
       "5                                              False                  \n",
       "6                                              False                  \n",
       "7                                              False                  \n",
       "8                                              False                  \n",
       "9                                              False                  \n",
       "\n",
       "   signal_id  \\\n",
       "0       8712   \n",
       "1       8713   \n",
       "2       8714   \n",
       "3       8715   \n",
       "4       8716   \n",
       "5       8717   \n",
       "6       8718   \n",
       "7       8719   \n",
       "8       8720   \n",
       "9       8721   \n",
       "\n",
       "   resnet_50_aug_summary_window_40_step_20_oversampling_submission.csv  \\\n",
       "0                                              False                     \n",
       "1                                              False                     \n",
       "2                                              False                     \n",
       "3                                              False                     \n",
       "4                                              False                     \n",
       "5                                              False                     \n",
       "6                                              False                     \n",
       "7                                              False                     \n",
       "8                                              False                     \n",
       "9                                              False                     \n",
       "\n",
       "   signal_id  cnn_8layer_attention_summary_window_40_step_20_submission.csv  \\\n",
       "0       8712                                              False               \n",
       "1       8713                                              False               \n",
       "2       8714                                              False               \n",
       "3       8715                                              False               \n",
       "4       8716                                              False               \n",
       "5       8717                                              False               \n",
       "6       8718                                              False               \n",
       "7       8719                                              False               \n",
       "8       8720                                              False               \n",
       "9       8721                                              False               \n",
       "\n",
       "   ...  signal_id  transformer-multiple-dropouts_submission.csv  signal_id  \\\n",
       "0  ...       8712                                             0       8712   \n",
       "1  ...       8713                                             0       8713   \n",
       "2  ...       8714                                             0       8714   \n",
       "3  ...       8715                                             0       8715   \n",
       "4  ...       8716                                             0       8716   \n",
       "5  ...       8717                                             0       8717   \n",
       "6  ...       8718                                             0       8718   \n",
       "7  ...       8719                                             0       8719   \n",
       "8  ...       8720                                             0       8720   \n",
       "9  ...       8721                                             0       8721   \n",
       "\n",
       "   roydatascience-eda-iso-pca-lle-stratified-lstm-attention_submission.csv  \\\n",
       "0                                                  0                         \n",
       "1                                                  0                         \n",
       "2                                                  0                         \n",
       "3                                                  0                         \n",
       "4                                                  0                         \n",
       "5                                                  0                         \n",
       "6                                                  0                         \n",
       "7                                                  0                         \n",
       "8                                                  0                         \n",
       "9                                                  0                         \n",
       "\n",
       "   signal_id  attention-feature-engineering-aug-multidrop_submission.csv  \\\n",
       "0       8712                                                  0            \n",
       "1       8713                                                  0            \n",
       "2       8714                                                  0            \n",
       "3       8715                                                  0            \n",
       "4       8716                                                  0            \n",
       "5       8717                                                  0            \n",
       "6       8718                                                  0            \n",
       "7       8719                                                  0            \n",
       "8       8720                                                  0            \n",
       "9       8721                                                  0            \n",
       "\n",
       "   signal_id  \\\n",
       "0       8712   \n",
       "1       8713   \n",
       "2       8714   \n",
       "3       8715   \n",
       "4       8716   \n",
       "5       8717   \n",
       "6       8718   \n",
       "7       8719   \n",
       "8       8720   \n",
       "9       8721   \n",
       "\n",
       "   braquino-5-fold-lstm-attention-fully-commented-0-694_submission.csv  \\\n",
       "0                                                  0                     \n",
       "1                                                  0                     \n",
       "2                                                  0                     \n",
       "3                                                  0                     \n",
       "4                                                  0                     \n",
       "5                                                  0                     \n",
       "6                                                  0                     \n",
       "7                                                  0                     \n",
       "8                                                  0                     \n",
       "9                                                  0                     \n",
       "\n",
       "   signal_id  vsb-base-neural-networ-dropout_submission.csv  \n",
       "0       8712                                              0  \n",
       "1       8713                                              0  \n",
       "2       8714                                              0  \n",
       "3       8715                                              0  \n",
       "4       8716                                              0  \n",
       "5       8717                                              0  \n",
       "6       8718                                              0  \n",
       "7       8719                                              0  \n",
       "8       8720                                              0  \n",
       "9       8721                                              0  \n",
       "\n",
       "[10 rows x 22 columns]"
      ]
     },
     "execution_count": 16,
     "metadata": {},
     "output_type": "execute_result"
    }
   ],
   "source": [
    "df[:10]"
   ]
  },
  {
   "cell_type": "code",
   "execution_count": 17,
   "metadata": {},
   "outputs": [],
   "source": [
    "df = df.loc[:,~df.columns.duplicated()]"
   ]
  },
  {
   "cell_type": "code",
   "execution_count": 18,
   "metadata": {},
   "outputs": [
    {
     "data": {
      "text/html": [
       "<div>\n",
       "<style scoped>\n",
       "    .dataframe tbody tr th:only-of-type {\n",
       "        vertical-align: middle;\n",
       "    }\n",
       "\n",
       "    .dataframe tbody tr th {\n",
       "        vertical-align: top;\n",
       "    }\n",
       "\n",
       "    .dataframe thead th {\n",
       "        text-align: right;\n",
       "    }\n",
       "</style>\n",
       "<table border=\"1\" class=\"dataframe\">\n",
       "  <thead>\n",
       "    <tr style=\"text-align: right;\">\n",
       "      <th></th>\n",
       "      <th>signal_id</th>\n",
       "      <th>hierarchical_gru-summary-window-400-step-200-not-scaled_submission.csv</th>\n",
       "      <th>cnn-attention_multiple_dropout_glu-summary_window_40_step_20_submission.csv</th>\n",
       "      <th>bigru_attention_mixup_window_5000_summary_mixup_3_submission.csv</th>\n",
       "      <th>resnet_50_aug_summary_window_40_step_20_oversampling_submission.csv</th>\n",
       "      <th>cnn_8layer_attention_summary_window_40_step_20_submission.csv</th>\n",
       "      <th>senet-resnet_50-summary_window_40_step_20_submission.csv</th>\n",
       "      <th>transformer-multiple-dropouts_submission.csv</th>\n",
       "      <th>roydatascience-eda-iso-pca-lle-stratified-lstm-attention_submission.csv</th>\n",
       "      <th>attention-feature-engineering-aug-multidrop_submission.csv</th>\n",
       "      <th>braquino-5-fold-lstm-attention-fully-commented-0-694_submission.csv</th>\n",
       "      <th>vsb-base-neural-networ-dropout_submission.csv</th>\n",
       "    </tr>\n",
       "  </thead>\n",
       "  <tbody>\n",
       "    <tr>\n",
       "      <th>0</th>\n",
       "      <td>8712</td>\n",
       "      <td>False</td>\n",
       "      <td>False</td>\n",
       "      <td>False</td>\n",
       "      <td>False</td>\n",
       "      <td>False</td>\n",
       "      <td>False</td>\n",
       "      <td>0</td>\n",
       "      <td>0</td>\n",
       "      <td>0</td>\n",
       "      <td>0</td>\n",
       "      <td>0</td>\n",
       "    </tr>\n",
       "    <tr>\n",
       "      <th>1</th>\n",
       "      <td>8713</td>\n",
       "      <td>False</td>\n",
       "      <td>False</td>\n",
       "      <td>False</td>\n",
       "      <td>False</td>\n",
       "      <td>False</td>\n",
       "      <td>False</td>\n",
       "      <td>0</td>\n",
       "      <td>0</td>\n",
       "      <td>0</td>\n",
       "      <td>0</td>\n",
       "      <td>0</td>\n",
       "    </tr>\n",
       "    <tr>\n",
       "      <th>2</th>\n",
       "      <td>8714</td>\n",
       "      <td>False</td>\n",
       "      <td>False</td>\n",
       "      <td>False</td>\n",
       "      <td>False</td>\n",
       "      <td>False</td>\n",
       "      <td>False</td>\n",
       "      <td>0</td>\n",
       "      <td>0</td>\n",
       "      <td>0</td>\n",
       "      <td>0</td>\n",
       "      <td>0</td>\n",
       "    </tr>\n",
       "    <tr>\n",
       "      <th>3</th>\n",
       "      <td>8715</td>\n",
       "      <td>False</td>\n",
       "      <td>False</td>\n",
       "      <td>False</td>\n",
       "      <td>False</td>\n",
       "      <td>False</td>\n",
       "      <td>False</td>\n",
       "      <td>0</td>\n",
       "      <td>0</td>\n",
       "      <td>0</td>\n",
       "      <td>0</td>\n",
       "      <td>0</td>\n",
       "    </tr>\n",
       "    <tr>\n",
       "      <th>4</th>\n",
       "      <td>8716</td>\n",
       "      <td>False</td>\n",
       "      <td>False</td>\n",
       "      <td>False</td>\n",
       "      <td>False</td>\n",
       "      <td>False</td>\n",
       "      <td>False</td>\n",
       "      <td>0</td>\n",
       "      <td>0</td>\n",
       "      <td>0</td>\n",
       "      <td>0</td>\n",
       "      <td>0</td>\n",
       "    </tr>\n",
       "    <tr>\n",
       "      <th>5</th>\n",
       "      <td>8717</td>\n",
       "      <td>False</td>\n",
       "      <td>False</td>\n",
       "      <td>False</td>\n",
       "      <td>False</td>\n",
       "      <td>False</td>\n",
       "      <td>False</td>\n",
       "      <td>0</td>\n",
       "      <td>0</td>\n",
       "      <td>0</td>\n",
       "      <td>0</td>\n",
       "      <td>0</td>\n",
       "    </tr>\n",
       "    <tr>\n",
       "      <th>6</th>\n",
       "      <td>8718</td>\n",
       "      <td>False</td>\n",
       "      <td>False</td>\n",
       "      <td>False</td>\n",
       "      <td>False</td>\n",
       "      <td>False</td>\n",
       "      <td>False</td>\n",
       "      <td>0</td>\n",
       "      <td>0</td>\n",
       "      <td>0</td>\n",
       "      <td>0</td>\n",
       "      <td>0</td>\n",
       "    </tr>\n",
       "    <tr>\n",
       "      <th>7</th>\n",
       "      <td>8719</td>\n",
       "      <td>False</td>\n",
       "      <td>False</td>\n",
       "      <td>False</td>\n",
       "      <td>False</td>\n",
       "      <td>False</td>\n",
       "      <td>False</td>\n",
       "      <td>0</td>\n",
       "      <td>0</td>\n",
       "      <td>0</td>\n",
       "      <td>0</td>\n",
       "      <td>0</td>\n",
       "    </tr>\n",
       "    <tr>\n",
       "      <th>8</th>\n",
       "      <td>8720</td>\n",
       "      <td>False</td>\n",
       "      <td>False</td>\n",
       "      <td>False</td>\n",
       "      <td>False</td>\n",
       "      <td>False</td>\n",
       "      <td>False</td>\n",
       "      <td>0</td>\n",
       "      <td>0</td>\n",
       "      <td>0</td>\n",
       "      <td>0</td>\n",
       "      <td>0</td>\n",
       "    </tr>\n",
       "    <tr>\n",
       "      <th>9</th>\n",
       "      <td>8721</td>\n",
       "      <td>False</td>\n",
       "      <td>False</td>\n",
       "      <td>False</td>\n",
       "      <td>False</td>\n",
       "      <td>False</td>\n",
       "      <td>False</td>\n",
       "      <td>0</td>\n",
       "      <td>0</td>\n",
       "      <td>0</td>\n",
       "      <td>0</td>\n",
       "      <td>0</td>\n",
       "    </tr>\n",
       "  </tbody>\n",
       "</table>\n",
       "</div>"
      ],
      "text/plain": [
       "   signal_id  \\\n",
       "0       8712   \n",
       "1       8713   \n",
       "2       8714   \n",
       "3       8715   \n",
       "4       8716   \n",
       "5       8717   \n",
       "6       8718   \n",
       "7       8719   \n",
       "8       8720   \n",
       "9       8721   \n",
       "\n",
       "   hierarchical_gru-summary-window-400-step-200-not-scaled_submission.csv  \\\n",
       "0                                              False                        \n",
       "1                                              False                        \n",
       "2                                              False                        \n",
       "3                                              False                        \n",
       "4                                              False                        \n",
       "5                                              False                        \n",
       "6                                              False                        \n",
       "7                                              False                        \n",
       "8                                              False                        \n",
       "9                                              False                        \n",
       "\n",
       "   cnn-attention_multiple_dropout_glu-summary_window_40_step_20_submission.csv  \\\n",
       "0                                              False                             \n",
       "1                                              False                             \n",
       "2                                              False                             \n",
       "3                                              False                             \n",
       "4                                              False                             \n",
       "5                                              False                             \n",
       "6                                              False                             \n",
       "7                                              False                             \n",
       "8                                              False                             \n",
       "9                                              False                             \n",
       "\n",
       "   bigru_attention_mixup_window_5000_summary_mixup_3_submission.csv  \\\n",
       "0                                              False                  \n",
       "1                                              False                  \n",
       "2                                              False                  \n",
       "3                                              False                  \n",
       "4                                              False                  \n",
       "5                                              False                  \n",
       "6                                              False                  \n",
       "7                                              False                  \n",
       "8                                              False                  \n",
       "9                                              False                  \n",
       "\n",
       "   resnet_50_aug_summary_window_40_step_20_oversampling_submission.csv  \\\n",
       "0                                              False                     \n",
       "1                                              False                     \n",
       "2                                              False                     \n",
       "3                                              False                     \n",
       "4                                              False                     \n",
       "5                                              False                     \n",
       "6                                              False                     \n",
       "7                                              False                     \n",
       "8                                              False                     \n",
       "9                                              False                     \n",
       "\n",
       "   cnn_8layer_attention_summary_window_40_step_20_submission.csv  \\\n",
       "0                                              False               \n",
       "1                                              False               \n",
       "2                                              False               \n",
       "3                                              False               \n",
       "4                                              False               \n",
       "5                                              False               \n",
       "6                                              False               \n",
       "7                                              False               \n",
       "8                                              False               \n",
       "9                                              False               \n",
       "\n",
       "   senet-resnet_50-summary_window_40_step_20_submission.csv  \\\n",
       "0                                              False          \n",
       "1                                              False          \n",
       "2                                              False          \n",
       "3                                              False          \n",
       "4                                              False          \n",
       "5                                              False          \n",
       "6                                              False          \n",
       "7                                              False          \n",
       "8                                              False          \n",
       "9                                              False          \n",
       "\n",
       "   transformer-multiple-dropouts_submission.csv  \\\n",
       "0                                             0   \n",
       "1                                             0   \n",
       "2                                             0   \n",
       "3                                             0   \n",
       "4                                             0   \n",
       "5                                             0   \n",
       "6                                             0   \n",
       "7                                             0   \n",
       "8                                             0   \n",
       "9                                             0   \n",
       "\n",
       "   roydatascience-eda-iso-pca-lle-stratified-lstm-attention_submission.csv  \\\n",
       "0                                                  0                         \n",
       "1                                                  0                         \n",
       "2                                                  0                         \n",
       "3                                                  0                         \n",
       "4                                                  0                         \n",
       "5                                                  0                         \n",
       "6                                                  0                         \n",
       "7                                                  0                         \n",
       "8                                                  0                         \n",
       "9                                                  0                         \n",
       "\n",
       "   attention-feature-engineering-aug-multidrop_submission.csv  \\\n",
       "0                                                  0            \n",
       "1                                                  0            \n",
       "2                                                  0            \n",
       "3                                                  0            \n",
       "4                                                  0            \n",
       "5                                                  0            \n",
       "6                                                  0            \n",
       "7                                                  0            \n",
       "8                                                  0            \n",
       "9                                                  0            \n",
       "\n",
       "   braquino-5-fold-lstm-attention-fully-commented-0-694_submission.csv  \\\n",
       "0                                                  0                     \n",
       "1                                                  0                     \n",
       "2                                                  0                     \n",
       "3                                                  0                     \n",
       "4                                                  0                     \n",
       "5                                                  0                     \n",
       "6                                                  0                     \n",
       "7                                                  0                     \n",
       "8                                                  0                     \n",
       "9                                                  0                     \n",
       "\n",
       "   vsb-base-neural-networ-dropout_submission.csv  \n",
       "0                                              0  \n",
       "1                                              0  \n",
       "2                                              0  \n",
       "3                                              0  \n",
       "4                                              0  \n",
       "5                                              0  \n",
       "6                                              0  \n",
       "7                                              0  \n",
       "8                                              0  \n",
       "9                                              0  "
      ]
     },
     "execution_count": 18,
     "metadata": {},
     "output_type": "execute_result"
    }
   ],
   "source": [
    "df[:10]"
   ]
  },
  {
   "cell_type": "code",
   "execution_count": 19,
   "metadata": {},
   "outputs": [],
   "source": [
    "from sklearn.metrics import confusion_matrix"
   ]
  },
  {
   "cell_type": "code",
   "execution_count": 31,
   "metadata": {},
   "outputs": [],
   "source": [
    "from itertools import permutations"
   ]
  },
  {
   "cell_type": "code",
   "execution_count": 25,
   "metadata": {},
   "outputs": [],
   "source": [
    "model_columns = df.columns.tolist()"
   ]
  },
  {
   "cell_type": "code",
   "execution_count": 28,
   "metadata": {},
   "outputs": [],
   "source": [
    "model_columns.remove(\"signal_id\")"
   ]
  },
  {
   "cell_type": "code",
   "execution_count": 44,
   "metadata": {},
   "outputs": [],
   "source": [
    "cms = [(col1, col2, confusion_matrix(df[col1].values, df[col2].values, labels=[True, False])) for col1, col2 in permutations(model_columns, 2)]"
   ]
  },
  {
   "cell_type": "code",
   "execution_count": 45,
   "metadata": {},
   "outputs": [],
   "source": [
    "import seaborn as sns"
   ]
  },
  {
   "cell_type": "code",
   "execution_count": 46,
   "metadata": {},
   "outputs": [],
   "source": [
    "from IPython.core.display import display"
   ]
  },
  {
   "cell_type": "code",
   "execution_count": 48,
   "metadata": {},
   "outputs": [
    {
     "name": "stdout",
     "output_type": "stream",
     "text": [
      "hierarchical_gru-summary-window-400-step-200-not-scaled_submission.csv - cnn-attention_multiple_dropout_glu-summary_window_40_step_20_submission.csv\n"
     ]
    },
    {
     "data": {
      "text/plain": [
       "array([[  423,    60],\n",
       "       [  129, 19725]])"
      ]
     },
     "metadata": {},
     "output_type": "display_data"
    },
    {
     "name": "stdout",
     "output_type": "stream",
     "text": [
      "\n",
      "hierarchical_gru-summary-window-400-step-200-not-scaled_submission.csv - bigru_attention_mixup_window_5000_summary_mixup_3_submission.csv\n"
     ]
    },
    {
     "data": {
      "text/plain": [
       "array([[  417,    66],\n",
       "       [  303, 19551]])"
      ]
     },
     "metadata": {},
     "output_type": "display_data"
    },
    {
     "name": "stdout",
     "output_type": "stream",
     "text": [
      "\n",
      "hierarchical_gru-summary-window-400-step-200-not-scaled_submission.csv - resnet_50_aug_summary_window_40_step_20_oversampling_submission.csv\n"
     ]
    },
    {
     "data": {
      "text/plain": [
       "array([[    0,   483],\n",
       "       [    0, 19854]])"
      ]
     },
     "metadata": {},
     "output_type": "display_data"
    },
    {
     "name": "stdout",
     "output_type": "stream",
     "text": [
      "\n",
      "hierarchical_gru-summary-window-400-step-200-not-scaled_submission.csv - cnn_8layer_attention_summary_window_40_step_20_submission.csv\n"
     ]
    },
    {
     "data": {
      "text/plain": [
       "array([[  420,    63],\n",
       "       [  120, 19734]])"
      ]
     },
     "metadata": {},
     "output_type": "display_data"
    },
    {
     "name": "stdout",
     "output_type": "stream",
     "text": [
      "\n",
      "hierarchical_gru-summary-window-400-step-200-not-scaled_submission.csv - senet-resnet_50-summary_window_40_step_20_submission.csv\n"
     ]
    },
    {
     "data": {
      "text/plain": [
       "array([[  426,    57],\n",
       "       [  210, 19644]])"
      ]
     },
     "metadata": {},
     "output_type": "display_data"
    },
    {
     "name": "stdout",
     "output_type": "stream",
     "text": [
      "\n",
      "hierarchical_gru-summary-window-400-step-200-not-scaled_submission.csv - transformer-multiple-dropouts_submission.csv\n"
     ]
    },
    {
     "data": {
      "text/plain": [
       "array([[  369,   114],\n",
       "       [  291, 19563]])"
      ]
     },
     "metadata": {},
     "output_type": "display_data"
    },
    {
     "name": "stdout",
     "output_type": "stream",
     "text": [
      "\n",
      "hierarchical_gru-summary-window-400-step-200-not-scaled_submission.csv - roydatascience-eda-iso-pca-lle-stratified-lstm-attention_submission.csv\n"
     ]
    },
    {
     "data": {
      "text/plain": [
       "array([[  399,    84],\n",
       "       [  303, 19551]])"
      ]
     },
     "metadata": {},
     "output_type": "display_data"
    },
    {
     "name": "stdout",
     "output_type": "stream",
     "text": [
      "\n",
      "hierarchical_gru-summary-window-400-step-200-not-scaled_submission.csv - attention-feature-engineering-aug-multidrop_submission.csv\n"
     ]
    },
    {
     "data": {
      "text/plain": [
       "array([[  402,    81],\n",
       "       [  264, 19590]])"
      ]
     },
     "metadata": {},
     "output_type": "display_data"
    },
    {
     "name": "stdout",
     "output_type": "stream",
     "text": [
      "\n",
      "hierarchical_gru-summary-window-400-step-200-not-scaled_submission.csv - braquino-5-fold-lstm-attention-fully-commented-0-694_submission.csv\n"
     ]
    },
    {
     "data": {
      "text/plain": [
       "array([[  408,    75],\n",
       "       [  264, 19590]])"
      ]
     },
     "metadata": {},
     "output_type": "display_data"
    },
    {
     "name": "stdout",
     "output_type": "stream",
     "text": [
      "\n",
      "hierarchical_gru-summary-window-400-step-200-not-scaled_submission.csv - vsb-base-neural-networ-dropout_submission.csv\n"
     ]
    },
    {
     "data": {
      "text/plain": [
       "array([[  399,    84],\n",
       "       [  231, 19623]])"
      ]
     },
     "metadata": {},
     "output_type": "display_data"
    },
    {
     "name": "stdout",
     "output_type": "stream",
     "text": [
      "\n",
      "cnn-attention_multiple_dropout_glu-summary_window_40_step_20_submission.csv - hierarchical_gru-summary-window-400-step-200-not-scaled_submission.csv\n"
     ]
    },
    {
     "data": {
      "text/plain": [
       "array([[  423,   129],\n",
       "       [   60, 19725]])"
      ]
     },
     "metadata": {},
     "output_type": "display_data"
    },
    {
     "name": "stdout",
     "output_type": "stream",
     "text": [
      "\n",
      "cnn-attention_multiple_dropout_glu-summary_window_40_step_20_submission.csv - bigru_attention_mixup_window_5000_summary_mixup_3_submission.csv\n"
     ]
    },
    {
     "data": {
      "text/plain": [
       "array([[  465,    87],\n",
       "       [  255, 19530]])"
      ]
     },
     "metadata": {},
     "output_type": "display_data"
    },
    {
     "name": "stdout",
     "output_type": "stream",
     "text": [
      "\n",
      "cnn-attention_multiple_dropout_glu-summary_window_40_step_20_submission.csv - resnet_50_aug_summary_window_40_step_20_oversampling_submission.csv\n"
     ]
    },
    {
     "data": {
      "text/plain": [
       "array([[    0,   552],\n",
       "       [    0, 19785]])"
      ]
     },
     "metadata": {},
     "output_type": "display_data"
    },
    {
     "name": "stdout",
     "output_type": "stream",
     "text": [
      "\n",
      "cnn-attention_multiple_dropout_glu-summary_window_40_step_20_submission.csv - cnn_8layer_attention_summary_window_40_step_20_submission.csv\n"
     ]
    },
    {
     "data": {
      "text/plain": [
       "array([[  474,    78],\n",
       "       [   66, 19719]])"
      ]
     },
     "metadata": {},
     "output_type": "display_data"
    },
    {
     "name": "stdout",
     "output_type": "stream",
     "text": [
      "\n",
      "cnn-attention_multiple_dropout_glu-summary_window_40_step_20_submission.csv - senet-resnet_50-summary_window_40_step_20_submission.csv\n"
     ]
    },
    {
     "data": {
      "text/plain": [
       "array([[  480,    72],\n",
       "       [  156, 19629]])"
      ]
     },
     "metadata": {},
     "output_type": "display_data"
    },
    {
     "name": "stdout",
     "output_type": "stream",
     "text": [
      "\n",
      "cnn-attention_multiple_dropout_glu-summary_window_40_step_20_submission.csv - transformer-multiple-dropouts_submission.csv\n"
     ]
    },
    {
     "data": {
      "text/plain": [
       "array([[  408,   144],\n",
       "       [  252, 19533]])"
      ]
     },
     "metadata": {},
     "output_type": "display_data"
    },
    {
     "name": "stdout",
     "output_type": "stream",
     "text": [
      "\n",
      "cnn-attention_multiple_dropout_glu-summary_window_40_step_20_submission.csv - roydatascience-eda-iso-pca-lle-stratified-lstm-attention_submission.csv\n"
     ]
    },
    {
     "data": {
      "text/plain": [
       "array([[  438,   114],\n",
       "       [  264, 19521]])"
      ]
     },
     "metadata": {},
     "output_type": "display_data"
    },
    {
     "name": "stdout",
     "output_type": "stream",
     "text": [
      "\n",
      "cnn-attention_multiple_dropout_glu-summary_window_40_step_20_submission.csv - attention-feature-engineering-aug-multidrop_submission.csv\n"
     ]
    },
    {
     "data": {
      "text/plain": [
       "array([[  432,   120],\n",
       "       [  234, 19551]])"
      ]
     },
     "metadata": {},
     "output_type": "display_data"
    },
    {
     "name": "stdout",
     "output_type": "stream",
     "text": [
      "\n",
      "cnn-attention_multiple_dropout_glu-summary_window_40_step_20_submission.csv - braquino-5-fold-lstm-attention-fully-commented-0-694_submission.csv\n"
     ]
    },
    {
     "data": {
      "text/plain": [
       "array([[  447,   105],\n",
       "       [  225, 19560]])"
      ]
     },
     "metadata": {},
     "output_type": "display_data"
    },
    {
     "name": "stdout",
     "output_type": "stream",
     "text": [
      "\n",
      "cnn-attention_multiple_dropout_glu-summary_window_40_step_20_submission.csv - vsb-base-neural-networ-dropout_submission.csv\n"
     ]
    },
    {
     "data": {
      "text/plain": [
       "array([[  435,   117],\n",
       "       [  195, 19590]])"
      ]
     },
     "metadata": {},
     "output_type": "display_data"
    },
    {
     "name": "stdout",
     "output_type": "stream",
     "text": [
      "\n",
      "bigru_attention_mixup_window_5000_summary_mixup_3_submission.csv - hierarchical_gru-summary-window-400-step-200-not-scaled_submission.csv\n"
     ]
    },
    {
     "data": {
      "text/plain": [
       "array([[  417,   303],\n",
       "       [   66, 19551]])"
      ]
     },
     "metadata": {},
     "output_type": "display_data"
    },
    {
     "name": "stdout",
     "output_type": "stream",
     "text": [
      "\n",
      "bigru_attention_mixup_window_5000_summary_mixup_3_submission.csv - cnn-attention_multiple_dropout_glu-summary_window_40_step_20_submission.csv\n"
     ]
    },
    {
     "data": {
      "text/plain": [
       "array([[  465,   255],\n",
       "       [   87, 19530]])"
      ]
     },
     "metadata": {},
     "output_type": "display_data"
    },
    {
     "name": "stdout",
     "output_type": "stream",
     "text": [
      "\n",
      "bigru_attention_mixup_window_5000_summary_mixup_3_submission.csv - resnet_50_aug_summary_window_40_step_20_oversampling_submission.csv\n"
     ]
    },
    {
     "data": {
      "text/plain": [
       "array([[    0,   720],\n",
       "       [    0, 19617]])"
      ]
     },
     "metadata": {},
     "output_type": "display_data"
    },
    {
     "name": "stdout",
     "output_type": "stream",
     "text": [
      "\n",
      "bigru_attention_mixup_window_5000_summary_mixup_3_submission.csv - cnn_8layer_attention_summary_window_40_step_20_submission.csv\n"
     ]
    },
    {
     "data": {
      "text/plain": [
       "array([[  456,   264],\n",
       "       [   84, 19533]])"
      ]
     },
     "metadata": {},
     "output_type": "display_data"
    },
    {
     "name": "stdout",
     "output_type": "stream",
     "text": [
      "\n",
      "bigru_attention_mixup_window_5000_summary_mixup_3_submission.csv - senet-resnet_50-summary_window_40_step_20_submission.csv\n"
     ]
    },
    {
     "data": {
      "text/plain": [
       "array([[  555,   165],\n",
       "       [   81, 19536]])"
      ]
     },
     "metadata": {},
     "output_type": "display_data"
    },
    {
     "name": "stdout",
     "output_type": "stream",
     "text": [
      "\n",
      "bigru_attention_mixup_window_5000_summary_mixup_3_submission.csv - transformer-multiple-dropouts_submission.csv\n"
     ]
    },
    {
     "data": {
      "text/plain": [
       "array([[  537,   183],\n",
       "       [  123, 19494]])"
      ]
     },
     "metadata": {},
     "output_type": "display_data"
    },
    {
     "name": "stdout",
     "output_type": "stream",
     "text": [
      "\n",
      "bigru_attention_mixup_window_5000_summary_mixup_3_submission.csv - roydatascience-eda-iso-pca-lle-stratified-lstm-attention_submission.csv\n"
     ]
    },
    {
     "data": {
      "text/plain": [
       "array([[  570,   150],\n",
       "       [  132, 19485]])"
      ]
     },
     "metadata": {},
     "output_type": "display_data"
    },
    {
     "name": "stdout",
     "output_type": "stream",
     "text": [
      "\n",
      "bigru_attention_mixup_window_5000_summary_mixup_3_submission.csv - attention-feature-engineering-aug-multidrop_submission.csv\n"
     ]
    },
    {
     "data": {
      "text/plain": [
       "array([[  543,   177],\n",
       "       [  123, 19494]])"
      ]
     },
     "metadata": {},
     "output_type": "display_data"
    },
    {
     "name": "stdout",
     "output_type": "stream",
     "text": [
      "\n",
      "bigru_attention_mixup_window_5000_summary_mixup_3_submission.csv - braquino-5-fold-lstm-attention-fully-commented-0-694_submission.csv\n"
     ]
    },
    {
     "data": {
      "text/plain": [
       "array([[  570,   150],\n",
       "       [  102, 19515]])"
      ]
     },
     "metadata": {},
     "output_type": "display_data"
    },
    {
     "name": "stdout",
     "output_type": "stream",
     "text": [
      "\n",
      "bigru_attention_mixup_window_5000_summary_mixup_3_submission.csv - vsb-base-neural-networ-dropout_submission.csv\n"
     ]
    },
    {
     "data": {
      "text/plain": [
       "array([[  540,   180],\n",
       "       [   90, 19527]])"
      ]
     },
     "metadata": {},
     "output_type": "display_data"
    },
    {
     "name": "stdout",
     "output_type": "stream",
     "text": [
      "\n",
      "resnet_50_aug_summary_window_40_step_20_oversampling_submission.csv - hierarchical_gru-summary-window-400-step-200-not-scaled_submission.csv\n"
     ]
    },
    {
     "data": {
      "text/plain": [
       "array([[    0,     0],\n",
       "       [  483, 19854]])"
      ]
     },
     "metadata": {},
     "output_type": "display_data"
    },
    {
     "name": "stdout",
     "output_type": "stream",
     "text": [
      "\n",
      "resnet_50_aug_summary_window_40_step_20_oversampling_submission.csv - cnn-attention_multiple_dropout_glu-summary_window_40_step_20_submission.csv\n"
     ]
    },
    {
     "data": {
      "text/plain": [
       "array([[    0,     0],\n",
       "       [  552, 19785]])"
      ]
     },
     "metadata": {},
     "output_type": "display_data"
    },
    {
     "name": "stdout",
     "output_type": "stream",
     "text": [
      "\n",
      "resnet_50_aug_summary_window_40_step_20_oversampling_submission.csv - bigru_attention_mixup_window_5000_summary_mixup_3_submission.csv\n"
     ]
    },
    {
     "data": {
      "text/plain": [
       "array([[    0,     0],\n",
       "       [  720, 19617]])"
      ]
     },
     "metadata": {},
     "output_type": "display_data"
    },
    {
     "name": "stdout",
     "output_type": "stream",
     "text": [
      "\n",
      "resnet_50_aug_summary_window_40_step_20_oversampling_submission.csv - cnn_8layer_attention_summary_window_40_step_20_submission.csv\n"
     ]
    },
    {
     "data": {
      "text/plain": [
       "array([[    0,     0],\n",
       "       [  540, 19797]])"
      ]
     },
     "metadata": {},
     "output_type": "display_data"
    },
    {
     "name": "stdout",
     "output_type": "stream",
     "text": [
      "\n",
      "resnet_50_aug_summary_window_40_step_20_oversampling_submission.csv - senet-resnet_50-summary_window_40_step_20_submission.csv\n"
     ]
    },
    {
     "data": {
      "text/plain": [
       "array([[    0,     0],\n",
       "       [  636, 19701]])"
      ]
     },
     "metadata": {},
     "output_type": "display_data"
    },
    {
     "name": "stdout",
     "output_type": "stream",
     "text": [
      "\n",
      "resnet_50_aug_summary_window_40_step_20_oversampling_submission.csv - transformer-multiple-dropouts_submission.csv\n"
     ]
    },
    {
     "data": {
      "text/plain": [
       "array([[    0,     0],\n",
       "       [  660, 19677]])"
      ]
     },
     "metadata": {},
     "output_type": "display_data"
    },
    {
     "name": "stdout",
     "output_type": "stream",
     "text": [
      "\n",
      "resnet_50_aug_summary_window_40_step_20_oversampling_submission.csv - roydatascience-eda-iso-pca-lle-stratified-lstm-attention_submission.csv\n"
     ]
    },
    {
     "data": {
      "text/plain": [
       "array([[    0,     0],\n",
       "       [  702, 19635]])"
      ]
     },
     "metadata": {},
     "output_type": "display_data"
    },
    {
     "name": "stdout",
     "output_type": "stream",
     "text": [
      "\n",
      "resnet_50_aug_summary_window_40_step_20_oversampling_submission.csv - attention-feature-engineering-aug-multidrop_submission.csv\n"
     ]
    },
    {
     "data": {
      "text/plain": [
       "array([[    0,     0],\n",
       "       [  666, 19671]])"
      ]
     },
     "metadata": {},
     "output_type": "display_data"
    },
    {
     "name": "stdout",
     "output_type": "stream",
     "text": [
      "\n",
      "resnet_50_aug_summary_window_40_step_20_oversampling_submission.csv - braquino-5-fold-lstm-attention-fully-commented-0-694_submission.csv\n"
     ]
    },
    {
     "data": {
      "text/plain": [
       "array([[    0,     0],\n",
       "       [  672, 19665]])"
      ]
     },
     "metadata": {},
     "output_type": "display_data"
    },
    {
     "name": "stdout",
     "output_type": "stream",
     "text": [
      "\n",
      "resnet_50_aug_summary_window_40_step_20_oversampling_submission.csv - vsb-base-neural-networ-dropout_submission.csv\n"
     ]
    },
    {
     "data": {
      "text/plain": [
       "array([[    0,     0],\n",
       "       [  630, 19707]])"
      ]
     },
     "metadata": {},
     "output_type": "display_data"
    },
    {
     "name": "stdout",
     "output_type": "stream",
     "text": [
      "\n",
      "cnn_8layer_attention_summary_window_40_step_20_submission.csv - hierarchical_gru-summary-window-400-step-200-not-scaled_submission.csv\n"
     ]
    },
    {
     "data": {
      "text/plain": [
       "array([[  420,   120],\n",
       "       [   63, 19734]])"
      ]
     },
     "metadata": {},
     "output_type": "display_data"
    },
    {
     "name": "stdout",
     "output_type": "stream",
     "text": [
      "\n",
      "cnn_8layer_attention_summary_window_40_step_20_submission.csv - cnn-attention_multiple_dropout_glu-summary_window_40_step_20_submission.csv\n"
     ]
    },
    {
     "data": {
      "text/plain": [
       "array([[  474,    66],\n",
       "       [   78, 19719]])"
      ]
     },
     "metadata": {},
     "output_type": "display_data"
    },
    {
     "name": "stdout",
     "output_type": "stream",
     "text": [
      "\n",
      "cnn_8layer_attention_summary_window_40_step_20_submission.csv - bigru_attention_mixup_window_5000_summary_mixup_3_submission.csv\n"
     ]
    },
    {
     "data": {
      "text/plain": [
       "array([[  456,    84],\n",
       "       [  264, 19533]])"
      ]
     },
     "metadata": {},
     "output_type": "display_data"
    },
    {
     "name": "stdout",
     "output_type": "stream",
     "text": [
      "\n",
      "cnn_8layer_attention_summary_window_40_step_20_submission.csv - resnet_50_aug_summary_window_40_step_20_oversampling_submission.csv\n"
     ]
    },
    {
     "data": {
      "text/plain": [
       "array([[    0,   540],\n",
       "       [    0, 19797]])"
      ]
     },
     "metadata": {},
     "output_type": "display_data"
    },
    {
     "name": "stdout",
     "output_type": "stream",
     "text": [
      "\n",
      "cnn_8layer_attention_summary_window_40_step_20_submission.csv - senet-resnet_50-summary_window_40_step_20_submission.csv\n"
     ]
    },
    {
     "data": {
      "text/plain": [
       "array([[  477,    63],\n",
       "       [  159, 19638]])"
      ]
     },
     "metadata": {},
     "output_type": "display_data"
    },
    {
     "name": "stdout",
     "output_type": "stream",
     "text": [
      "\n",
      "cnn_8layer_attention_summary_window_40_step_20_submission.csv - transformer-multiple-dropouts_submission.csv\n"
     ]
    },
    {
     "data": {
      "text/plain": [
       "array([[  411,   129],\n",
       "       [  249, 19548]])"
      ]
     },
     "metadata": {},
     "output_type": "display_data"
    },
    {
     "name": "stdout",
     "output_type": "stream",
     "text": [
      "\n",
      "cnn_8layer_attention_summary_window_40_step_20_submission.csv - roydatascience-eda-iso-pca-lle-stratified-lstm-attention_submission.csv\n"
     ]
    },
    {
     "data": {
      "text/plain": [
       "array([[  432,   108],\n",
       "       [  270, 19527]])"
      ]
     },
     "metadata": {},
     "output_type": "display_data"
    },
    {
     "name": "stdout",
     "output_type": "stream",
     "text": [
      "\n",
      "cnn_8layer_attention_summary_window_40_step_20_submission.csv - attention-feature-engineering-aug-multidrop_submission.csv\n"
     ]
    },
    {
     "data": {
      "text/plain": [
       "array([[  426,   114],\n",
       "       [  240, 19557]])"
      ]
     },
     "metadata": {},
     "output_type": "display_data"
    },
    {
     "name": "stdout",
     "output_type": "stream",
     "text": [
      "\n",
      "cnn_8layer_attention_summary_window_40_step_20_submission.csv - braquino-5-fold-lstm-attention-fully-commented-0-694_submission.csv\n"
     ]
    },
    {
     "data": {
      "text/plain": [
       "array([[  444,    96],\n",
       "       [  228, 19569]])"
      ]
     },
     "metadata": {},
     "output_type": "display_data"
    },
    {
     "name": "stdout",
     "output_type": "stream",
     "text": [
      "\n",
      "cnn_8layer_attention_summary_window_40_step_20_submission.csv - vsb-base-neural-networ-dropout_submission.csv\n"
     ]
    },
    {
     "data": {
      "text/plain": [
       "array([[  426,   114],\n",
       "       [  204, 19593]])"
      ]
     },
     "metadata": {},
     "output_type": "display_data"
    },
    {
     "name": "stdout",
     "output_type": "stream",
     "text": [
      "\n",
      "senet-resnet_50-summary_window_40_step_20_submission.csv - hierarchical_gru-summary-window-400-step-200-not-scaled_submission.csv\n"
     ]
    },
    {
     "data": {
      "text/plain": [
       "array([[  426,   210],\n",
       "       [   57, 19644]])"
      ]
     },
     "metadata": {},
     "output_type": "display_data"
    },
    {
     "name": "stdout",
     "output_type": "stream",
     "text": [
      "\n",
      "senet-resnet_50-summary_window_40_step_20_submission.csv - cnn-attention_multiple_dropout_glu-summary_window_40_step_20_submission.csv\n"
     ]
    },
    {
     "data": {
      "text/plain": [
       "array([[  480,   156],\n",
       "       [   72, 19629]])"
      ]
     },
     "metadata": {},
     "output_type": "display_data"
    },
    {
     "name": "stdout",
     "output_type": "stream",
     "text": [
      "\n",
      "senet-resnet_50-summary_window_40_step_20_submission.csv - bigru_attention_mixup_window_5000_summary_mixup_3_submission.csv\n"
     ]
    },
    {
     "data": {
      "text/plain": [
       "array([[  555,    81],\n",
       "       [  165, 19536]])"
      ]
     },
     "metadata": {},
     "output_type": "display_data"
    },
    {
     "name": "stdout",
     "output_type": "stream",
     "text": [
      "\n",
      "senet-resnet_50-summary_window_40_step_20_submission.csv - resnet_50_aug_summary_window_40_step_20_oversampling_submission.csv\n"
     ]
    },
    {
     "data": {
      "text/plain": [
       "array([[    0,   636],\n",
       "       [    0, 19701]])"
      ]
     },
     "metadata": {},
     "output_type": "display_data"
    },
    {
     "name": "stdout",
     "output_type": "stream",
     "text": [
      "\n",
      "senet-resnet_50-summary_window_40_step_20_submission.csv - cnn_8layer_attention_summary_window_40_step_20_submission.csv\n"
     ]
    },
    {
     "data": {
      "text/plain": [
       "array([[  477,   159],\n",
       "       [   63, 19638]])"
      ]
     },
     "metadata": {},
     "output_type": "display_data"
    },
    {
     "name": "stdout",
     "output_type": "stream",
     "text": [
      "\n",
      "senet-resnet_50-summary_window_40_step_20_submission.csv - transformer-multiple-dropouts_submission.csv\n"
     ]
    },
    {
     "data": {
      "text/plain": [
       "array([[  489,   147],\n",
       "       [  171, 19530]])"
      ]
     },
     "metadata": {},
     "output_type": "display_data"
    },
    {
     "name": "stdout",
     "output_type": "stream",
     "text": [
      "\n",
      "senet-resnet_50-summary_window_40_step_20_submission.csv - roydatascience-eda-iso-pca-lle-stratified-lstm-attention_submission.csv\n"
     ]
    },
    {
     "data": {
      "text/plain": [
       "array([[  498,   138],\n",
       "       [  204, 19497]])"
      ]
     },
     "metadata": {},
     "output_type": "display_data"
    },
    {
     "name": "stdout",
     "output_type": "stream",
     "text": [
      "\n",
      "senet-resnet_50-summary_window_40_step_20_submission.csv - attention-feature-engineering-aug-multidrop_submission.csv\n"
     ]
    },
    {
     "data": {
      "text/plain": [
       "array([[  501,   135],\n",
       "       [  165, 19536]])"
      ]
     },
     "metadata": {},
     "output_type": "display_data"
    },
    {
     "name": "stdout",
     "output_type": "stream",
     "text": [
      "\n",
      "senet-resnet_50-summary_window_40_step_20_submission.csv - braquino-5-fold-lstm-attention-fully-commented-0-694_submission.csv\n"
     ]
    },
    {
     "data": {
      "text/plain": [
       "array([[  504,   132],\n",
       "       [  168, 19533]])"
      ]
     },
     "metadata": {},
     "output_type": "display_data"
    },
    {
     "name": "stdout",
     "output_type": "stream",
     "text": [
      "\n",
      "senet-resnet_50-summary_window_40_step_20_submission.csv - vsb-base-neural-networ-dropout_submission.csv\n"
     ]
    },
    {
     "data": {
      "text/plain": [
       "array([[  489,   147],\n",
       "       [  141, 19560]])"
      ]
     },
     "metadata": {},
     "output_type": "display_data"
    },
    {
     "name": "stdout",
     "output_type": "stream",
     "text": [
      "\n",
      "transformer-multiple-dropouts_submission.csv - hierarchical_gru-summary-window-400-step-200-not-scaled_submission.csv\n"
     ]
    },
    {
     "data": {
      "text/plain": [
       "array([[  369,   291],\n",
       "       [  114, 19563]])"
      ]
     },
     "metadata": {},
     "output_type": "display_data"
    },
    {
     "name": "stdout",
     "output_type": "stream",
     "text": [
      "\n",
      "transformer-multiple-dropouts_submission.csv - cnn-attention_multiple_dropout_glu-summary_window_40_step_20_submission.csv\n"
     ]
    },
    {
     "data": {
      "text/plain": [
       "array([[  408,   252],\n",
       "       [  144, 19533]])"
      ]
     },
     "metadata": {},
     "output_type": "display_data"
    },
    {
     "name": "stdout",
     "output_type": "stream",
     "text": [
      "\n",
      "transformer-multiple-dropouts_submission.csv - bigru_attention_mixup_window_5000_summary_mixup_3_submission.csv\n"
     ]
    },
    {
     "data": {
      "text/plain": [
       "array([[  537,   123],\n",
       "       [  183, 19494]])"
      ]
     },
     "metadata": {},
     "output_type": "display_data"
    },
    {
     "name": "stdout",
     "output_type": "stream",
     "text": [
      "\n",
      "transformer-multiple-dropouts_submission.csv - resnet_50_aug_summary_window_40_step_20_oversampling_submission.csv\n"
     ]
    },
    {
     "data": {
      "text/plain": [
       "array([[    0,   660],\n",
       "       [    0, 19677]])"
      ]
     },
     "metadata": {},
     "output_type": "display_data"
    },
    {
     "name": "stdout",
     "output_type": "stream",
     "text": [
      "\n",
      "transformer-multiple-dropouts_submission.csv - cnn_8layer_attention_summary_window_40_step_20_submission.csv\n"
     ]
    },
    {
     "data": {
      "text/plain": [
       "array([[  411,   249],\n",
       "       [  129, 19548]])"
      ]
     },
     "metadata": {},
     "output_type": "display_data"
    },
    {
     "name": "stdout",
     "output_type": "stream",
     "text": [
      "\n",
      "transformer-multiple-dropouts_submission.csv - senet-resnet_50-summary_window_40_step_20_submission.csv\n"
     ]
    },
    {
     "data": {
      "text/plain": [
       "array([[  489,   171],\n",
       "       [  147, 19530]])"
      ]
     },
     "metadata": {},
     "output_type": "display_data"
    },
    {
     "name": "stdout",
     "output_type": "stream",
     "text": [
      "\n",
      "transformer-multiple-dropouts_submission.csv - roydatascience-eda-iso-pca-lle-stratified-lstm-attention_submission.csv\n"
     ]
    },
    {
     "data": {
      "text/plain": [
       "array([[  558,   102],\n",
       "       [  144, 19533]])"
      ]
     },
     "metadata": {},
     "output_type": "display_data"
    },
    {
     "name": "stdout",
     "output_type": "stream",
     "text": [
      "\n",
      "transformer-multiple-dropouts_submission.csv - attention-feature-engineering-aug-multidrop_submission.csv\n"
     ]
    },
    {
     "data": {
      "text/plain": [
       "array([[  543,   117],\n",
       "       [  123, 19554]])"
      ]
     },
     "metadata": {},
     "output_type": "display_data"
    },
    {
     "name": "stdout",
     "output_type": "stream",
     "text": [
      "\n",
      "transformer-multiple-dropouts_submission.csv - braquino-5-fold-lstm-attention-fully-commented-0-694_submission.csv\n"
     ]
    },
    {
     "data": {
      "text/plain": [
       "array([[  543,   117],\n",
       "       [  129, 19548]])"
      ]
     },
     "metadata": {},
     "output_type": "display_data"
    },
    {
     "name": "stdout",
     "output_type": "stream",
     "text": [
      "\n",
      "transformer-multiple-dropouts_submission.csv - vsb-base-neural-networ-dropout_submission.csv\n"
     ]
    },
    {
     "data": {
      "text/plain": [
       "array([[  537,   123],\n",
       "       [   93, 19584]])"
      ]
     },
     "metadata": {},
     "output_type": "display_data"
    },
    {
     "name": "stdout",
     "output_type": "stream",
     "text": [
      "\n",
      "roydatascience-eda-iso-pca-lle-stratified-lstm-attention_submission.csv - hierarchical_gru-summary-window-400-step-200-not-scaled_submission.csv\n"
     ]
    },
    {
     "data": {
      "text/plain": [
       "array([[  399,   303],\n",
       "       [   84, 19551]])"
      ]
     },
     "metadata": {},
     "output_type": "display_data"
    },
    {
     "name": "stdout",
     "output_type": "stream",
     "text": [
      "\n",
      "roydatascience-eda-iso-pca-lle-stratified-lstm-attention_submission.csv - cnn-attention_multiple_dropout_glu-summary_window_40_step_20_submission.csv\n"
     ]
    },
    {
     "data": {
      "text/plain": [
       "array([[  438,   264],\n",
       "       [  114, 19521]])"
      ]
     },
     "metadata": {},
     "output_type": "display_data"
    },
    {
     "name": "stdout",
     "output_type": "stream",
     "text": [
      "\n",
      "roydatascience-eda-iso-pca-lle-stratified-lstm-attention_submission.csv - bigru_attention_mixup_window_5000_summary_mixup_3_submission.csv\n"
     ]
    },
    {
     "data": {
      "text/plain": [
       "array([[  570,   132],\n",
       "       [  150, 19485]])"
      ]
     },
     "metadata": {},
     "output_type": "display_data"
    },
    {
     "name": "stdout",
     "output_type": "stream",
     "text": [
      "\n",
      "roydatascience-eda-iso-pca-lle-stratified-lstm-attention_submission.csv - resnet_50_aug_summary_window_40_step_20_oversampling_submission.csv\n"
     ]
    },
    {
     "data": {
      "text/plain": [
       "array([[    0,   702],\n",
       "       [    0, 19635]])"
      ]
     },
     "metadata": {},
     "output_type": "display_data"
    },
    {
     "name": "stdout",
     "output_type": "stream",
     "text": [
      "\n",
      "roydatascience-eda-iso-pca-lle-stratified-lstm-attention_submission.csv - cnn_8layer_attention_summary_window_40_step_20_submission.csv\n"
     ]
    },
    {
     "data": {
      "text/plain": [
       "array([[  432,   270],\n",
       "       [  108, 19527]])"
      ]
     },
     "metadata": {},
     "output_type": "display_data"
    },
    {
     "name": "stdout",
     "output_type": "stream",
     "text": [
      "\n",
      "roydatascience-eda-iso-pca-lle-stratified-lstm-attention_submission.csv - senet-resnet_50-summary_window_40_step_20_submission.csv\n"
     ]
    },
    {
     "data": {
      "text/plain": [
       "array([[  498,   204],\n",
       "       [  138, 19497]])"
      ]
     },
     "metadata": {},
     "output_type": "display_data"
    },
    {
     "name": "stdout",
     "output_type": "stream",
     "text": [
      "\n",
      "roydatascience-eda-iso-pca-lle-stratified-lstm-attention_submission.csv - transformer-multiple-dropouts_submission.csv\n"
     ]
    },
    {
     "data": {
      "text/plain": [
       "array([[  558,   144],\n",
       "       [  102, 19533]])"
      ]
     },
     "metadata": {},
     "output_type": "display_data"
    },
    {
     "name": "stdout",
     "output_type": "stream",
     "text": [
      "\n",
      "roydatascience-eda-iso-pca-lle-stratified-lstm-attention_submission.csv - attention-feature-engineering-aug-multidrop_submission.csv\n"
     ]
    },
    {
     "data": {
      "text/plain": [
       "array([[  612,    90],\n",
       "       [   54, 19581]])"
      ]
     },
     "metadata": {},
     "output_type": "display_data"
    },
    {
     "name": "stdout",
     "output_type": "stream",
     "text": [
      "\n",
      "roydatascience-eda-iso-pca-lle-stratified-lstm-attention_submission.csv - braquino-5-fold-lstm-attention-fully-commented-0-694_submission.csv\n"
     ]
    },
    {
     "data": {
      "text/plain": [
       "array([[  651,    51],\n",
       "       [   21, 19614]])"
      ]
     },
     "metadata": {},
     "output_type": "display_data"
    },
    {
     "name": "stdout",
     "output_type": "stream",
     "text": [
      "\n",
      "roydatascience-eda-iso-pca-lle-stratified-lstm-attention_submission.csv - vsb-base-neural-networ-dropout_submission.csv\n"
     ]
    },
    {
     "data": {
      "text/plain": [
       "array([[  609,    93],\n",
       "       [   21, 19614]])"
      ]
     },
     "metadata": {},
     "output_type": "display_data"
    },
    {
     "name": "stdout",
     "output_type": "stream",
     "text": [
      "\n",
      "attention-feature-engineering-aug-multidrop_submission.csv - hierarchical_gru-summary-window-400-step-200-not-scaled_submission.csv\n"
     ]
    },
    {
     "data": {
      "text/plain": [
       "array([[  402,   264],\n",
       "       [   81, 19590]])"
      ]
     },
     "metadata": {},
     "output_type": "display_data"
    },
    {
     "name": "stdout",
     "output_type": "stream",
     "text": [
      "\n",
      "attention-feature-engineering-aug-multidrop_submission.csv - cnn-attention_multiple_dropout_glu-summary_window_40_step_20_submission.csv\n"
     ]
    },
    {
     "data": {
      "text/plain": [
       "array([[  432,   234],\n",
       "       [  120, 19551]])"
      ]
     },
     "metadata": {},
     "output_type": "display_data"
    },
    {
     "name": "stdout",
     "output_type": "stream",
     "text": [
      "\n",
      "attention-feature-engineering-aug-multidrop_submission.csv - bigru_attention_mixup_window_5000_summary_mixup_3_submission.csv\n"
     ]
    },
    {
     "data": {
      "text/plain": [
       "array([[  543,   123],\n",
       "       [  177, 19494]])"
      ]
     },
     "metadata": {},
     "output_type": "display_data"
    },
    {
     "name": "stdout",
     "output_type": "stream",
     "text": [
      "\n",
      "attention-feature-engineering-aug-multidrop_submission.csv - resnet_50_aug_summary_window_40_step_20_oversampling_submission.csv\n"
     ]
    },
    {
     "data": {
      "text/plain": [
       "array([[    0,   666],\n",
       "       [    0, 19671]])"
      ]
     },
     "metadata": {},
     "output_type": "display_data"
    },
    {
     "name": "stdout",
     "output_type": "stream",
     "text": [
      "\n",
      "attention-feature-engineering-aug-multidrop_submission.csv - cnn_8layer_attention_summary_window_40_step_20_submission.csv\n"
     ]
    },
    {
     "data": {
      "text/plain": [
       "array([[  426,   240],\n",
       "       [  114, 19557]])"
      ]
     },
     "metadata": {},
     "output_type": "display_data"
    },
    {
     "name": "stdout",
     "output_type": "stream",
     "text": [
      "\n",
      "attention-feature-engineering-aug-multidrop_submission.csv - senet-resnet_50-summary_window_40_step_20_submission.csv\n"
     ]
    },
    {
     "data": {
      "text/plain": [
       "array([[  501,   165],\n",
       "       [  135, 19536]])"
      ]
     },
     "metadata": {},
     "output_type": "display_data"
    },
    {
     "name": "stdout",
     "output_type": "stream",
     "text": [
      "\n",
      "attention-feature-engineering-aug-multidrop_submission.csv - transformer-multiple-dropouts_submission.csv\n"
     ]
    },
    {
     "data": {
      "text/plain": [
       "array([[  543,   123],\n",
       "       [  117, 19554]])"
      ]
     },
     "metadata": {},
     "output_type": "display_data"
    },
    {
     "name": "stdout",
     "output_type": "stream",
     "text": [
      "\n",
      "attention-feature-engineering-aug-multidrop_submission.csv - roydatascience-eda-iso-pca-lle-stratified-lstm-attention_submission.csv\n"
     ]
    },
    {
     "data": {
      "text/plain": [
       "array([[  612,    54],\n",
       "       [   90, 19581]])"
      ]
     },
     "metadata": {},
     "output_type": "display_data"
    },
    {
     "name": "stdout",
     "output_type": "stream",
     "text": [
      "\n",
      "attention-feature-engineering-aug-multidrop_submission.csv - braquino-5-fold-lstm-attention-fully-commented-0-694_submission.csv\n"
     ]
    },
    {
     "data": {
      "text/plain": [
       "array([[  603,    63],\n",
       "       [   69, 19602]])"
      ]
     },
     "metadata": {},
     "output_type": "display_data"
    },
    {
     "name": "stdout",
     "output_type": "stream",
     "text": [
      "\n",
      "attention-feature-engineering-aug-multidrop_submission.csv - vsb-base-neural-networ-dropout_submission.csv\n"
     ]
    },
    {
     "data": {
      "text/plain": [
       "array([[  588,    78],\n",
       "       [   42, 19629]])"
      ]
     },
     "metadata": {},
     "output_type": "display_data"
    },
    {
     "name": "stdout",
     "output_type": "stream",
     "text": [
      "\n",
      "braquino-5-fold-lstm-attention-fully-commented-0-694_submission.csv - hierarchical_gru-summary-window-400-step-200-not-scaled_submission.csv\n"
     ]
    },
    {
     "data": {
      "text/plain": [
       "array([[  408,   264],\n",
       "       [   75, 19590]])"
      ]
     },
     "metadata": {},
     "output_type": "display_data"
    },
    {
     "name": "stdout",
     "output_type": "stream",
     "text": [
      "\n",
      "braquino-5-fold-lstm-attention-fully-commented-0-694_submission.csv - cnn-attention_multiple_dropout_glu-summary_window_40_step_20_submission.csv\n"
     ]
    },
    {
     "data": {
      "text/plain": [
       "array([[  447,   225],\n",
       "       [  105, 19560]])"
      ]
     },
     "metadata": {},
     "output_type": "display_data"
    },
    {
     "name": "stdout",
     "output_type": "stream",
     "text": [
      "\n",
      "braquino-5-fold-lstm-attention-fully-commented-0-694_submission.csv - bigru_attention_mixup_window_5000_summary_mixup_3_submission.csv\n"
     ]
    },
    {
     "data": {
      "text/plain": [
       "array([[  570,   102],\n",
       "       [  150, 19515]])"
      ]
     },
     "metadata": {},
     "output_type": "display_data"
    },
    {
     "name": "stdout",
     "output_type": "stream",
     "text": [
      "\n",
      "braquino-5-fold-lstm-attention-fully-commented-0-694_submission.csv - resnet_50_aug_summary_window_40_step_20_oversampling_submission.csv\n"
     ]
    },
    {
     "data": {
      "text/plain": [
       "array([[    0,   672],\n",
       "       [    0, 19665]])"
      ]
     },
     "metadata": {},
     "output_type": "display_data"
    },
    {
     "name": "stdout",
     "output_type": "stream",
     "text": [
      "\n",
      "braquino-5-fold-lstm-attention-fully-commented-0-694_submission.csv - cnn_8layer_attention_summary_window_40_step_20_submission.csv\n"
     ]
    },
    {
     "data": {
      "text/plain": [
       "array([[  444,   228],\n",
       "       [   96, 19569]])"
      ]
     },
     "metadata": {},
     "output_type": "display_data"
    },
    {
     "name": "stdout",
     "output_type": "stream",
     "text": [
      "\n",
      "braquino-5-fold-lstm-attention-fully-commented-0-694_submission.csv - senet-resnet_50-summary_window_40_step_20_submission.csv\n"
     ]
    },
    {
     "data": {
      "text/plain": [
       "array([[  504,   168],\n",
       "       [  132, 19533]])"
      ]
     },
     "metadata": {},
     "output_type": "display_data"
    },
    {
     "name": "stdout",
     "output_type": "stream",
     "text": [
      "\n",
      "braquino-5-fold-lstm-attention-fully-commented-0-694_submission.csv - transformer-multiple-dropouts_submission.csv\n"
     ]
    },
    {
     "data": {
      "text/plain": [
       "array([[  543,   129],\n",
       "       [  117, 19548]])"
      ]
     },
     "metadata": {},
     "output_type": "display_data"
    },
    {
     "name": "stdout",
     "output_type": "stream",
     "text": [
      "\n",
      "braquino-5-fold-lstm-attention-fully-commented-0-694_submission.csv - roydatascience-eda-iso-pca-lle-stratified-lstm-attention_submission.csv\n"
     ]
    },
    {
     "data": {
      "text/plain": [
       "array([[  651,    21],\n",
       "       [   51, 19614]])"
      ]
     },
     "metadata": {},
     "output_type": "display_data"
    },
    {
     "name": "stdout",
     "output_type": "stream",
     "text": [
      "\n",
      "braquino-5-fold-lstm-attention-fully-commented-0-694_submission.csv - attention-feature-engineering-aug-multidrop_submission.csv\n"
     ]
    },
    {
     "data": {
      "text/plain": [
       "array([[  603,    69],\n",
       "       [   63, 19602]])"
      ]
     },
     "metadata": {},
     "output_type": "display_data"
    },
    {
     "name": "stdout",
     "output_type": "stream",
     "text": [
      "\n",
      "braquino-5-fold-lstm-attention-fully-commented-0-694_submission.csv - vsb-base-neural-networ-dropout_submission.csv\n"
     ]
    },
    {
     "data": {
      "text/plain": [
       "array([[  615,    57],\n",
       "       [   15, 19650]])"
      ]
     },
     "metadata": {},
     "output_type": "display_data"
    },
    {
     "name": "stdout",
     "output_type": "stream",
     "text": [
      "\n",
      "vsb-base-neural-networ-dropout_submission.csv - hierarchical_gru-summary-window-400-step-200-not-scaled_submission.csv\n"
     ]
    },
    {
     "data": {
      "text/plain": [
       "array([[  399,   231],\n",
       "       [   84, 19623]])"
      ]
     },
     "metadata": {},
     "output_type": "display_data"
    },
    {
     "name": "stdout",
     "output_type": "stream",
     "text": [
      "\n",
      "vsb-base-neural-networ-dropout_submission.csv - cnn-attention_multiple_dropout_glu-summary_window_40_step_20_submission.csv\n"
     ]
    },
    {
     "data": {
      "text/plain": [
       "array([[  435,   195],\n",
       "       [  117, 19590]])"
      ]
     },
     "metadata": {},
     "output_type": "display_data"
    },
    {
     "name": "stdout",
     "output_type": "stream",
     "text": [
      "\n",
      "vsb-base-neural-networ-dropout_submission.csv - bigru_attention_mixup_window_5000_summary_mixup_3_submission.csv\n"
     ]
    },
    {
     "data": {
      "text/plain": [
       "array([[  540,    90],\n",
       "       [  180, 19527]])"
      ]
     },
     "metadata": {},
     "output_type": "display_data"
    },
    {
     "name": "stdout",
     "output_type": "stream",
     "text": [
      "\n",
      "vsb-base-neural-networ-dropout_submission.csv - resnet_50_aug_summary_window_40_step_20_oversampling_submission.csv\n"
     ]
    },
    {
     "data": {
      "text/plain": [
       "array([[    0,   630],\n",
       "       [    0, 19707]])"
      ]
     },
     "metadata": {},
     "output_type": "display_data"
    },
    {
     "name": "stdout",
     "output_type": "stream",
     "text": [
      "\n",
      "vsb-base-neural-networ-dropout_submission.csv - cnn_8layer_attention_summary_window_40_step_20_submission.csv\n"
     ]
    },
    {
     "data": {
      "text/plain": [
       "array([[  426,   204],\n",
       "       [  114, 19593]])"
      ]
     },
     "metadata": {},
     "output_type": "display_data"
    },
    {
     "name": "stdout",
     "output_type": "stream",
     "text": [
      "\n",
      "vsb-base-neural-networ-dropout_submission.csv - senet-resnet_50-summary_window_40_step_20_submission.csv\n"
     ]
    },
    {
     "data": {
      "text/plain": [
       "array([[  489,   141],\n",
       "       [  147, 19560]])"
      ]
     },
     "metadata": {},
     "output_type": "display_data"
    },
    {
     "name": "stdout",
     "output_type": "stream",
     "text": [
      "\n",
      "vsb-base-neural-networ-dropout_submission.csv - transformer-multiple-dropouts_submission.csv\n"
     ]
    },
    {
     "data": {
      "text/plain": [
       "array([[  537,    93],\n",
       "       [  123, 19584]])"
      ]
     },
     "metadata": {},
     "output_type": "display_data"
    },
    {
     "name": "stdout",
     "output_type": "stream",
     "text": [
      "\n",
      "vsb-base-neural-networ-dropout_submission.csv - roydatascience-eda-iso-pca-lle-stratified-lstm-attention_submission.csv\n"
     ]
    },
    {
     "data": {
      "text/plain": [
       "array([[  609,    21],\n",
       "       [   93, 19614]])"
      ]
     },
     "metadata": {},
     "output_type": "display_data"
    },
    {
     "name": "stdout",
     "output_type": "stream",
     "text": [
      "\n",
      "vsb-base-neural-networ-dropout_submission.csv - attention-feature-engineering-aug-multidrop_submission.csv\n"
     ]
    },
    {
     "data": {
      "text/plain": [
       "array([[  588,    42],\n",
       "       [   78, 19629]])"
      ]
     },
     "metadata": {},
     "output_type": "display_data"
    },
    {
     "name": "stdout",
     "output_type": "stream",
     "text": [
      "\n",
      "vsb-base-neural-networ-dropout_submission.csv - braquino-5-fold-lstm-attention-fully-commented-0-694_submission.csv\n"
     ]
    },
    {
     "data": {
      "text/plain": [
       "array([[  615,    15],\n",
       "       [   57, 19650]])"
      ]
     },
     "metadata": {},
     "output_type": "display_data"
    },
    {
     "name": "stdout",
     "output_type": "stream",
     "text": [
      "\n"
     ]
    }
   ],
   "source": [
    "for cm in cms:\n",
    "    print(\" - \".join(cm[:2]))\n",
    "    display(cm[-1])\n",
    "    print()"
   ]
  },
  {
   "cell_type": "code",
   "execution_count": 50,
   "metadata": {},
   "outputs": [],
   "source": [
    "oversampled_df = pd.read_csv('resnet_50_aug_summary_window_40_step_20_oversampling_submission.csv')"
   ]
  },
  {
   "cell_type": "code",
   "execution_count": 53,
   "metadata": {},
   "outputs": [
    {
     "data": {
      "text/plain": [
       "False    20337\n",
       "Name: target, dtype: int64"
      ]
     },
     "execution_count": 53,
     "metadata": {},
     "output_type": "execute_result"
    }
   ],
   "source": [
    "oversampled_df.target.value_counts()"
   ]
  },
  {
   "cell_type": "markdown",
   "metadata": {},
   "source": [
    "The oversamlig model predict all of the test samples as False. \n",
    "It should be removed."
   ]
  },
  {
   "cell_type": "code",
   "execution_count": 54,
   "metadata": {},
   "outputs": [],
   "source": [
    "df.drop([col for col in model_columns if \"oversampl\" in col], axis=1, inplace=True)"
   ]
  },
  {
   "cell_type": "code",
   "execution_count": 55,
   "metadata": {},
   "outputs": [
    {
     "data": {
      "text/plain": [
       "(20337, 11)"
      ]
     },
     "execution_count": 55,
     "metadata": {},
     "output_type": "execute_result"
    }
   ],
   "source": [
    "df.shape"
   ]
  },
  {
   "cell_type": "code",
   "execution_count": 63,
   "metadata": {},
   "outputs": [],
   "source": [
    "model_columns = [col for col in model_columns if \"oversampl\" not in col]"
   ]
  },
  {
   "cell_type": "code",
   "execution_count": 65,
   "metadata": {},
   "outputs": [
    {
     "data": {
      "text/plain": [
       "10"
      ]
     },
     "execution_count": 65,
     "metadata": {},
     "output_type": "execute_result"
    }
   ],
   "source": [
    "len(model_columns)"
   ]
  },
  {
   "cell_type": "code",
   "execution_count": 49,
   "metadata": {},
   "outputs": [],
   "source": [
    "# for cm in cms:\n",
    "#     display(sns.heatmap(cm[-1]), title=\"_\".join(cm[:2]))"
   ]
  },
  {
   "cell_type": "markdown",
   "metadata": {},
   "source": [
    "# count True"
   ]
  },
  {
   "cell_type": "code",
   "execution_count": 67,
   "metadata": {},
   "outputs": [],
   "source": [
    "df[\"n_true\"] = df[model_columns].T.sum(axis=0).T.values"
   ]
  },
  {
   "cell_type": "code",
   "execution_count": 68,
   "metadata": {},
   "outputs": [
    {
     "data": {
      "text/html": [
       "<div>\n",
       "<style scoped>\n",
       "    .dataframe tbody tr th:only-of-type {\n",
       "        vertical-align: middle;\n",
       "    }\n",
       "\n",
       "    .dataframe tbody tr th {\n",
       "        vertical-align: top;\n",
       "    }\n",
       "\n",
       "    .dataframe thead th {\n",
       "        text-align: right;\n",
       "    }\n",
       "</style>\n",
       "<table border=\"1\" class=\"dataframe\">\n",
       "  <thead>\n",
       "    <tr style=\"text-align: right;\">\n",
       "      <th></th>\n",
       "      <th>signal_id</th>\n",
       "      <th>hierarchical_gru-summary-window-400-step-200-not-scaled_submission.csv</th>\n",
       "      <th>cnn-attention_multiple_dropout_glu-summary_window_40_step_20_submission.csv</th>\n",
       "      <th>bigru_attention_mixup_window_5000_summary_mixup_3_submission.csv</th>\n",
       "      <th>cnn_8layer_attention_summary_window_40_step_20_submission.csv</th>\n",
       "      <th>senet-resnet_50-summary_window_40_step_20_submission.csv</th>\n",
       "      <th>transformer-multiple-dropouts_submission.csv</th>\n",
       "      <th>roydatascience-eda-iso-pca-lle-stratified-lstm-attention_submission.csv</th>\n",
       "      <th>attention-feature-engineering-aug-multidrop_submission.csv</th>\n",
       "      <th>braquino-5-fold-lstm-attention-fully-commented-0-694_submission.csv</th>\n",
       "      <th>vsb-base-neural-networ-dropout_submission.csv</th>\n",
       "      <th>n_true</th>\n",
       "    </tr>\n",
       "  </thead>\n",
       "  <tbody>\n",
       "    <tr>\n",
       "      <th>0</th>\n",
       "      <td>8712</td>\n",
       "      <td>False</td>\n",
       "      <td>False</td>\n",
       "      <td>False</td>\n",
       "      <td>False</td>\n",
       "      <td>False</td>\n",
       "      <td>0</td>\n",
       "      <td>0</td>\n",
       "      <td>0</td>\n",
       "      <td>0</td>\n",
       "      <td>0</td>\n",
       "      <td>0.0</td>\n",
       "    </tr>\n",
       "    <tr>\n",
       "      <th>1</th>\n",
       "      <td>8713</td>\n",
       "      <td>False</td>\n",
       "      <td>False</td>\n",
       "      <td>False</td>\n",
       "      <td>False</td>\n",
       "      <td>False</td>\n",
       "      <td>0</td>\n",
       "      <td>0</td>\n",
       "      <td>0</td>\n",
       "      <td>0</td>\n",
       "      <td>0</td>\n",
       "      <td>0.0</td>\n",
       "    </tr>\n",
       "    <tr>\n",
       "      <th>2</th>\n",
       "      <td>8714</td>\n",
       "      <td>False</td>\n",
       "      <td>False</td>\n",
       "      <td>False</td>\n",
       "      <td>False</td>\n",
       "      <td>False</td>\n",
       "      <td>0</td>\n",
       "      <td>0</td>\n",
       "      <td>0</td>\n",
       "      <td>0</td>\n",
       "      <td>0</td>\n",
       "      <td>0.0</td>\n",
       "    </tr>\n",
       "    <tr>\n",
       "      <th>3</th>\n",
       "      <td>8715</td>\n",
       "      <td>False</td>\n",
       "      <td>False</td>\n",
       "      <td>False</td>\n",
       "      <td>False</td>\n",
       "      <td>False</td>\n",
       "      <td>0</td>\n",
       "      <td>0</td>\n",
       "      <td>0</td>\n",
       "      <td>0</td>\n",
       "      <td>0</td>\n",
       "      <td>0.0</td>\n",
       "    </tr>\n",
       "    <tr>\n",
       "      <th>4</th>\n",
       "      <td>8716</td>\n",
       "      <td>False</td>\n",
       "      <td>False</td>\n",
       "      <td>False</td>\n",
       "      <td>False</td>\n",
       "      <td>False</td>\n",
       "      <td>0</td>\n",
       "      <td>0</td>\n",
       "      <td>0</td>\n",
       "      <td>0</td>\n",
       "      <td>0</td>\n",
       "      <td>0.0</td>\n",
       "    </tr>\n",
       "    <tr>\n",
       "      <th>5</th>\n",
       "      <td>8717</td>\n",
       "      <td>False</td>\n",
       "      <td>False</td>\n",
       "      <td>False</td>\n",
       "      <td>False</td>\n",
       "      <td>False</td>\n",
       "      <td>0</td>\n",
       "      <td>0</td>\n",
       "      <td>0</td>\n",
       "      <td>0</td>\n",
       "      <td>0</td>\n",
       "      <td>0.0</td>\n",
       "    </tr>\n",
       "    <tr>\n",
       "      <th>6</th>\n",
       "      <td>8718</td>\n",
       "      <td>False</td>\n",
       "      <td>False</td>\n",
       "      <td>False</td>\n",
       "      <td>False</td>\n",
       "      <td>False</td>\n",
       "      <td>0</td>\n",
       "      <td>0</td>\n",
       "      <td>0</td>\n",
       "      <td>0</td>\n",
       "      <td>0</td>\n",
       "      <td>0.0</td>\n",
       "    </tr>\n",
       "    <tr>\n",
       "      <th>7</th>\n",
       "      <td>8719</td>\n",
       "      <td>False</td>\n",
       "      <td>False</td>\n",
       "      <td>False</td>\n",
       "      <td>False</td>\n",
       "      <td>False</td>\n",
       "      <td>0</td>\n",
       "      <td>0</td>\n",
       "      <td>0</td>\n",
       "      <td>0</td>\n",
       "      <td>0</td>\n",
       "      <td>0.0</td>\n",
       "    </tr>\n",
       "    <tr>\n",
       "      <th>8</th>\n",
       "      <td>8720</td>\n",
       "      <td>False</td>\n",
       "      <td>False</td>\n",
       "      <td>False</td>\n",
       "      <td>False</td>\n",
       "      <td>False</td>\n",
       "      <td>0</td>\n",
       "      <td>0</td>\n",
       "      <td>0</td>\n",
       "      <td>0</td>\n",
       "      <td>0</td>\n",
       "      <td>0.0</td>\n",
       "    </tr>\n",
       "    <tr>\n",
       "      <th>9</th>\n",
       "      <td>8721</td>\n",
       "      <td>False</td>\n",
       "      <td>False</td>\n",
       "      <td>False</td>\n",
       "      <td>False</td>\n",
       "      <td>False</td>\n",
       "      <td>0</td>\n",
       "      <td>0</td>\n",
       "      <td>0</td>\n",
       "      <td>0</td>\n",
       "      <td>0</td>\n",
       "      <td>0.0</td>\n",
       "    </tr>\n",
       "  </tbody>\n",
       "</table>\n",
       "</div>"
      ],
      "text/plain": [
       "   signal_id  \\\n",
       "0       8712   \n",
       "1       8713   \n",
       "2       8714   \n",
       "3       8715   \n",
       "4       8716   \n",
       "5       8717   \n",
       "6       8718   \n",
       "7       8719   \n",
       "8       8720   \n",
       "9       8721   \n",
       "\n",
       "   hierarchical_gru-summary-window-400-step-200-not-scaled_submission.csv  \\\n",
       "0                                              False                        \n",
       "1                                              False                        \n",
       "2                                              False                        \n",
       "3                                              False                        \n",
       "4                                              False                        \n",
       "5                                              False                        \n",
       "6                                              False                        \n",
       "7                                              False                        \n",
       "8                                              False                        \n",
       "9                                              False                        \n",
       "\n",
       "   cnn-attention_multiple_dropout_glu-summary_window_40_step_20_submission.csv  \\\n",
       "0                                              False                             \n",
       "1                                              False                             \n",
       "2                                              False                             \n",
       "3                                              False                             \n",
       "4                                              False                             \n",
       "5                                              False                             \n",
       "6                                              False                             \n",
       "7                                              False                             \n",
       "8                                              False                             \n",
       "9                                              False                             \n",
       "\n",
       "   bigru_attention_mixup_window_5000_summary_mixup_3_submission.csv  \\\n",
       "0                                              False                  \n",
       "1                                              False                  \n",
       "2                                              False                  \n",
       "3                                              False                  \n",
       "4                                              False                  \n",
       "5                                              False                  \n",
       "6                                              False                  \n",
       "7                                              False                  \n",
       "8                                              False                  \n",
       "9                                              False                  \n",
       "\n",
       "   cnn_8layer_attention_summary_window_40_step_20_submission.csv  \\\n",
       "0                                              False               \n",
       "1                                              False               \n",
       "2                                              False               \n",
       "3                                              False               \n",
       "4                                              False               \n",
       "5                                              False               \n",
       "6                                              False               \n",
       "7                                              False               \n",
       "8                                              False               \n",
       "9                                              False               \n",
       "\n",
       "   senet-resnet_50-summary_window_40_step_20_submission.csv  \\\n",
       "0                                              False          \n",
       "1                                              False          \n",
       "2                                              False          \n",
       "3                                              False          \n",
       "4                                              False          \n",
       "5                                              False          \n",
       "6                                              False          \n",
       "7                                              False          \n",
       "8                                              False          \n",
       "9                                              False          \n",
       "\n",
       "   transformer-multiple-dropouts_submission.csv  \\\n",
       "0                                             0   \n",
       "1                                             0   \n",
       "2                                             0   \n",
       "3                                             0   \n",
       "4                                             0   \n",
       "5                                             0   \n",
       "6                                             0   \n",
       "7                                             0   \n",
       "8                                             0   \n",
       "9                                             0   \n",
       "\n",
       "   roydatascience-eda-iso-pca-lle-stratified-lstm-attention_submission.csv  \\\n",
       "0                                                  0                         \n",
       "1                                                  0                         \n",
       "2                                                  0                         \n",
       "3                                                  0                         \n",
       "4                                                  0                         \n",
       "5                                                  0                         \n",
       "6                                                  0                         \n",
       "7                                                  0                         \n",
       "8                                                  0                         \n",
       "9                                                  0                         \n",
       "\n",
       "   attention-feature-engineering-aug-multidrop_submission.csv  \\\n",
       "0                                                  0            \n",
       "1                                                  0            \n",
       "2                                                  0            \n",
       "3                                                  0            \n",
       "4                                                  0            \n",
       "5                                                  0            \n",
       "6                                                  0            \n",
       "7                                                  0            \n",
       "8                                                  0            \n",
       "9                                                  0            \n",
       "\n",
       "   braquino-5-fold-lstm-attention-fully-commented-0-694_submission.csv  \\\n",
       "0                                                  0                     \n",
       "1                                                  0                     \n",
       "2                                                  0                     \n",
       "3                                                  0                     \n",
       "4                                                  0                     \n",
       "5                                                  0                     \n",
       "6                                                  0                     \n",
       "7                                                  0                     \n",
       "8                                                  0                     \n",
       "9                                                  0                     \n",
       "\n",
       "   vsb-base-neural-networ-dropout_submission.csv  n_true  \n",
       "0                                              0     0.0  \n",
       "1                                              0     0.0  \n",
       "2                                              0     0.0  \n",
       "3                                              0     0.0  \n",
       "4                                              0     0.0  \n",
       "5                                              0     0.0  \n",
       "6                                              0     0.0  \n",
       "7                                              0     0.0  \n",
       "8                                              0     0.0  \n",
       "9                                              0     0.0  "
      ]
     },
     "execution_count": 68,
     "metadata": {},
     "output_type": "execute_result"
    }
   ],
   "source": [
    "df[:10]"
   ]
  },
  {
   "cell_type": "code",
   "execution_count": 76,
   "metadata": {},
   "outputs": [
    {
     "data": {
      "text/plain": [
       "<matplotlib.axes._subplots.AxesSubplot at 0x7f62edf6a4a8>"
      ]
     },
     "execution_count": 76,
     "metadata": {},
     "output_type": "execute_result"
    },
    {
     "data": {
      "image/png": "[encoded data removed]",
      "text/plain": [
       "<Figure size 432x288 with 1 Axes>"
      ]
     },
     "metadata": {
      "needs_background": "light"
     },
     "output_type": "display_data"
    }
   ],
   "source": [
    "df.n_true.hist()"
   ]
  },
  {
   "cell_type": "code",
   "execution_count": 81,
   "metadata": {},
   "outputs": [
    {
     "data": {
      "text/plain": [
       "<matplotlib.axes._subplots.AxesSubplot at 0x7f62f27bd748>"
      ]
     },
     "execution_count": 81,
     "metadata": {},
     "output_type": "execute_result"
    },
    {
     "data": {
      "image/png": "[encoded data removed]",
      "text/plain": [
       "<Figure size 432x288 with 1 Axes>"
      ]
     },
     "metadata": {
      "needs_background": "light"
     },
     "output_type": "display_data"
    }
   ],
   "source": [
    "df.n_true.hist(cumulative=1)"
   ]
  },
  {
   "cell_type": "code",
   "execution_count": 77,
   "metadata": {},
   "outputs": [
    {
     "data": {
      "text/plain": [
       "0.0     19269\n",
       "10.0      330\n",
       "1.0       195\n",
       "2.0        99\n",
       "5.0        90\n",
       "4.0        75\n",
       "9.0        69\n",
       "3.0        63\n",
       "6.0        57\n",
       "7.0        54\n",
       "8.0        36\n",
       "Name: n_true, dtype: int64"
      ]
     },
     "execution_count": 77,
     "metadata": {},
     "output_type": "execute_result"
    }
   ],
   "source": [
    "df.n_true.value_counts()"
   ]
  },
  {
   "cell_type": "markdown",
   "metadata": {},
   "source": [
    "# vote model"
   ]
  },
  {
   "cell_type": "code",
   "execution_count": 72,
   "metadata": {},
   "outputs": [],
   "source": [
    "df[\"half_true\"] = df.n_true >= 5"
   ]
  },
  {
   "cell_type": "code",
   "execution_count": 73,
   "metadata": {},
   "outputs": [],
   "source": [
    "df[\"3_true\"] = df.n_true >= 3"
   ]
  },
  {
   "cell_type": "code",
   "execution_count": 78,
   "metadata": {},
   "outputs": [],
   "source": [
    "df[\"2_true\"] = df.n_true >= 2"
   ]
  },
  {
   "cell_type": "code",
   "execution_count": 80,
   "metadata": {},
   "outputs": [
    {
     "data": {
      "text/html": [
       "<div>\n",
       "<style scoped>\n",
       "    .dataframe tbody tr th:only-of-type {\n",
       "        vertical-align: middle;\n",
       "    }\n",
       "\n",
       "    .dataframe tbody tr th {\n",
       "        vertical-align: top;\n",
       "    }\n",
       "\n",
       "    .dataframe thead th {\n",
       "        text-align: right;\n",
       "    }\n",
       "</style>\n",
       "<table border=\"1\" class=\"dataframe\">\n",
       "  <thead>\n",
       "    <tr style=\"text-align: right;\">\n",
       "      <th></th>\n",
       "      <th>half_true</th>\n",
       "      <th>3_true</th>\n",
       "      <th>2_true</th>\n",
       "    </tr>\n",
       "  </thead>\n",
       "  <tbody>\n",
       "    <tr>\n",
       "      <th>count</th>\n",
       "      <td>20337</td>\n",
       "      <td>20337</td>\n",
       "      <td>20337</td>\n",
       "    </tr>\n",
       "    <tr>\n",
       "      <th>unique</th>\n",
       "      <td>2</td>\n",
       "      <td>2</td>\n",
       "      <td>2</td>\n",
       "    </tr>\n",
       "    <tr>\n",
       "      <th>top</th>\n",
       "      <td>False</td>\n",
       "      <td>False</td>\n",
       "      <td>False</td>\n",
       "    </tr>\n",
       "    <tr>\n",
       "      <th>freq</th>\n",
       "      <td>19701</td>\n",
       "      <td>19563</td>\n",
       "      <td>19464</td>\n",
       "    </tr>\n",
       "  </tbody>\n",
       "</table>\n",
       "</div>"
      ],
      "text/plain": [
       "       half_true 3_true 2_true\n",
       "count      20337  20337  20337\n",
       "unique         2      2      2\n",
       "top        False  False  False\n",
       "freq       19701  19563  19464"
      ]
     },
     "execution_count": 80,
     "metadata": {},
     "output_type": "execute_result"
    }
   ],
   "source": [
    "df[[\"half_true\", \"3_true\", \"2_true\"]].describe()"
   ]
  },
  {
   "cell_type": "code",
   "execution_count": 82,
   "metadata": {},
   "outputs": [
    {
     "data": {
      "text/plain": [
       "0    False\n",
       "1    False\n",
       "2    False\n",
       "3    False\n",
       "4    False\n",
       "5    False\n",
       "6    False\n",
       "7    False\n",
       "8    False\n",
       "9    False\n",
       "Name: 2_true, dtype: bool"
      ]
     },
     "execution_count": 82,
     "metadata": {},
     "output_type": "execute_result"
    }
   ],
   "source": [
    "df[\"2_true\"][:10]"
   ]
  },
  {
   "cell_type": "code",
   "execution_count": 91,
   "metadata": {},
   "outputs": [],
   "source": [
    "vote_2_df = df[[\"signal_id\", \"2_true\"]].rename({\"2_true\": \"target\"}, axis=1) "
   ]
  },
  {
   "cell_type": "code",
   "execution_count": 92,
   "metadata": {},
   "outputs": [
    {
     "data": {
      "text/html": [
       "<div>\n",
       "<style scoped>\n",
       "    .dataframe tbody tr th:only-of-type {\n",
       "        vertical-align: middle;\n",
       "    }\n",
       "\n",
       "    .dataframe tbody tr th {\n",
       "        vertical-align: top;\n",
       "    }\n",
       "\n",
       "    .dataframe thead th {\n",
       "        text-align: right;\n",
       "    }\n",
       "</style>\n",
       "<table border=\"1\" class=\"dataframe\">\n",
       "  <thead>\n",
       "    <tr style=\"text-align: right;\">\n",
       "      <th></th>\n",
       "      <th>signal_id</th>\n",
       "      <th>target</th>\n",
       "    </tr>\n",
       "  </thead>\n",
       "  <tbody>\n",
       "    <tr>\n",
       "      <th>0</th>\n",
       "      <td>8712</td>\n",
       "      <td>False</td>\n",
       "    </tr>\n",
       "    <tr>\n",
       "      <th>1</th>\n",
       "      <td>8713</td>\n",
       "      <td>False</td>\n",
       "    </tr>\n",
       "    <tr>\n",
       "      <th>2</th>\n",
       "      <td>8714</td>\n",
       "      <td>False</td>\n",
       "    </tr>\n",
       "    <tr>\n",
       "      <th>3</th>\n",
       "      <td>8715</td>\n",
       "      <td>False</td>\n",
       "    </tr>\n",
       "    <tr>\n",
       "      <th>4</th>\n",
       "      <td>8716</td>\n",
       "      <td>False</td>\n",
       "    </tr>\n",
       "    <tr>\n",
       "      <th>5</th>\n",
       "      <td>8717</td>\n",
       "      <td>False</td>\n",
       "    </tr>\n",
       "    <tr>\n",
       "      <th>6</th>\n",
       "      <td>8718</td>\n",
       "      <td>False</td>\n",
       "    </tr>\n",
       "    <tr>\n",
       "      <th>7</th>\n",
       "      <td>8719</td>\n",
       "      <td>False</td>\n",
       "    </tr>\n",
       "    <tr>\n",
       "      <th>8</th>\n",
       "      <td>8720</td>\n",
       "      <td>False</td>\n",
       "    </tr>\n",
       "    <tr>\n",
       "      <th>9</th>\n",
       "      <td>8721</td>\n",
       "      <td>False</td>\n",
       "    </tr>\n",
       "  </tbody>\n",
       "</table>\n",
       "</div>"
      ],
      "text/plain": [
       "   signal_id  target\n",
       "0       8712   False\n",
       "1       8713   False\n",
       "2       8714   False\n",
       "3       8715   False\n",
       "4       8716   False\n",
       "5       8717   False\n",
       "6       8718   False\n",
       "7       8719   False\n",
       "8       8720   False\n",
       "9       8721   False"
      ]
     },
     "execution_count": 92,
     "metadata": {},
     "output_type": "execute_result"
    }
   ],
   "source": [
    "vote_2_df[:10]"
   ]
  },
  {
   "cell_type": "code",
   "execution_count": 93,
   "metadata": {},
   "outputs": [
    {
     "data": {
      "text/plain": [
       "array([[  630,   243],\n",
       "       [    0, 19464]])"
      ]
     },
     "execution_count": 93,
     "metadata": {},
     "output_type": "execute_result"
    }
   ],
   "source": [
    "confusion_matrix(vote_2_df.target, df[\"vsb-base-neural-networ-dropout_submission.csv\"], labels=[True, False])"
   ]
  },
  {
   "cell_type": "code",
   "execution_count": 100,
   "metadata": {},
   "outputs": [
    {
     "data": {
      "text/plain": [
       "array([[  648,   225],\n",
       "       [   18, 19446]])"
      ]
     },
     "execution_count": 100,
     "metadata": {},
     "output_type": "execute_result"
    }
   ],
   "source": [
    "confusion_matrix(vote_2_df.target, df[\"attention-feature-engineering-aug-multidrop_submission.csv\"], labels=[True, False])"
   ]
  },
  {
   "cell_type": "code",
   "execution_count": 95,
   "metadata": {},
   "outputs": [],
   "source": [
    "vote_2_df.to_csv(\"vote_2_stack.csv\", index=None)"
   ]
  },
  {
   "cell_type": "code",
   "execution_count": 96,
   "metadata": {},
   "outputs": [],
   "source": [
    "vote_5_df = df[[\"signal_id\", \"half_true\"]].rename({\"half_true\": \"target\"}, axis=1) "
   ]
  },
  {
   "cell_type": "code",
   "execution_count": 97,
   "metadata": {},
   "outputs": [
    {
     "data": {
      "text/html": [
       "<div>\n",
       "<style scoped>\n",
       "    .dataframe tbody tr th:only-of-type {\n",
       "        vertical-align: middle;\n",
       "    }\n",
       "\n",
       "    .dataframe tbody tr th {\n",
       "        vertical-align: top;\n",
       "    }\n",
       "\n",
       "    .dataframe thead th {\n",
       "        text-align: right;\n",
       "    }\n",
       "</style>\n",
       "<table border=\"1\" class=\"dataframe\">\n",
       "  <thead>\n",
       "    <tr style=\"text-align: right;\">\n",
       "      <th></th>\n",
       "      <th>signal_id</th>\n",
       "      <th>target</th>\n",
       "    </tr>\n",
       "  </thead>\n",
       "  <tbody>\n",
       "    <tr>\n",
       "      <th>0</th>\n",
       "      <td>8712</td>\n",
       "      <td>False</td>\n",
       "    </tr>\n",
       "    <tr>\n",
       "      <th>1</th>\n",
       "      <td>8713</td>\n",
       "      <td>False</td>\n",
       "    </tr>\n",
       "    <tr>\n",
       "      <th>2</th>\n",
       "      <td>8714</td>\n",
       "      <td>False</td>\n",
       "    </tr>\n",
       "    <tr>\n",
       "      <th>3</th>\n",
       "      <td>8715</td>\n",
       "      <td>False</td>\n",
       "    </tr>\n",
       "    <tr>\n",
       "      <th>4</th>\n",
       "      <td>8716</td>\n",
       "      <td>False</td>\n",
       "    </tr>\n",
       "    <tr>\n",
       "      <th>5</th>\n",
       "      <td>8717</td>\n",
       "      <td>False</td>\n",
       "    </tr>\n",
       "    <tr>\n",
       "      <th>6</th>\n",
       "      <td>8718</td>\n",
       "      <td>False</td>\n",
       "    </tr>\n",
       "    <tr>\n",
       "      <th>7</th>\n",
       "      <td>8719</td>\n",
       "      <td>False</td>\n",
       "    </tr>\n",
       "    <tr>\n",
       "      <th>8</th>\n",
       "      <td>8720</td>\n",
       "      <td>False</td>\n",
       "    </tr>\n",
       "    <tr>\n",
       "      <th>9</th>\n",
       "      <td>8721</td>\n",
       "      <td>False</td>\n",
       "    </tr>\n",
       "  </tbody>\n",
       "</table>\n",
       "</div>"
      ],
      "text/plain": [
       "   signal_id  target\n",
       "0       8712   False\n",
       "1       8713   False\n",
       "2       8714   False\n",
       "3       8715   False\n",
       "4       8716   False\n",
       "5       8717   False\n",
       "6       8718   False\n",
       "7       8719   False\n",
       "8       8720   False\n",
       "9       8721   False"
      ]
     },
     "execution_count": 97,
     "metadata": {},
     "output_type": "execute_result"
    }
   ],
   "source": [
    "vote_5_df[:10]"
   ]
  },
  {
   "cell_type": "code",
   "execution_count": 98,
   "metadata": {},
   "outputs": [
    {
     "data": {
      "text/plain": [
       "array([[  582,    54],\n",
       "       [   48, 19653]])"
      ]
     },
     "execution_count": 98,
     "metadata": {},
     "output_type": "execute_result"
    }
   ],
   "source": [
    "confusion_matrix(vote_5_df.target, df[\"vsb-base-neural-networ-dropout_submission.csv\"], labels=[True, False])"
   ]
  },
  {
   "cell_type": "code",
   "execution_count": 99,
   "metadata": {},
   "outputs": [],
   "source": [
    "vote_5_df.to_csv(\"vote_5_stack.csv\", index=None)"
   ]
  },
  {
   "cell_type": "code",
   "execution_count": null,
   "metadata": {},
   "outputs": [],
   "source": []
  }
 ],
 "metadata": {
  "kernelspec": {
   "display_name": "Python 3",
   "language": "python",
   "name": "python3"
  },
  "language_info": {
   "codemirror_mode": {
    "name": "ipython",
    "version": 3
   },
   "file_extension": ".py",
   "mimetype": "text/x-python",
   "name": "python",
   "nbconvert_exporter": "python",
   "pygments_lexer": "ipython3",
   "version": "3.7.2"
  }
 },
 "nbformat": 4,
 "nbformat_minor": 2
}
