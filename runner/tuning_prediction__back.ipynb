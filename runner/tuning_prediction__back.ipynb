{
 "cells": [
  {
   "cell_type": "code",
   "execution_count": 2,
   "metadata": {},
   "outputs": [],
   "source": [
    "from pathlib import Path"
   ]
  },
  {
   "cell_type": "code",
   "execution_count": 4,
   "metadata": {},
   "outputs": [],
   "source": [
    "model_root = Path(\"/mnt/share/vbs-power-line-fault-detection/models/bigru_attention/window_5000_summary\")"
   ]
  },
  {
   "cell_type": "code",
   "execution_count": 5,
   "metadata": {},
   "outputs": [
    {
     "data": {
      "text/plain": [
       "[PosixPath('/mnt/share/vbs-power-line-fault-detection/models/bigru_attention/window_5000_summary/predicted.csv'),\n",
       " PosixPath('/mnt/share/vbs-power-line-fault-detection/models/bigru_attention/window_5000_summary/cv6'),\n",
       " PosixPath('/mnt/share/vbs-power-line-fault-detection/models/bigru_attention/window_5000_summary/train.log'),\n",
       " PosixPath('/mnt/share/vbs-power-line-fault-detection/models/bigru_attention/window_5000_summary/cv3'),\n",
       " PosixPath('/mnt/share/vbs-power-line-fault-detection/models/bigru_attention/window_5000_summary/submission_hard.csv'),\n",
       " PosixPath('/mnt/share/vbs-power-line-fault-detection/models/bigru_attention/window_5000_summary/cv9'),\n",
       " PosixPath('/mnt/share/vbs-power-line-fault-detection/models/bigru_attention/window_5000_summary/nohup.out'),\n",
       " PosixPath('/mnt/share/vbs-power-line-fault-detection/models/bigru_attention/window_5000_summary/cv0'),\n",
       " PosixPath('/mnt/share/vbs-power-line-fault-detection/models/bigru_attention/window_5000_summary/submission_soft.csv'),\n",
       " PosixPath('/mnt/share/vbs-power-line-fault-detection/models/bigru_attention/window_5000_summary/cv1'),\n",
       " PosixPath('/mnt/share/vbs-power-line-fault-detection/models/bigru_attention/window_5000_summary/trainpredicted.csv'),\n",
       " PosixPath('/mnt/share/vbs-power-line-fault-detection/models/bigru_attention/window_5000_summary/cv5'),\n",
       " PosixPath('/mnt/share/vbs-power-line-fault-detection/models/bigru_attention/window_5000_summary/cv8'),\n",
       " PosixPath('/mnt/share/vbs-power-line-fault-detection/models/bigru_attention/window_5000_summary/cv4'),\n",
       " PosixPath('/mnt/share/vbs-power-line-fault-detection/models/bigru_attention/window_5000_summary/cv7'),\n",
       " PosixPath('/mnt/share/vbs-power-line-fault-detection/models/bigru_attention/window_5000_summary/cv2')]"
      ]
     },
     "execution_count": 5,
     "metadata": {},
     "output_type": "execute_result"
    }
   ],
   "source": [
    "list(model_root.glob(\"*\"))"
   ]
  },
  {
   "cell_type": "code",
   "execution_count": 6,
   "metadata": {},
   "outputs": [],
   "source": [
    "import pandas as pd"
   ]
  },
  {
   "cell_type": "code",
   "execution_count": 7,
   "metadata": {},
   "outputs": [],
   "source": [
    "train_predicted = pd.read_csv(model_root.joinpath(\"trainpredicted.csv\"))"
   ]
  },
  {
   "cell_type": "code",
   "execution_count": 9,
   "metadata": {},
   "outputs": [
    {
     "data": {
      "text/html": [
       "<div>\n",
       "<style scoped>\n",
       "    .dataframe tbody tr th:only-of-type {\n",
       "        vertical-align: middle;\n",
       "    }\n",
       "\n",
       "    .dataframe tbody tr th {\n",
       "        vertical-align: top;\n",
       "    }\n",
       "\n",
       "    .dataframe thead th {\n",
       "        text-align: right;\n",
       "    }\n",
       "</style>\n",
       "<table border=\"1\" class=\"dataframe\">\n",
       "  <thead>\n",
       "    <tr style=\"text-align: right;\">\n",
       "      <th></th>\n",
       "      <th>Unnamed: 0</th>\n",
       "      <th>id_measurement</th>\n",
       "      <th>hard_voted_class</th>\n",
       "      <th>avg_probability</th>\n",
       "      <th>soft_voted_class</th>\n",
       "    </tr>\n",
       "  </thead>\n",
       "  <tbody>\n",
       "    <tr>\n",
       "      <th>0</th>\n",
       "      <td>0</td>\n",
       "      <td>0</td>\n",
       "      <td>0</td>\n",
       "      <td>0.110972</td>\n",
       "      <td>0.0</td>\n",
       "    </tr>\n",
       "    <tr>\n",
       "      <th>1</th>\n",
       "      <td>1</td>\n",
       "      <td>1</td>\n",
       "      <td>1</td>\n",
       "      <td>0.566838</td>\n",
       "      <td>1.0</td>\n",
       "    </tr>\n",
       "    <tr>\n",
       "      <th>2</th>\n",
       "      <td>2</td>\n",
       "      <td>2</td>\n",
       "      <td>0</td>\n",
       "      <td>0.005006</td>\n",
       "      <td>0.0</td>\n",
       "    </tr>\n",
       "    <tr>\n",
       "      <th>3</th>\n",
       "      <td>3</td>\n",
       "      <td>3</td>\n",
       "      <td>0</td>\n",
       "      <td>0.003573</td>\n",
       "      <td>0.0</td>\n",
       "    </tr>\n",
       "    <tr>\n",
       "      <th>4</th>\n",
       "      <td>4</td>\n",
       "      <td>4</td>\n",
       "      <td>0</td>\n",
       "      <td>0.016359</td>\n",
       "      <td>0.0</td>\n",
       "    </tr>\n",
       "    <tr>\n",
       "      <th>5</th>\n",
       "      <td>5</td>\n",
       "      <td>5</td>\n",
       "      <td>0</td>\n",
       "      <td>0.005379</td>\n",
       "      <td>0.0</td>\n",
       "    </tr>\n",
       "    <tr>\n",
       "      <th>6</th>\n",
       "      <td>6</td>\n",
       "      <td>6</td>\n",
       "      <td>0</td>\n",
       "      <td>0.042299</td>\n",
       "      <td>0.0</td>\n",
       "    </tr>\n",
       "    <tr>\n",
       "      <th>7</th>\n",
       "      <td>7</td>\n",
       "      <td>7</td>\n",
       "      <td>0</td>\n",
       "      <td>0.003387</td>\n",
       "      <td>0.0</td>\n",
       "    </tr>\n",
       "    <tr>\n",
       "      <th>8</th>\n",
       "      <td>8</td>\n",
       "      <td>8</td>\n",
       "      <td>0</td>\n",
       "      <td>0.068729</td>\n",
       "      <td>0.0</td>\n",
       "    </tr>\n",
       "    <tr>\n",
       "      <th>9</th>\n",
       "      <td>9</td>\n",
       "      <td>9</td>\n",
       "      <td>0</td>\n",
       "      <td>0.010627</td>\n",
       "      <td>0.0</td>\n",
       "    </tr>\n",
       "  </tbody>\n",
       "</table>\n",
       "</div>"
      ],
      "text/plain": [
       "   Unnamed: 0  id_measurement  hard_voted_class  avg_probability  \\\n",
       "0           0               0                 0         0.110972   \n",
       "1           1               1                 1         0.566838   \n",
       "2           2               2                 0         0.005006   \n",
       "3           3               3                 0         0.003573   \n",
       "4           4               4                 0         0.016359   \n",
       "5           5               5                 0         0.005379   \n",
       "6           6               6                 0         0.042299   \n",
       "7           7               7                 0         0.003387   \n",
       "8           8               8                 0         0.068729   \n",
       "9           9               9                 0         0.010627   \n",
       "\n",
       "   soft_voted_class  \n",
       "0               0.0  \n",
       "1               1.0  \n",
       "2               0.0  \n",
       "3               0.0  \n",
       "4               0.0  \n",
       "5               0.0  \n",
       "6               0.0  \n",
       "7               0.0  \n",
       "8               0.0  \n",
       "9               0.0  "
      ]
     },
     "execution_count": 9,
     "metadata": {},
     "output_type": "execute_result"
    }
   ],
   "source": [
    "train_predicted[:10]"
   ]
  },
  {
   "cell_type": "code",
   "execution_count": 15,
   "metadata": {},
   "outputs": [],
   "source": [
    "import os"
   ]
  },
  {
   "cell_type": "code",
   "execution_count": 18,
   "metadata": {},
   "outputs": [],
   "source": [
    "os.sys.path.append(\"..\")"
   ]
  },
  {
   "cell_type": "code",
   "execution_count": 19,
   "metadata": {},
   "outputs": [],
   "source": [
    "from utils.data.dataset import VbsDataSetFactory"
   ]
  },
  {
   "cell_type": "code",
   "execution_count": 20,
   "metadata": {},
   "outputs": [],
   "source": [
    "vbsdata = VbsDataSetFactory()()"
   ]
  },
  {
   "cell_type": "code",
   "execution_count": 21,
   "metadata": {},
   "outputs": [],
   "source": [
    "train_predicted[\"target\"] = vbsdata.targets"
   ]
  },
  {
   "cell_type": "code",
   "execution_count": 22,
   "metadata": {},
   "outputs": [
    {
     "data": {
      "text/html": [
       "<div>\n",
       "<style scoped>\n",
       "    .dataframe tbody tr th:only-of-type {\n",
       "        vertical-align: middle;\n",
       "    }\n",
       "\n",
       "    .dataframe tbody tr th {\n",
       "        vertical-align: top;\n",
       "    }\n",
       "\n",
       "    .dataframe thead th {\n",
       "        text-align: right;\n",
       "    }\n",
       "</style>\n",
       "<table border=\"1\" class=\"dataframe\">\n",
       "  <thead>\n",
       "    <tr style=\"text-align: right;\">\n",
       "      <th></th>\n",
       "      <th>Unnamed: 0</th>\n",
       "      <th>id_measurement</th>\n",
       "      <th>hard_voted_class</th>\n",
       "      <th>avg_probability</th>\n",
       "      <th>soft_voted_class</th>\n",
       "      <th>target</th>\n",
       "    </tr>\n",
       "  </thead>\n",
       "  <tbody>\n",
       "    <tr>\n",
       "      <th>0</th>\n",
       "      <td>0</td>\n",
       "      <td>0</td>\n",
       "      <td>0</td>\n",
       "      <td>0.110972</td>\n",
       "      <td>0.0</td>\n",
       "      <td>0</td>\n",
       "    </tr>\n",
       "    <tr>\n",
       "      <th>1</th>\n",
       "      <td>1</td>\n",
       "      <td>1</td>\n",
       "      <td>1</td>\n",
       "      <td>0.566838</td>\n",
       "      <td>1.0</td>\n",
       "      <td>1</td>\n",
       "    </tr>\n",
       "    <tr>\n",
       "      <th>2</th>\n",
       "      <td>2</td>\n",
       "      <td>2</td>\n",
       "      <td>0</td>\n",
       "      <td>0.005006</td>\n",
       "      <td>0.0</td>\n",
       "      <td>0</td>\n",
       "    </tr>\n",
       "    <tr>\n",
       "      <th>3</th>\n",
       "      <td>3</td>\n",
       "      <td>3</td>\n",
       "      <td>0</td>\n",
       "      <td>0.003573</td>\n",
       "      <td>0.0</td>\n",
       "      <td>0</td>\n",
       "    </tr>\n",
       "    <tr>\n",
       "      <th>4</th>\n",
       "      <td>4</td>\n",
       "      <td>4</td>\n",
       "      <td>0</td>\n",
       "      <td>0.016359</td>\n",
       "      <td>0.0</td>\n",
       "      <td>0</td>\n",
       "    </tr>\n",
       "    <tr>\n",
       "      <th>5</th>\n",
       "      <td>5</td>\n",
       "      <td>5</td>\n",
       "      <td>0</td>\n",
       "      <td>0.005379</td>\n",
       "      <td>0.0</td>\n",
       "      <td>0</td>\n",
       "    </tr>\n",
       "    <tr>\n",
       "      <th>6</th>\n",
       "      <td>6</td>\n",
       "      <td>6</td>\n",
       "      <td>0</td>\n",
       "      <td>0.042299</td>\n",
       "      <td>0.0</td>\n",
       "      <td>0</td>\n",
       "    </tr>\n",
       "    <tr>\n",
       "      <th>7</th>\n",
       "      <td>7</td>\n",
       "      <td>7</td>\n",
       "      <td>0</td>\n",
       "      <td>0.003387</td>\n",
       "      <td>0.0</td>\n",
       "      <td>0</td>\n",
       "    </tr>\n",
       "    <tr>\n",
       "      <th>8</th>\n",
       "      <td>8</td>\n",
       "      <td>8</td>\n",
       "      <td>0</td>\n",
       "      <td>0.068729</td>\n",
       "      <td>0.0</td>\n",
       "      <td>0</td>\n",
       "    </tr>\n",
       "    <tr>\n",
       "      <th>9</th>\n",
       "      <td>9</td>\n",
       "      <td>9</td>\n",
       "      <td>0</td>\n",
       "      <td>0.010627</td>\n",
       "      <td>0.0</td>\n",
       "      <td>0</td>\n",
       "    </tr>\n",
       "  </tbody>\n",
       "</table>\n",
       "</div>"
      ],
      "text/plain": [
       "   Unnamed: 0  id_measurement  hard_voted_class  avg_probability  \\\n",
       "0           0               0                 0         0.110972   \n",
       "1           1               1                 1         0.566838   \n",
       "2           2               2                 0         0.005006   \n",
       "3           3               3                 0         0.003573   \n",
       "4           4               4                 0         0.016359   \n",
       "5           5               5                 0         0.005379   \n",
       "6           6               6                 0         0.042299   \n",
       "7           7               7                 0         0.003387   \n",
       "8           8               8                 0         0.068729   \n",
       "9           9               9                 0         0.010627   \n",
       "\n",
       "   soft_voted_class  target  \n",
       "0               0.0       0  \n",
       "1               1.0       1  \n",
       "2               0.0       0  \n",
       "3               0.0       0  \n",
       "4               0.0       0  \n",
       "5               0.0       0  \n",
       "6               0.0       0  \n",
       "7               0.0       0  \n",
       "8               0.0       0  \n",
       "9               0.0       0  "
      ]
     },
     "execution_count": 22,
     "metadata": {},
     "output_type": "execute_result"
    }
   ],
   "source": [
    "train_predicted[:10]"
   ]
  },
  {
   "cell_type": "code",
   "execution_count": 23,
   "metadata": {},
   "outputs": [],
   "source": [
    "import seaborn as sns"
   ]
  },
  {
   "cell_type": "code",
   "execution_count": 28,
   "metadata": {},
   "outputs": [
    {
     "data": {
      "text/plain": [
       "<matplotlib.axes._subplots.AxesSubplot at 0x7fe2747221d0>"
      ]
     },
     "execution_count": 28,
     "metadata": {},
     "output_type": "execute_result"
    },
    {
     "data": {
      "image/png": "[encoded data removed]",
      "text/plain": [
       "<Figure size 432x288 with 1 Axes>"
      ]
     },
     "metadata": {
      "needs_background": "light"
     },
     "output_type": "display_data"
    }
   ],
   "source": [
    "sns.scatterplot(x=\"avg_probability\", y=\"hard_voted_class\", hue=\"target\", data=train_predicted)"
   ]
  },
  {
   "cell_type": "code",
   "execution_count": 36,
   "metadata": {},
   "outputs": [],
   "source": [
    "cvs = list(model_root.glob(\"cv*\"))"
   ]
  },
  {
   "cell_type": "code",
   "execution_count": 37,
   "metadata": {},
   "outputs": [
    {
     "data": {
      "text/plain": [
       "[PosixPath('/mnt/share/vbs-power-line-fault-detection/models/bigru_attention/window_5000_summary/cv6'),\n",
       " PosixPath('/mnt/share/vbs-power-line-fault-detection/models/bigru_attention/window_5000_summary/cv3'),\n",
       " PosixPath('/mnt/share/vbs-power-line-fault-detection/models/bigru_attention/window_5000_summary/cv9'),\n",
       " PosixPath('/mnt/share/vbs-power-line-fault-detection/models/bigru_attention/window_5000_summary/cv0'),\n",
       " PosixPath('/mnt/share/vbs-power-line-fault-detection/models/bigru_attention/window_5000_summary/cv1'),\n",
       " PosixPath('/mnt/share/vbs-power-line-fault-detection/models/bigru_attention/window_5000_summary/cv5'),\n",
       " PosixPath('/mnt/share/vbs-power-line-fault-detection/models/bigru_attention/window_5000_summary/cv8'),\n",
       " PosixPath('/mnt/share/vbs-power-line-fault-detection/models/bigru_attention/window_5000_summary/cv4'),\n",
       " PosixPath('/mnt/share/vbs-power-line-fault-detection/models/bigru_attention/window_5000_summary/cv7'),\n",
       " PosixPath('/mnt/share/vbs-power-line-fault-detection/models/bigru_attention/window_5000_summary/cv2')]"
      ]
     },
     "execution_count": 37,
     "metadata": {},
     "output_type": "execute_result"
    }
   ],
   "source": [
    "cvs"
   ]
  },
  {
   "cell_type": "code",
   "execution_count": 33,
   "metadata": {},
   "outputs": [
    {
     "data": {
      "text/plain": [
       "[PosixPath('/mnt/share/vbs-power-line-fault-detection/models/bigru_attention/window_5000_summary/cv6/predicted.csv'),\n",
       " PosixPath('/mnt/share/vbs-power-line-fault-detection/models/bigru_attention/window_5000_summary/cv6/trainpredicted.csv'),\n",
       " PosixPath('/mnt/share/vbs-power-line-fault-detection/models/bigru_attention/window_5000_summary/cv6/valid_csv'),\n",
       " PosixPath('/mnt/share/vbs-power-line-fault-detection/models/bigru_attention/window_5000_summary/cv6/train.csv'),\n",
       " PosixPath('/mnt/share/vbs-power-line-fault-detection/models/bigru_attention/window_5000_summary/cv6/model'),\n",
       " PosixPath('/mnt/share/vbs-power-line-fault-detection/models/bigru_attention/window_5000_summary/cv6/result.csv')]"
      ]
     },
     "execution_count": 33,
     "metadata": {},
     "output_type": "execute_result"
    }
   ],
   "source": [
    "list(cvs[0].glob(\"*\"))"
   ]
  },
  {
   "cell_type": "code",
   "execution_count": 38,
   "metadata": {},
   "outputs": [],
   "source": [
    "cvs = [pd.read_csv(cv_path.joinpath(\"trainpredicted.csv\")) for cv_path in cvs]"
   ]
  },
  {
   "cell_type": "code",
   "execution_count": 40,
   "metadata": {},
   "outputs": [
    {
     "data": {
      "text/html": [
       "<div>\n",
       "<style scoped>\n",
       "    .dataframe tbody tr th:only-of-type {\n",
       "        vertical-align: middle;\n",
       "    }\n",
       "\n",
       "    .dataframe tbody tr th {\n",
       "        vertical-align: top;\n",
       "    }\n",
       "\n",
       "    .dataframe thead th {\n",
       "        text-align: right;\n",
       "    }\n",
       "</style>\n",
       "<table border=\"1\" class=\"dataframe\">\n",
       "  <thead>\n",
       "    <tr style=\"text-align: right;\">\n",
       "      <th></th>\n",
       "      <th>Unnamed: 0</th>\n",
       "      <th>id_measurement</th>\n",
       "      <th>probability</th>\n",
       "      <th>class</th>\n",
       "    </tr>\n",
       "  </thead>\n",
       "  <tbody>\n",
       "    <tr>\n",
       "      <th>0</th>\n",
       "      <td>0</td>\n",
       "      <td>0</td>\n",
       "      <td>0.117825</td>\n",
       "      <td>0.0</td>\n",
       "    </tr>\n",
       "    <tr>\n",
       "      <th>1</th>\n",
       "      <td>1</td>\n",
       "      <td>1</td>\n",
       "      <td>0.739208</td>\n",
       "      <td>1.0</td>\n",
       "    </tr>\n",
       "    <tr>\n",
       "      <th>2</th>\n",
       "      <td>2</td>\n",
       "      <td>2</td>\n",
       "      <td>0.004025</td>\n",
       "      <td>0.0</td>\n",
       "    </tr>\n",
       "    <tr>\n",
       "      <th>3</th>\n",
       "      <td>3</td>\n",
       "      <td>3</td>\n",
       "      <td>0.001034</td>\n",
       "      <td>0.0</td>\n",
       "    </tr>\n",
       "    <tr>\n",
       "      <th>4</th>\n",
       "      <td>4</td>\n",
       "      <td>4</td>\n",
       "      <td>0.006825</td>\n",
       "      <td>0.0</td>\n",
       "    </tr>\n",
       "    <tr>\n",
       "      <th>5</th>\n",
       "      <td>5</td>\n",
       "      <td>5</td>\n",
       "      <td>0.003569</td>\n",
       "      <td>0.0</td>\n",
       "    </tr>\n",
       "    <tr>\n",
       "      <th>6</th>\n",
       "      <td>6</td>\n",
       "      <td>6</td>\n",
       "      <td>0.007008</td>\n",
       "      <td>0.0</td>\n",
       "    </tr>\n",
       "    <tr>\n",
       "      <th>7</th>\n",
       "      <td>7</td>\n",
       "      <td>7</td>\n",
       "      <td>0.001785</td>\n",
       "      <td>0.0</td>\n",
       "    </tr>\n",
       "    <tr>\n",
       "      <th>8</th>\n",
       "      <td>8</td>\n",
       "      <td>8</td>\n",
       "      <td>0.062714</td>\n",
       "      <td>0.0</td>\n",
       "    </tr>\n",
       "    <tr>\n",
       "      <th>9</th>\n",
       "      <td>9</td>\n",
       "      <td>9</td>\n",
       "      <td>0.007471</td>\n",
       "      <td>0.0</td>\n",
       "    </tr>\n",
       "  </tbody>\n",
       "</table>\n",
       "</div>"
      ],
      "text/plain": [
       "   Unnamed: 0  id_measurement  probability  class\n",
       "0           0               0     0.117825    0.0\n",
       "1           1               1     0.739208    1.0\n",
       "2           2               2     0.004025    0.0\n",
       "3           3               3     0.001034    0.0\n",
       "4           4               4     0.006825    0.0\n",
       "5           5               5     0.003569    0.0\n",
       "6           6               6     0.007008    0.0\n",
       "7           7               7     0.001785    0.0\n",
       "8           8               8     0.062714    0.0\n",
       "9           9               9     0.007471    0.0"
      ]
     },
     "execution_count": 40,
     "metadata": {},
     "output_type": "execute_result"
    }
   ],
   "source": [
    "cvs[0][:10]"
   ]
  },
  {
   "cell_type": "code",
   "execution_count": 41,
   "metadata": {},
   "outputs": [],
   "source": [
    "for idx, df in enumerate(cvs):\n",
    "    train_predicted[\"cv{}_probability\".format(idx)] = df[\"probability\"]"
   ]
  },
  {
   "cell_type": "code",
   "execution_count": 42,
   "metadata": {},
   "outputs": [
    {
     "data": {
      "text/html": [
       "<div>\n",
       "<style scoped>\n",
       "    .dataframe tbody tr th:only-of-type {\n",
       "        vertical-align: middle;\n",
       "    }\n",
       "\n",
       "    .dataframe tbody tr th {\n",
       "        vertical-align: top;\n",
       "    }\n",
       "\n",
       "    .dataframe thead th {\n",
       "        text-align: right;\n",
       "    }\n",
       "</style>\n",
       "<table border=\"1\" class=\"dataframe\">\n",
       "  <thead>\n",
       "    <tr style=\"text-align: right;\">\n",
       "      <th></th>\n",
       "      <th>Unnamed: 0</th>\n",
       "      <th>id_measurement</th>\n",
       "      <th>hard_voted_class</th>\n",
       "      <th>avg_probability</th>\n",
       "      <th>soft_voted_class</th>\n",
       "      <th>target</th>\n",
       "      <th>cv0_probability</th>\n",
       "      <th>cv1_probability</th>\n",
       "      <th>cv2_probability</th>\n",
       "      <th>cv3_probability</th>\n",
       "      <th>cv4_probability</th>\n",
       "      <th>cv5_probability</th>\n",
       "      <th>cv6_probability</th>\n",
       "      <th>cv7_probability</th>\n",
       "      <th>cv8_probability</th>\n",
       "      <th>cv9_probability</th>\n",
       "    </tr>\n",
       "  </thead>\n",
       "  <tbody>\n",
       "    <tr>\n",
       "      <th>0</th>\n",
       "      <td>0</td>\n",
       "      <td>0</td>\n",
       "      <td>0</td>\n",
       "      <td>0.110972</td>\n",
       "      <td>0.0</td>\n",
       "      <td>0</td>\n",
       "      <td>0.117825</td>\n",
       "      <td>0.184985</td>\n",
       "      <td>0.009444</td>\n",
       "      <td>0.250510</td>\n",
       "      <td>0.086542</td>\n",
       "      <td>0.318512</td>\n",
       "      <td>0.038524</td>\n",
       "      <td>0.006727</td>\n",
       "      <td>0.034704</td>\n",
       "      <td>0.061950</td>\n",
       "    </tr>\n",
       "    <tr>\n",
       "      <th>1</th>\n",
       "      <td>1</td>\n",
       "      <td>1</td>\n",
       "      <td>1</td>\n",
       "      <td>0.566838</td>\n",
       "      <td>1.0</td>\n",
       "      <td>1</td>\n",
       "      <td>0.739208</td>\n",
       "      <td>0.706238</td>\n",
       "      <td>0.543616</td>\n",
       "      <td>0.688767</td>\n",
       "      <td>0.637147</td>\n",
       "      <td>0.419528</td>\n",
       "      <td>0.512436</td>\n",
       "      <td>0.032640</td>\n",
       "      <td>0.748231</td>\n",
       "      <td>0.640571</td>\n",
       "    </tr>\n",
       "    <tr>\n",
       "      <th>2</th>\n",
       "      <td>2</td>\n",
       "      <td>2</td>\n",
       "      <td>0</td>\n",
       "      <td>0.005006</td>\n",
       "      <td>0.0</td>\n",
       "      <td>0</td>\n",
       "      <td>0.004025</td>\n",
       "      <td>0.003100</td>\n",
       "      <td>0.004816</td>\n",
       "      <td>0.015349</td>\n",
       "      <td>0.002282</td>\n",
       "      <td>0.009477</td>\n",
       "      <td>0.002416</td>\n",
       "      <td>0.004842</td>\n",
       "      <td>0.002069</td>\n",
       "      <td>0.001684</td>\n",
       "    </tr>\n",
       "    <tr>\n",
       "      <th>3</th>\n",
       "      <td>3</td>\n",
       "      <td>3</td>\n",
       "      <td>0</td>\n",
       "      <td>0.003573</td>\n",
       "      <td>0.0</td>\n",
       "      <td>0</td>\n",
       "      <td>0.001034</td>\n",
       "      <td>0.000161</td>\n",
       "      <td>0.004823</td>\n",
       "      <td>0.011123</td>\n",
       "      <td>0.000603</td>\n",
       "      <td>0.006590</td>\n",
       "      <td>0.002797</td>\n",
       "      <td>0.007719</td>\n",
       "      <td>0.000271</td>\n",
       "      <td>0.000607</td>\n",
       "    </tr>\n",
       "    <tr>\n",
       "      <th>4</th>\n",
       "      <td>4</td>\n",
       "      <td>4</td>\n",
       "      <td>0</td>\n",
       "      <td>0.016359</td>\n",
       "      <td>0.0</td>\n",
       "      <td>0</td>\n",
       "      <td>0.006825</td>\n",
       "      <td>0.032217</td>\n",
       "      <td>0.010957</td>\n",
       "      <td>0.040141</td>\n",
       "      <td>0.009451</td>\n",
       "      <td>0.016527</td>\n",
       "      <td>0.015726</td>\n",
       "      <td>0.013741</td>\n",
       "      <td>0.007778</td>\n",
       "      <td>0.010223</td>\n",
       "    </tr>\n",
       "    <tr>\n",
       "      <th>5</th>\n",
       "      <td>5</td>\n",
       "      <td>5</td>\n",
       "      <td>0</td>\n",
       "      <td>0.005379</td>\n",
       "      <td>0.0</td>\n",
       "      <td>0</td>\n",
       "      <td>0.003569</td>\n",
       "      <td>0.001400</td>\n",
       "      <td>0.004307</td>\n",
       "      <td>0.014665</td>\n",
       "      <td>0.002484</td>\n",
       "      <td>0.013621</td>\n",
       "      <td>0.003397</td>\n",
       "      <td>0.004627</td>\n",
       "      <td>0.003471</td>\n",
       "      <td>0.002254</td>\n",
       "    </tr>\n",
       "    <tr>\n",
       "      <th>6</th>\n",
       "      <td>6</td>\n",
       "      <td>6</td>\n",
       "      <td>0</td>\n",
       "      <td>0.042299</td>\n",
       "      <td>0.0</td>\n",
       "      <td>0</td>\n",
       "      <td>0.007008</td>\n",
       "      <td>0.002124</td>\n",
       "      <td>0.076197</td>\n",
       "      <td>0.140924</td>\n",
       "      <td>0.001602</td>\n",
       "      <td>0.112883</td>\n",
       "      <td>0.013845</td>\n",
       "      <td>0.062766</td>\n",
       "      <td>0.001106</td>\n",
       "      <td>0.004535</td>\n",
       "    </tr>\n",
       "    <tr>\n",
       "      <th>7</th>\n",
       "      <td>7</td>\n",
       "      <td>7</td>\n",
       "      <td>0</td>\n",
       "      <td>0.003387</td>\n",
       "      <td>0.0</td>\n",
       "      <td>0</td>\n",
       "      <td>0.001785</td>\n",
       "      <td>0.000421</td>\n",
       "      <td>0.003847</td>\n",
       "      <td>0.009021</td>\n",
       "      <td>0.001295</td>\n",
       "      <td>0.009447</td>\n",
       "      <td>0.002014</td>\n",
       "      <td>0.004164</td>\n",
       "      <td>0.000862</td>\n",
       "      <td>0.001016</td>\n",
       "    </tr>\n",
       "    <tr>\n",
       "      <th>8</th>\n",
       "      <td>8</td>\n",
       "      <td>8</td>\n",
       "      <td>0</td>\n",
       "      <td>0.068729</td>\n",
       "      <td>0.0</td>\n",
       "      <td>0</td>\n",
       "      <td>0.062714</td>\n",
       "      <td>0.139384</td>\n",
       "      <td>0.024842</td>\n",
       "      <td>0.194130</td>\n",
       "      <td>0.054507</td>\n",
       "      <td>0.076940</td>\n",
       "      <td>0.038351</td>\n",
       "      <td>0.028042</td>\n",
       "      <td>0.013824</td>\n",
       "      <td>0.054555</td>\n",
       "    </tr>\n",
       "    <tr>\n",
       "      <th>9</th>\n",
       "      <td>9</td>\n",
       "      <td>9</td>\n",
       "      <td>0</td>\n",
       "      <td>0.010627</td>\n",
       "      <td>0.0</td>\n",
       "      <td>0</td>\n",
       "      <td>0.007471</td>\n",
       "      <td>0.026347</td>\n",
       "      <td>0.004264</td>\n",
       "      <td>0.025294</td>\n",
       "      <td>0.007936</td>\n",
       "      <td>0.011977</td>\n",
       "      <td>0.007206</td>\n",
       "      <td>0.005553</td>\n",
       "      <td>0.004860</td>\n",
       "      <td>0.005364</td>\n",
       "    </tr>\n",
       "  </tbody>\n",
       "</table>\n",
       "</div>"
      ],
      "text/plain": [
       "   Unnamed: 0  id_measurement  hard_voted_class  avg_probability  \\\n",
       "0           0               0                 0         0.110972   \n",
       "1           1               1                 1         0.566838   \n",
       "2           2               2                 0         0.005006   \n",
       "3           3               3                 0         0.003573   \n",
       "4           4               4                 0         0.016359   \n",
       "5           5               5                 0         0.005379   \n",
       "6           6               6                 0         0.042299   \n",
       "7           7               7                 0         0.003387   \n",
       "8           8               8                 0         0.068729   \n",
       "9           9               9                 0         0.010627   \n",
       "\n",
       "   soft_voted_class  target  cv0_probability  cv1_probability  \\\n",
       "0               0.0       0         0.117825         0.184985   \n",
       "1               1.0       1         0.739208         0.706238   \n",
       "2               0.0       0         0.004025         0.003100   \n",
       "3               0.0       0         0.001034         0.000161   \n",
       "4               0.0       0         0.006825         0.032217   \n",
       "5               0.0       0         0.003569         0.001400   \n",
       "6               0.0       0         0.007008         0.002124   \n",
       "7               0.0       0         0.001785         0.000421   \n",
       "8               0.0       0         0.062714         0.139384   \n",
       "9               0.0       0         0.007471         0.026347   \n",
       "\n",
       "   cv2_probability  cv3_probability  cv4_probability  cv5_probability  \\\n",
       "0         0.009444         0.250510         0.086542         0.318512   \n",
       "1         0.543616         0.688767         0.637147         0.419528   \n",
       "2         0.004816         0.015349         0.002282         0.009477   \n",
       "3         0.004823         0.011123         0.000603         0.006590   \n",
       "4         0.010957         0.040141         0.009451         0.016527   \n",
       "5         0.004307         0.014665         0.002484         0.013621   \n",
       "6         0.076197         0.140924         0.001602         0.112883   \n",
       "7         0.003847         0.009021         0.001295         0.009447   \n",
       "8         0.024842         0.194130         0.054507         0.076940   \n",
       "9         0.004264         0.025294         0.007936         0.011977   \n",
       "\n",
       "   cv6_probability  cv7_probability  cv8_probability  cv9_probability  \n",
       "0         0.038524         0.006727         0.034704         0.061950  \n",
       "1         0.512436         0.032640         0.748231         0.640571  \n",
       "2         0.002416         0.004842         0.002069         0.001684  \n",
       "3         0.002797         0.007719         0.000271         0.000607  \n",
       "4         0.015726         0.013741         0.007778         0.010223  \n",
       "5         0.003397         0.004627         0.003471         0.002254  \n",
       "6         0.013845         0.062766         0.001106         0.004535  \n",
       "7         0.002014         0.004164         0.000862         0.001016  \n",
       "8         0.038351         0.028042         0.013824         0.054555  \n",
       "9         0.007206         0.005553         0.004860         0.005364  "
      ]
     },
     "execution_count": 42,
     "metadata": {},
     "output_type": "execute_result"
    }
   ],
   "source": [
    "train_predicted[:10]"
   ]
  },
  {
   "cell_type": "code",
   "execution_count": 43,
   "metadata": {},
   "outputs": [
    {
     "data": {
      "text/plain": [
       "<matplotlib.axes._subplots.AxesSubplot at 0x7fe2705c7860>"
      ]
     },
     "execution_count": 43,
     "metadata": {},
     "output_type": "execute_result"
    },
    {
     "data": {
      "image/png": "[encoded data removed]",
      "text/plain": [
       "<Figure size 432x288 with 1 Axes>"
      ]
     },
     "metadata": {
      "needs_background": "light"
     },
     "output_type": "display_data"
    }
   ],
   "source": [
    "sns.scatterplot(x=\"cv0_probability\", y=\"cv1_probability\", hue=\"target\", data=train_predicted)"
   ]
  },
  {
   "cell_type": "code",
   "execution_count": 44,
   "metadata": {},
   "outputs": [],
   "source": [
    "from sklearn.manifold import TSNE"
   ]
  },
  {
   "cell_type": "code",
   "execution_count": 50,
   "metadata": {},
   "outputs": [],
   "source": [
    "X = train_predicted[[col for col in train_predicted.columns if \"cv\" in col]].values"
   ]
  },
  {
   "cell_type": "code",
   "execution_count": 46,
   "metadata": {},
   "outputs": [],
   "source": [
    "tsne_X = TSNE(n_components=2).fit_transform(train_predicted[[col for col in train_predicted.columns if \"cv\" in col]].values)"
   ]
  },
  {
   "cell_type": "code",
   "execution_count": 47,
   "metadata": {},
   "outputs": [
    {
     "data": {
      "text/plain": [
       "array([[ 57.875313 ,  33.73877  ],\n",
       "       [ 11.466859 ,  64.03419  ],\n",
       "       [-16.892292 , -17.956999 ],\n",
       "       [ -5.191032 , -71.805016 ],\n",
       "       [ 26.566813 ,   7.7257743],\n",
       "       [-12.976732 ,   6.2228374],\n",
       "       [ 47.208    ,  17.689013 ],\n",
       "       [ -9.358118 , -54.819344 ],\n",
       "       [ 59.52034  ,  23.61336  ],\n",
       "       [ 18.54679  ,  12.150847 ]], dtype=float32)"
      ]
     },
     "execution_count": 47,
     "metadata": {},
     "output_type": "execute_result"
    }
   ],
   "source": [
    "tsne_X[:10]"
   ]
  },
  {
   "cell_type": "code",
   "execution_count": 48,
   "metadata": {},
   "outputs": [
    {
     "data": {
      "text/plain": [
       "<matplotlib.axes._subplots.AxesSubplot at 0x7fe26f703518>"
      ]
     },
     "execution_count": 48,
     "metadata": {},
     "output_type": "execute_result"
    },
    {
     "data": {
      "image/png": "[encoded data removed]",
      "text/plain": [
       "<Figure size 432x288 with 1 Axes>"
      ]
     },
     "metadata": {
      "needs_background": "light"
     },
     "output_type": "display_data"
    }
   ],
   "source": [
    "sns.scatterplot(x=tsne_X[:, 0], y=tsne_X[:, 1], hue=train_predicted.target)"
   ]
  },
  {
   "cell_type": "code",
   "execution_count": 62,
   "metadata": {},
   "outputs": [
    {
     "data": {
      "text/plain": [
       "<matplotlib.axes._subplots.AxesSubplot at 0x7fe265121b38>"
      ]
     },
     "execution_count": 62,
     "metadata": {},
     "output_type": "execute_result"
    },
    {
     "data": {
      "image/png": "[encoded data removed]",
      "text/plain": [
       "<Figure size 432x288 with 1 Axes>"
      ]
     },
     "metadata": {
      "needs_background": "light"
     },
     "output_type": "display_data"
    }
   ],
   "source": [
    "sns.scatterplot(x=tsne_X[:, 0], y=tsne_X[:, 1], hue=train_predicted.soft_voted_class)"
   ]
  },
  {
   "cell_type": "code",
   "execution_count": 63,
   "metadata": {},
   "outputs": [
    {
     "data": {
      "text/plain": [
       "<matplotlib.axes._subplots.AxesSubplot at 0x7fe265122ef0>"
      ]
     },
     "execution_count": 63,
     "metadata": {},
     "output_type": "execute_result"
    },
    {
     "data": {
      "image/png": "[encoded data removed]",
      "text/plain": [
       "<Figure size 432x288 with 1 Axes>"
      ]
     },
     "metadata": {
      "needs_background": "light"
     },
     "output_type": "display_data"
    }
   ],
   "source": [
    "sns.scatterplot(x=tsne_X[:, 0], y=tsne_X[:, 1], hue=train_predicted.hard_voted_class)"
   ]
  },
  {
   "cell_type": "code",
   "execution_count": 49,
   "metadata": {},
   "outputs": [],
   "source": [
    "from sklearn.cluster import k_means"
   ]
  },
  {
   "cell_type": "code",
   "execution_count": 55,
   "metadata": {},
   "outputs": [],
   "source": [
    "clusters = k_means(X, 2)"
   ]
  },
  {
   "cell_type": "code",
   "execution_count": 52,
   "metadata": {},
   "outputs": [],
   "source": [
    "from sklearn.metrics import matthews_corrcoef"
   ]
  },
  {
   "cell_type": "code",
   "execution_count": 59,
   "metadata": {},
   "outputs": [
    {
     "data": {
      "text/plain": [
       "array([0, 1, 0, ..., 0, 0, 0], dtype=int32)"
      ]
     },
     "execution_count": 59,
     "metadata": {},
     "output_type": "execute_result"
    }
   ],
   "source": [
    "clusters[1]"
   ]
  },
  {
   "cell_type": "code",
   "execution_count": 60,
   "metadata": {},
   "outputs": [
    {
     "data": {
      "text/plain": [
       "0.702643896709394"
      ]
     },
     "execution_count": 60,
     "metadata": {},
     "output_type": "execute_result"
    }
   ],
   "source": [
    "matthews_corrcoef(train_predicted.target.values, clusters[1])"
   ]
  },
  {
   "cell_type": "code",
   "execution_count": 67,
   "metadata": {},
   "outputs": [],
   "source": [
    "Y = train_predicted.target.values"
   ]
  },
  {
   "cell_type": "code",
   "execution_count": 64,
   "metadata": {},
   "outputs": [],
   "source": [
    "from sklearn.svm import SVC"
   ]
  },
  {
   "cell_type": "code",
   "execution_count": 65,
   "metadata": {},
   "outputs": [],
   "source": [
    "RANDOM_STATE = 10"
   ]
  },
  {
   "cell_type": "code",
   "execution_count": 66,
   "metadata": {},
   "outputs": [],
   "source": [
    "model = SVC() "
   ]
  },
  {
   "cell_type": "code",
   "execution_count": 68,
   "metadata": {},
   "outputs": [
    {
     "name": "stderr",
     "output_type": "stream",
     "text": [
      "/opt/anaconda3/lib/python3.7/site-packages/sklearn/svm/base.py:196: FutureWarning: The default value of gamma will change from 'auto' to 'scale' in version 0.22 to account better for unscaled features. Set gamma explicitly to 'auto' or 'scale' to avoid this warning.\n",
      "  \"avoid this warning.\", FutureWarning)\n"
     ]
    },
    {
     "data": {
      "text/plain": [
       "SVC(C=1.0, cache_size=200, class_weight=None, coef0=0.0,\n",
       "  decision_function_shape='ovr', degree=3, gamma='auto_deprecated',\n",
       "  kernel='rbf', max_iter=-1, probability=False, random_state=None,\n",
       "  shrinking=True, tol=0.001, verbose=False)"
      ]
     },
     "execution_count": 68,
     "metadata": {},
     "output_type": "execute_result"
    }
   ],
   "source": [
    "model.fit(X, Y)"
   ]
  },
  {
   "cell_type": "code",
   "execution_count": 69,
   "metadata": {},
   "outputs": [
    {
     "data": {
      "text/plain": [
       "0.7724442844255726"
      ]
     },
     "execution_count": 69,
     "metadata": {},
     "output_type": "execute_result"
    }
   ],
   "source": [
    "matthews_corrcoef(Y, model.predict(X))"
   ]
  },
  {
   "cell_type": "code",
   "execution_count": 71,
   "metadata": {},
   "outputs": [],
   "source": [
    "import optuna"
   ]
  },
  {
   "cell_type": "code",
   "execution_count": 76,
   "metadata": {},
   "outputs": [],
   "source": [
    "from lightgbm import LGBMClassifier"
   ]
  },
  {
   "cell_type": "code",
   "execution_count": 80,
   "metadata": {},
   "outputs": [],
   "source": [
    "from sklearn.model_selection import cross_validate"
   ]
  },
  {
   "cell_type": "code",
   "execution_count": 84,
   "metadata": {},
   "outputs": [],
   "source": [
    "from sklearn.metrics import make_scorer"
   ]
  },
  {
   "cell_type": "code",
   "execution_count": 85,
   "metadata": {},
   "outputs": [],
   "source": [
    "def objective(trial: optuna.trial.Trial):\n",
    "    boosting_type = trial.suggest_categorical(\"boosting_type\", ['gbdt', 'dart'])\n",
    "    num_leaves = trial.suggest_int('num_leaves', 30, 80)\n",
    "    min_data_in_leaf = trial.suggest_int('min_data_in_leaf', 10, 100)\n",
    "    #     max_depth = trial.suggest_int('max_depth', )\n",
    "    lambda_l1 = trial.suggest_loguniform('lambda_l1', 1e-5, 1e-2)\n",
    "    lambda_l2 = trial.suggest_loguniform('lambda_l2', 1e-5, 1e-2)\n",
    "    #     num_iterations = trial.suggest_int(\"num_iterations\", 100, 500)\n",
    "    learning_rate = trial.suggest_loguniform('learning_rate', 1e-4, 1e-1)\n",
    "\n",
    "    clf = LGBMClassifier(boosting_type=boosting_type, num_leaves=num_leaves,\n",
    "                         learning_rate=learning_rate, reg_alpha=lambda_l1,\n",
    "                         min_child_samples=min_data_in_leaf,\n",
    "                         reg_lambda=lambda_l2, random_state=RANDOM_STATE)\n",
    "    #     fit_params = {\"early_stopping_rounds\":20,\n",
    "    #                  \"eval_metric\": matthews_corrcoef}\n",
    "    scores = cross_validate(clf, X, Y, verbose=1,\n",
    "                            n_jobs=-1, scoring=make_scorer(matthews_corrcoef), cv=5)\n",
    "    return - scores[\"test_score\"].mean()"
   ]
  },
  {
   "cell_type": "code",
   "execution_count": 86,
   "metadata": {},
   "outputs": [],
   "source": [
    "study = optuna.create_study()"
   ]
  },
  {
   "cell_type": "code",
   "execution_count": 87,
   "metadata": {},
   "outputs": [
    {
     "name": "stderr",
     "output_type": "stream",
     "text": [
      "[Parallel(n_jobs=-1)]: Using backend LokyBackend with 16 concurrent workers.\n",
      "[Parallel(n_jobs=-1)]: Done   5 out of   5 | elapsed:    1.6s finished\n",
      "[I 2019-03-04 05:34:33,734] Finished a trial resulted in value: -0.0. Current best value is -0.0 with parameters: {'boosting_type': 'gbdt', 'num_leaves': 47, 'min_data_in_leaf': 44, 'lambda_l1': 0.0018579820244443012, 'lambda_l2': 0.009833817286596281, 'learning_rate': 0.0010529817603809667}.\n",
      "[Parallel(n_jobs=-1)]: Using backend LokyBackend with 16 concurrent workers.\n",
      "[Parallel(n_jobs=-1)]: Done   5 out of   5 | elapsed:    0.9s finished\n",
      "[I 2019-03-04 05:34:34,656] Finished a trial resulted in value: -0.0. Current best value is -0.0 with parameters: {'boosting_type': 'gbdt', 'num_leaves': 47, 'min_data_in_leaf': 44, 'lambda_l1': 0.0018579820244443012, 'lambda_l2': 0.009833817286596281, 'learning_rate': 0.0010529817603809667}.\n",
      "[Parallel(n_jobs=-1)]: Using backend LokyBackend with 16 concurrent workers.\n",
      "[Parallel(n_jobs=-1)]: Done   5 out of   5 | elapsed:    0.9s finished\n",
      "[I 2019-03-04 05:34:35,523] Finished a trial resulted in value: -0.0. Current best value is -0.0 with parameters: {'boosting_type': 'gbdt', 'num_leaves': 47, 'min_data_in_leaf': 44, 'lambda_l1': 0.0018579820244443012, 'lambda_l2': 0.009833817286596281, 'learning_rate': 0.0010529817603809667}.\n",
      "[Parallel(n_jobs=-1)]: Using backend LokyBackend with 16 concurrent workers.\n",
      "[Parallel(n_jobs=-1)]: Done   5 out of   5 | elapsed:    0.8s finished\n",
      "[I 2019-03-04 05:34:36,341] Finished a trial resulted in value: -0.7234989486984947. Current best value is -0.7234989486984947 with parameters: {'boosting_type': 'gbdt', 'num_leaves': 35, 'min_data_in_leaf': 15, 'lambda_l1': 0.00021228800359456297, 'lambda_l2': 1.3936405595535553e-05, 'learning_rate': 0.014714790563288779}.\n",
      "[Parallel(n_jobs=-1)]: Using backend LokyBackend with 16 concurrent workers.\n",
      "[Parallel(n_jobs=-1)]: Done   5 out of   5 | elapsed:    0.1s finished\n",
      "[I 2019-03-04 05:34:36,450] Finished a trial resulted in value: -0.0. Current best value is -0.7234989486984947 with parameters: {'boosting_type': 'gbdt', 'num_leaves': 35, 'min_data_in_leaf': 15, 'lambda_l1': 0.00021228800359456297, 'lambda_l2': 1.3936405595535553e-05, 'learning_rate': 0.014714790563288779}.\n",
      "[Parallel(n_jobs=-1)]: Using backend LokyBackend with 16 concurrent workers.\n",
      "[Parallel(n_jobs=-1)]: Done   5 out of   5 | elapsed:    0.2s finished\n",
      "[I 2019-03-04 05:34:36,630] Finished a trial resulted in value: -0.0. Current best value is -0.7234989486984947 with parameters: {'boosting_type': 'gbdt', 'num_leaves': 35, 'min_data_in_leaf': 15, 'lambda_l1': 0.00021228800359456297, 'lambda_l2': 1.3936405595535553e-05, 'learning_rate': 0.014714790563288779}.\n",
      "[Parallel(n_jobs=-1)]: Using backend LokyBackend with 16 concurrent workers.\n",
      "[Parallel(n_jobs=-1)]: Done   5 out of   5 | elapsed:    0.2s finished\n",
      "[I 2019-03-04 05:34:36,855] Finished a trial resulted in value: -0.663093011640313. Current best value is -0.7234989486984947 with parameters: {'boosting_type': 'gbdt', 'num_leaves': 35, 'min_data_in_leaf': 15, 'lambda_l1': 0.00021228800359456297, 'lambda_l2': 1.3936405595535553e-05, 'learning_rate': 0.014714790563288779}.\n",
      "[Parallel(n_jobs=-1)]: Using backend LokyBackend with 16 concurrent workers.\n",
      "[Parallel(n_jobs=-1)]: Done   5 out of   5 | elapsed:    0.2s finished\n",
      "[I 2019-03-04 05:34:37,022] Finished a trial resulted in value: -0.0. Current best value is -0.7234989486984947 with parameters: {'boosting_type': 'gbdt', 'num_leaves': 35, 'min_data_in_leaf': 15, 'lambda_l1': 0.00021228800359456297, 'lambda_l2': 1.3936405595535553e-05, 'learning_rate': 0.014714790563288779}.\n",
      "[Parallel(n_jobs=-1)]: Using backend LokyBackend with 16 concurrent workers.\n",
      "[Parallel(n_jobs=-1)]: Done   5 out of   5 | elapsed:    0.1s finished\n",
      "[I 2019-03-04 05:34:37,137] Finished a trial resulted in value: -0.0. Current best value is -0.7234989486984947 with parameters: {'boosting_type': 'gbdt', 'num_leaves': 35, 'min_data_in_leaf': 15, 'lambda_l1': 0.00021228800359456297, 'lambda_l2': 1.3936405595535553e-05, 'learning_rate': 0.014714790563288779}.\n",
      "[Parallel(n_jobs=-1)]: Using backend LokyBackend with 16 concurrent workers.\n",
      "[Parallel(n_jobs=-1)]: Done   5 out of   5 | elapsed:    0.1s finished\n",
      "[I 2019-03-04 05:34:37,285] Finished a trial resulted in value: -0.7386023032419419. Current best value is -0.7386023032419419 with parameters: {'boosting_type': 'gbdt', 'num_leaves': 80, 'min_data_in_leaf': 55, 'lambda_l1': 1.3876342242428596e-05, 'lambda_l2': 1.7432260185401166e-05, 'learning_rate': 0.0887428950973518}.\n",
      "[Parallel(n_jobs=-1)]: Using backend LokyBackend with 16 concurrent workers.\n",
      "[Parallel(n_jobs=-1)]: Done   5 out of   5 | elapsed:    0.2s finished\n",
      "[I 2019-03-04 05:34:37,469] Finished a trial resulted in value: -0.7707538917931126. Current best value is -0.7707538917931126 with parameters: {'boosting_type': 'dart', 'num_leaves': 59, 'min_data_in_leaf': 74, 'lambda_l1': 1.722512080533713e-05, 'lambda_l2': 1.4556525088881792e-05, 'learning_rate': 0.09716910582053649}.\n",
      "[Parallel(n_jobs=-1)]: Using backend LokyBackend with 16 concurrent workers.\n",
      "[Parallel(n_jobs=-1)]: Done   5 out of   5 | elapsed:    0.2s finished\n",
      "[I 2019-03-04 05:34:37,642] Finished a trial resulted in value: -0.749616012090209. Current best value is -0.7707538917931126 with parameters: {'boosting_type': 'dart', 'num_leaves': 59, 'min_data_in_leaf': 74, 'lambda_l1': 1.722512080533713e-05, 'lambda_l2': 1.4556525088881792e-05, 'learning_rate': 0.09716910582053649}.\n",
      "[Parallel(n_jobs=-1)]: Using backend LokyBackend with 16 concurrent workers.\n",
      "[Parallel(n_jobs=-1)]: Done   5 out of   5 | elapsed:    0.1s finished\n",
      "[I 2019-03-04 05:34:37,804] Finished a trial resulted in value: -0.7710184641882962. Current best value is -0.7710184641882962 with parameters: {'boosting_type': 'dart', 'num_leaves': 62, 'min_data_in_leaf': 81, 'lambda_l1': 0.0006336856632687181, 'lambda_l2': 1.0176294932664265e-05, 'learning_rate': 0.040464692565540694}.\n",
      "[Parallel(n_jobs=-1)]: Using backend LokyBackend with 16 concurrent workers.\n",
      "[Parallel(n_jobs=-1)]: Done   5 out of   5 | elapsed:    0.2s finished\n",
      "[I 2019-03-04 05:34:37,973] Finished a trial resulted in value: -0.0. Current best value is -0.7710184641882962 with parameters: {'boosting_type': 'dart', 'num_leaves': 62, 'min_data_in_leaf': 81, 'lambda_l1': 0.0006336856632687181, 'lambda_l2': 1.0176294932664265e-05, 'learning_rate': 0.040464692565540694}.\n",
      "[Parallel(n_jobs=-1)]: Using backend LokyBackend with 16 concurrent workers.\n",
      "[Parallel(n_jobs=-1)]: Done   5 out of   5 | elapsed:    0.2s finished\n",
      "[I 2019-03-04 05:34:38,144] Finished a trial resulted in value: -0.0. Current best value is -0.7710184641882962 with parameters: {'boosting_type': 'dart', 'num_leaves': 62, 'min_data_in_leaf': 81, 'lambda_l1': 0.0006336856632687181, 'lambda_l2': 1.0176294932664265e-05, 'learning_rate': 0.040464692565540694}.\n",
      "[Parallel(n_jobs=-1)]: Using backend LokyBackend with 16 concurrent workers.\n",
      "[Parallel(n_jobs=-1)]: Done   5 out of   5 | elapsed:    0.2s finished\n",
      "[I 2019-03-04 05:34:38,367] Finished a trial resulted in value: -0.774245452608006. Current best value is -0.774245452608006 with parameters: {'boosting_type': 'dart', 'num_leaves': 46, 'min_data_in_leaf': 32, 'lambda_l1': 0.00020633509090599007, 'lambda_l2': 0.0009686192518514118, 'learning_rate': 0.043361405253840274}.\n",
      "[Parallel(n_jobs=-1)]: Using backend LokyBackend with 16 concurrent workers.\n",
      "[Parallel(n_jobs=-1)]: Done   5 out of   5 | elapsed:    0.2s finished\n",
      "[I 2019-03-04 05:34:38,571] Finished a trial resulted in value: -0.0. Current best value is -0.774245452608006 with parameters: {'boosting_type': 'dart', 'num_leaves': 46, 'min_data_in_leaf': 32, 'lambda_l1': 0.00020633509090599007, 'lambda_l2': 0.0009686192518514118, 'learning_rate': 0.043361405253840274}.\n",
      "[Parallel(n_jobs=-1)]: Using backend LokyBackend with 16 concurrent workers.\n",
      "[Parallel(n_jobs=-1)]: Done   5 out of   5 | elapsed:    0.2s finished\n"
     ]
    },
    {
     "name": "stderr",
     "output_type": "stream",
     "text": [
      "[I 2019-03-04 05:34:38,743] Finished a trial resulted in value: -0.7723162005552114. Current best value is -0.774245452608006 with parameters: {'boosting_type': 'dart', 'num_leaves': 46, 'min_data_in_leaf': 32, 'lambda_l1': 0.00020633509090599007, 'lambda_l2': 0.0009686192518514118, 'learning_rate': 0.043361405253840274}.\n",
      "[Parallel(n_jobs=-1)]: Using backend LokyBackend with 16 concurrent workers.\n",
      "[Parallel(n_jobs=-1)]: Done   5 out of   5 | elapsed:    0.2s finished\n",
      "[I 2019-03-04 05:34:38,916] Finished a trial resulted in value: -0.7822351223233339. Current best value is -0.7822351223233339 with parameters: {'boosting_type': 'dart', 'num_leaves': 52, 'min_data_in_leaf': 64, 'lambda_l1': 0.001407405436789213, 'lambda_l2': 0.0009108068830068071, 'learning_rate': 0.05213696325873515}.\n",
      "[Parallel(n_jobs=-1)]: Using backend LokyBackend with 16 concurrent workers.\n",
      "[Parallel(n_jobs=-1)]: Done   5 out of   5 | elapsed:    0.2s finished\n",
      "[I 2019-03-04 05:34:39,088] Finished a trial resulted in value: -0.7755847678786142. Current best value is -0.7822351223233339 with parameters: {'boosting_type': 'dart', 'num_leaves': 52, 'min_data_in_leaf': 64, 'lambda_l1': 0.001407405436789213, 'lambda_l2': 0.0009108068830068071, 'learning_rate': 0.05213696325873515}.\n",
      "[Parallel(n_jobs=-1)]: Using backend LokyBackend with 16 concurrent workers.\n",
      "[Parallel(n_jobs=-1)]: Done   5 out of   5 | elapsed:    0.2s finished\n",
      "[I 2019-03-04 05:34:39,258] Finished a trial resulted in value: -0.7769573549466038. Current best value is -0.7822351223233339 with parameters: {'boosting_type': 'dart', 'num_leaves': 52, 'min_data_in_leaf': 64, 'lambda_l1': 0.001407405436789213, 'lambda_l2': 0.0009108068830068071, 'learning_rate': 0.05213696325873515}.\n",
      "[Parallel(n_jobs=-1)]: Using backend LokyBackend with 16 concurrent workers.\n",
      "[Parallel(n_jobs=-1)]: Done   5 out of   5 | elapsed:    0.1s finished\n",
      "[I 2019-03-04 05:34:39,418] Finished a trial resulted in value: -0.7773628878587375. Current best value is -0.7822351223233339 with parameters: {'boosting_type': 'dart', 'num_leaves': 52, 'min_data_in_leaf': 64, 'lambda_l1': 0.001407405436789213, 'lambda_l2': 0.0009108068830068071, 'learning_rate': 0.05213696325873515}.\n",
      "[Parallel(n_jobs=-1)]: Using backend LokyBackend with 16 concurrent workers.\n",
      "[Parallel(n_jobs=-1)]: Done   5 out of   5 | elapsed:    0.1s finished\n",
      "[I 2019-03-04 05:34:39,588] Finished a trial resulted in value: -0.0. Current best value is -0.7822351223233339 with parameters: {'boosting_type': 'dart', 'num_leaves': 52, 'min_data_in_leaf': 64, 'lambda_l1': 0.001407405436789213, 'lambda_l2': 0.0009108068830068071, 'learning_rate': 0.05213696325873515}.\n",
      "[Parallel(n_jobs=-1)]: Using backend LokyBackend with 16 concurrent workers.\n",
      "[Parallel(n_jobs=-1)]: Done   5 out of   5 | elapsed:    0.1s finished\n",
      "[I 2019-03-04 05:34:39,755] Finished a trial resulted in value: -0.7787311296414087. Current best value is -0.7822351223233339 with parameters: {'boosting_type': 'dart', 'num_leaves': 52, 'min_data_in_leaf': 64, 'lambda_l1': 0.001407405436789213, 'lambda_l2': 0.0009108068830068071, 'learning_rate': 0.05213696325873515}.\n",
      "[Parallel(n_jobs=-1)]: Using backend LokyBackend with 16 concurrent workers.\n",
      "[Parallel(n_jobs=-1)]: Done   5 out of   5 | elapsed:    0.1s finished\n",
      "[I 2019-03-04 05:34:39,921] Finished a trial resulted in value: -0.7695671846257732. Current best value is -0.7822351223233339 with parameters: {'boosting_type': 'dart', 'num_leaves': 52, 'min_data_in_leaf': 64, 'lambda_l1': 0.001407405436789213, 'lambda_l2': 0.0009108068830068071, 'learning_rate': 0.05213696325873515}.\n",
      "[Parallel(n_jobs=-1)]: Using backend LokyBackend with 16 concurrent workers.\n",
      "[Parallel(n_jobs=-1)]: Done   5 out of   5 | elapsed:    0.1s finished\n",
      "[I 2019-03-04 05:34:40,091] Finished a trial resulted in value: -0.7787311296414087. Current best value is -0.7822351223233339 with parameters: {'boosting_type': 'dart', 'num_leaves': 52, 'min_data_in_leaf': 64, 'lambda_l1': 0.001407405436789213, 'lambda_l2': 0.0009108068830068071, 'learning_rate': 0.05213696325873515}.\n",
      "[Parallel(n_jobs=-1)]: Using backend LokyBackend with 16 concurrent workers.\n",
      "[Parallel(n_jobs=-1)]: Done   5 out of   5 | elapsed:    0.2s finished\n",
      "[I 2019-03-04 05:34:40,282] Finished a trial resulted in value: -0.0. Current best value is -0.7822351223233339 with parameters: {'boosting_type': 'dart', 'num_leaves': 52, 'min_data_in_leaf': 64, 'lambda_l1': 0.001407405436789213, 'lambda_l2': 0.0009108068830068071, 'learning_rate': 0.05213696325873515}.\n",
      "[Parallel(n_jobs=-1)]: Using backend LokyBackend with 16 concurrent workers.\n",
      "[Parallel(n_jobs=-1)]: Done   5 out of   5 | elapsed:    0.2s finished\n",
      "[I 2019-03-04 05:34:40,458] Finished a trial resulted in value: -0.0. Current best value is -0.7822351223233339 with parameters: {'boosting_type': 'dart', 'num_leaves': 52, 'min_data_in_leaf': 64, 'lambda_l1': 0.001407405436789213, 'lambda_l2': 0.0009108068830068071, 'learning_rate': 0.05213696325873515}.\n",
      "[Parallel(n_jobs=-1)]: Using backend LokyBackend with 16 concurrent workers.\n",
      "[Parallel(n_jobs=-1)]: Done   5 out of   5 | elapsed:    0.2s finished\n",
      "[I 2019-03-04 05:34:40,633] Finished a trial resulted in value: -0.7793142866436388. Current best value is -0.7822351223233339 with parameters: {'boosting_type': 'dart', 'num_leaves': 52, 'min_data_in_leaf': 64, 'lambda_l1': 0.001407405436789213, 'lambda_l2': 0.0009108068830068071, 'learning_rate': 0.05213696325873515}.\n",
      "[Parallel(n_jobs=-1)]: Using backend LokyBackend with 16 concurrent workers.\n",
      "[Parallel(n_jobs=-1)]: Done   5 out of   5 | elapsed:    0.2s finished\n",
      "[I 2019-03-04 05:34:40,831] Finished a trial resulted in value: -0.40815937184075357. Current best value is -0.7822351223233339 with parameters: {'boosting_type': 'dart', 'num_leaves': 52, 'min_data_in_leaf': 64, 'lambda_l1': 0.001407405436789213, 'lambda_l2': 0.0009108068830068071, 'learning_rate': 0.05213696325873515}.\n",
      "[Parallel(n_jobs=-1)]: Using backend LokyBackend with 16 concurrent workers.\n",
      "[Parallel(n_jobs=-1)]: Done   5 out of   5 | elapsed:    0.2s finished\n",
      "[I 2019-03-04 05:34:41,010] Finished a trial resulted in value: -0.0. Current best value is -0.7822351223233339 with parameters: {'boosting_type': 'dart', 'num_leaves': 52, 'min_data_in_leaf': 64, 'lambda_l1': 0.001407405436789213, 'lambda_l2': 0.0009108068830068071, 'learning_rate': 0.05213696325873515}.\n",
      "[Parallel(n_jobs=-1)]: Using backend LokyBackend with 16 concurrent workers.\n",
      "[Parallel(n_jobs=-1)]: Done   5 out of   5 | elapsed:    0.1s finished\n",
      "[I 2019-03-04 05:34:41,159] Finished a trial resulted in value: -0.7454674244185524. Current best value is -0.7822351223233339 with parameters: {'boosting_type': 'dart', 'num_leaves': 52, 'min_data_in_leaf': 64, 'lambda_l1': 0.001407405436789213, 'lambda_l2': 0.0009108068830068071, 'learning_rate': 0.05213696325873515}.\n",
      "[Parallel(n_jobs=-1)]: Using backend LokyBackend with 16 concurrent workers.\n",
      "[Parallel(n_jobs=-1)]: Done   5 out of   5 | elapsed:    0.2s finished\n",
      "[I 2019-03-04 05:34:41,359] Finished a trial resulted in value: -0.7739887512618757. Current best value is -0.7822351223233339 with parameters: {'boosting_type': 'dart', 'num_leaves': 52, 'min_data_in_leaf': 64, 'lambda_l1': 0.001407405436789213, 'lambda_l2': 0.0009108068830068071, 'learning_rate': 0.05213696325873515}.\n",
      "[Parallel(n_jobs=-1)]: Using backend LokyBackend with 16 concurrent workers.\n",
      "[Parallel(n_jobs=-1)]: Done   5 out of   5 | elapsed:    0.1s finished\n",
      "[I 2019-03-04 05:34:41,490] Finished a trial resulted in value: -0.0. Current best value is -0.7822351223233339 with parameters: {'boosting_type': 'dart', 'num_leaves': 52, 'min_data_in_leaf': 64, 'lambda_l1': 0.001407405436789213, 'lambda_l2': 0.0009108068830068071, 'learning_rate': 0.05213696325873515}.\n",
      "[Parallel(n_jobs=-1)]: Using backend LokyBackend with 16 concurrent workers.\n",
      "[Parallel(n_jobs=-1)]: Done   5 out of   5 | elapsed:    0.2s finished\n"
     ]
    },
    {
     "name": "stderr",
     "output_type": "stream",
     "text": [
      "[I 2019-03-04 05:34:41,668] Finished a trial resulted in value: -0.0. Current best value is -0.7822351223233339 with parameters: {'boosting_type': 'dart', 'num_leaves': 52, 'min_data_in_leaf': 64, 'lambda_l1': 0.001407405436789213, 'lambda_l2': 0.0009108068830068071, 'learning_rate': 0.05213696325873515}.\n",
      "[Parallel(n_jobs=-1)]: Using backend LokyBackend with 16 concurrent workers.\n",
      "[Parallel(n_jobs=-1)]: Done   5 out of   5 | elapsed:    0.1s finished\n",
      "[I 2019-03-04 05:34:41,794] Finished a trial resulted in value: -0.7083568435604737. Current best value is -0.7822351223233339 with parameters: {'boosting_type': 'dart', 'num_leaves': 52, 'min_data_in_leaf': 64, 'lambda_l1': 0.001407405436789213, 'lambda_l2': 0.0009108068830068071, 'learning_rate': 0.05213696325873515}.\n",
      "[Parallel(n_jobs=-1)]: Using backend LokyBackend with 16 concurrent workers.\n",
      "[Parallel(n_jobs=-1)]: Done   5 out of   5 | elapsed:    0.2s finished\n",
      "[I 2019-03-04 05:34:42,027] Finished a trial resulted in value: -0.0. Current best value is -0.7822351223233339 with parameters: {'boosting_type': 'dart', 'num_leaves': 52, 'min_data_in_leaf': 64, 'lambda_l1': 0.001407405436789213, 'lambda_l2': 0.0009108068830068071, 'learning_rate': 0.05213696325873515}.\n",
      "[Parallel(n_jobs=-1)]: Using backend LokyBackend with 16 concurrent workers.\n",
      "[Parallel(n_jobs=-1)]: Done   5 out of   5 | elapsed:    0.1s finished\n",
      "[I 2019-03-04 05:34:42,182] Finished a trial resulted in value: -0.7434604694944864. Current best value is -0.7822351223233339 with parameters: {'boosting_type': 'dart', 'num_leaves': 52, 'min_data_in_leaf': 64, 'lambda_l1': 0.001407405436789213, 'lambda_l2': 0.0009108068830068071, 'learning_rate': 0.05213696325873515}.\n",
      "[Parallel(n_jobs=-1)]: Using backend LokyBackend with 16 concurrent workers.\n",
      "[Parallel(n_jobs=-1)]: Done   5 out of   5 | elapsed:    0.1s finished\n",
      "[I 2019-03-04 05:34:42,338] Finished a trial resulted in value: -0.0. Current best value is -0.7822351223233339 with parameters: {'boosting_type': 'dart', 'num_leaves': 52, 'min_data_in_leaf': 64, 'lambda_l1': 0.001407405436789213, 'lambda_l2': 0.0009108068830068071, 'learning_rate': 0.05213696325873515}.\n",
      "[Parallel(n_jobs=-1)]: Using backend LokyBackend with 16 concurrent workers.\n",
      "[Parallel(n_jobs=-1)]: Done   5 out of   5 | elapsed:    0.1s finished\n",
      "[I 2019-03-04 05:34:42,482] Finished a trial resulted in value: -0.6447115989783454. Current best value is -0.7822351223233339 with parameters: {'boosting_type': 'dart', 'num_leaves': 52, 'min_data_in_leaf': 64, 'lambda_l1': 0.001407405436789213, 'lambda_l2': 0.0009108068830068071, 'learning_rate': 0.05213696325873515}.\n",
      "[Parallel(n_jobs=-1)]: Using backend LokyBackend with 16 concurrent workers.\n",
      "[Parallel(n_jobs=-1)]: Done   5 out of   5 | elapsed:    0.2s finished\n",
      "[I 2019-03-04 05:34:42,668] Finished a trial resulted in value: -0.7529051490047629. Current best value is -0.7822351223233339 with parameters: {'boosting_type': 'dart', 'num_leaves': 52, 'min_data_in_leaf': 64, 'lambda_l1': 0.001407405436789213, 'lambda_l2': 0.0009108068830068071, 'learning_rate': 0.05213696325873515}.\n",
      "[Parallel(n_jobs=-1)]: Using backend LokyBackend with 16 concurrent workers.\n",
      "[Parallel(n_jobs=-1)]: Done   5 out of   5 | elapsed:    0.2s finished\n",
      "[I 2019-03-04 05:34:42,859] Finished a trial resulted in value: -0.7378017840629528. Current best value is -0.7822351223233339 with parameters: {'boosting_type': 'dart', 'num_leaves': 52, 'min_data_in_leaf': 64, 'lambda_l1': 0.001407405436789213, 'lambda_l2': 0.0009108068830068071, 'learning_rate': 0.05213696325873515}.\n",
      "[Parallel(n_jobs=-1)]: Using backend LokyBackend with 16 concurrent workers.\n",
      "[Parallel(n_jobs=-1)]: Done   5 out of   5 | elapsed:    0.1s finished\n",
      "[I 2019-03-04 05:34:43,011] Finished a trial resulted in value: -0.7389111524873578. Current best value is -0.7822351223233339 with parameters: {'boosting_type': 'dart', 'num_leaves': 52, 'min_data_in_leaf': 64, 'lambda_l1': 0.001407405436789213, 'lambda_l2': 0.0009108068830068071, 'learning_rate': 0.05213696325873515}.\n",
      "[Parallel(n_jobs=-1)]: Using backend LokyBackend with 16 concurrent workers.\n",
      "[Parallel(n_jobs=-1)]: Done   5 out of   5 | elapsed:    0.2s finished\n",
      "[I 2019-03-04 05:34:43,192] Finished a trial resulted in value: -0.0. Current best value is -0.7822351223233339 with parameters: {'boosting_type': 'dart', 'num_leaves': 52, 'min_data_in_leaf': 64, 'lambda_l1': 0.001407405436789213, 'lambda_l2': 0.0009108068830068071, 'learning_rate': 0.05213696325873515}.\n",
      "[Parallel(n_jobs=-1)]: Using backend LokyBackend with 16 concurrent workers.\n",
      "[Parallel(n_jobs=-1)]: Done   5 out of   5 | elapsed:    0.2s finished\n",
      "[I 2019-03-04 05:34:43,385] Finished a trial resulted in value: -0.0. Current best value is -0.7822351223233339 with parameters: {'boosting_type': 'dart', 'num_leaves': 52, 'min_data_in_leaf': 64, 'lambda_l1': 0.001407405436789213, 'lambda_l2': 0.0009108068830068071, 'learning_rate': 0.05213696325873515}.\n",
      "[Parallel(n_jobs=-1)]: Using backend LokyBackend with 16 concurrent workers.\n",
      "[Parallel(n_jobs=-1)]: Done   5 out of   5 | elapsed:    0.1s finished\n",
      "[I 2019-03-04 05:34:43,561] Finished a trial resulted in value: -0.0. Current best value is -0.7822351223233339 with parameters: {'boosting_type': 'dart', 'num_leaves': 52, 'min_data_in_leaf': 64, 'lambda_l1': 0.001407405436789213, 'lambda_l2': 0.0009108068830068071, 'learning_rate': 0.05213696325873515}.\n",
      "[Parallel(n_jobs=-1)]: Using backend LokyBackend with 16 concurrent workers.\n",
      "[Parallel(n_jobs=-1)]: Done   5 out of   5 | elapsed:    0.1s finished\n",
      "[I 2019-03-04 05:34:43,695] Finished a trial resulted in value: -0.0. Current best value is -0.7822351223233339 with parameters: {'boosting_type': 'dart', 'num_leaves': 52, 'min_data_in_leaf': 64, 'lambda_l1': 0.001407405436789213, 'lambda_l2': 0.0009108068830068071, 'learning_rate': 0.05213696325873515}.\n",
      "[Parallel(n_jobs=-1)]: Using backend LokyBackend with 16 concurrent workers.\n",
      "[Parallel(n_jobs=-1)]: Done   5 out of   5 | elapsed:    0.2s finished\n",
      "[I 2019-03-04 05:34:43,938] Finished a trial resulted in value: -0.6359405209517612. Current best value is -0.7822351223233339 with parameters: {'boosting_type': 'dart', 'num_leaves': 52, 'min_data_in_leaf': 64, 'lambda_l1': 0.001407405436789213, 'lambda_l2': 0.0009108068830068071, 'learning_rate': 0.05213696325873515}.\n",
      "[Parallel(n_jobs=-1)]: Using backend LokyBackend with 16 concurrent workers.\n",
      "[Parallel(n_jobs=-1)]: Done   5 out of   5 | elapsed:    0.2s finished\n",
      "[I 2019-03-04 05:34:44,134] Finished a trial resulted in value: -0.7708150435881367. Current best value is -0.7822351223233339 with parameters: {'boosting_type': 'dart', 'num_leaves': 52, 'min_data_in_leaf': 64, 'lambda_l1': 0.001407405436789213, 'lambda_l2': 0.0009108068830068071, 'learning_rate': 0.05213696325873515}.\n",
      "[Parallel(n_jobs=-1)]: Using backend LokyBackend with 16 concurrent workers.\n",
      "[Parallel(n_jobs=-1)]: Done   5 out of   5 | elapsed:    0.2s finished\n",
      "[I 2019-03-04 05:34:44,319] Finished a trial resulted in value: -0.756524420985653. Current best value is -0.7822351223233339 with parameters: {'boosting_type': 'dart', 'num_leaves': 52, 'min_data_in_leaf': 64, 'lambda_l1': 0.001407405436789213, 'lambda_l2': 0.0009108068830068071, 'learning_rate': 0.05213696325873515}.\n",
      "[Parallel(n_jobs=-1)]: Using backend LokyBackend with 16 concurrent workers.\n",
      "[Parallel(n_jobs=-1)]: Done   5 out of   5 | elapsed:    0.1s finished\n",
      "[I 2019-03-04 05:34:44,468] Finished a trial resulted in value: -0.481005227572214. Current best value is -0.7822351223233339 with parameters: {'boosting_type': 'dart', 'num_leaves': 52, 'min_data_in_leaf': 64, 'lambda_l1': 0.001407405436789213, 'lambda_l2': 0.0009108068830068071, 'learning_rate': 0.05213696325873515}.\n",
      "[Parallel(n_jobs=-1)]: Using backend LokyBackend with 16 concurrent workers.\n",
      "[Parallel(n_jobs=-1)]: Done   5 out of   5 | elapsed:    0.2s finished\n"
     ]
    },
    {
     "name": "stderr",
     "output_type": "stream",
     "text": [
      "[I 2019-03-04 05:34:44,659] Finished a trial resulted in value: -0.7822351223233339. Current best value is -0.7822351223233339 with parameters: {'boosting_type': 'dart', 'num_leaves': 52, 'min_data_in_leaf': 64, 'lambda_l1': 0.001407405436789213, 'lambda_l2': 0.0009108068830068071, 'learning_rate': 0.05213696325873515}.\n",
      "[Parallel(n_jobs=-1)]: Using backend LokyBackend with 16 concurrent workers.\n",
      "[Parallel(n_jobs=-1)]: Done   5 out of   5 | elapsed:    0.2s finished\n",
      "[I 2019-03-04 05:34:44,898] Finished a trial resulted in value: -0.7621029943925879. Current best value is -0.7822351223233339 with parameters: {'boosting_type': 'dart', 'num_leaves': 52, 'min_data_in_leaf': 64, 'lambda_l1': 0.001407405436789213, 'lambda_l2': 0.0009108068830068071, 'learning_rate': 0.05213696325873515}.\n",
      "[Parallel(n_jobs=-1)]: Using backend LokyBackend with 16 concurrent workers.\n",
      "[Parallel(n_jobs=-1)]: Done   5 out of   5 | elapsed:    0.2s finished\n",
      "[I 2019-03-04 05:34:45,133] Finished a trial resulted in value: -0.0. Current best value is -0.7822351223233339 with parameters: {'boosting_type': 'dart', 'num_leaves': 52, 'min_data_in_leaf': 64, 'lambda_l1': 0.001407405436789213, 'lambda_l2': 0.0009108068830068071, 'learning_rate': 0.05213696325873515}.\n",
      "[Parallel(n_jobs=-1)]: Using backend LokyBackend with 16 concurrent workers.\n",
      "[Parallel(n_jobs=-1)]: Done   5 out of   5 | elapsed:    0.2s finished\n",
      "[I 2019-03-04 05:34:45,392] Finished a trial resulted in value: -0.0. Current best value is -0.7822351223233339 with parameters: {'boosting_type': 'dart', 'num_leaves': 52, 'min_data_in_leaf': 64, 'lambda_l1': 0.001407405436789213, 'lambda_l2': 0.0009108068830068071, 'learning_rate': 0.05213696325873515}.\n",
      "[Parallel(n_jobs=-1)]: Using backend LokyBackend with 16 concurrent workers.\n",
      "[Parallel(n_jobs=-1)]: Done   5 out of   5 | elapsed:    0.2s finished\n",
      "[I 2019-03-04 05:34:45,589] Finished a trial resulted in value: -0.7721884509020682. Current best value is -0.7822351223233339 with parameters: {'boosting_type': 'dart', 'num_leaves': 52, 'min_data_in_leaf': 64, 'lambda_l1': 0.001407405436789213, 'lambda_l2': 0.0009108068830068071, 'learning_rate': 0.05213696325873515}.\n",
      "[Parallel(n_jobs=-1)]: Using backend LokyBackend with 16 concurrent workers.\n",
      "[Parallel(n_jobs=-1)]: Done   5 out of   5 | elapsed:    0.1s finished\n",
      "[I 2019-03-04 05:34:45,744] Finished a trial resulted in value: -0.0. Current best value is -0.7822351223233339 with parameters: {'boosting_type': 'dart', 'num_leaves': 52, 'min_data_in_leaf': 64, 'lambda_l1': 0.001407405436789213, 'lambda_l2': 0.0009108068830068071, 'learning_rate': 0.05213696325873515}.\n",
      "[Parallel(n_jobs=-1)]: Using backend LokyBackend with 16 concurrent workers.\n",
      "[Parallel(n_jobs=-1)]: Done   5 out of   5 | elapsed:    0.2s finished\n",
      "[I 2019-03-04 05:34:45,949] Finished a trial resulted in value: -0.6882772959960711. Current best value is -0.7822351223233339 with parameters: {'boosting_type': 'dart', 'num_leaves': 52, 'min_data_in_leaf': 64, 'lambda_l1': 0.001407405436789213, 'lambda_l2': 0.0009108068830068071, 'learning_rate': 0.05213696325873515}.\n",
      "[Parallel(n_jobs=-1)]: Using backend LokyBackend with 16 concurrent workers.\n",
      "[Parallel(n_jobs=-1)]: Done   5 out of   5 | elapsed:    0.2s finished\n",
      "[I 2019-03-04 05:34:46,193] Finished a trial resulted in value: -0.7386835790780832. Current best value is -0.7822351223233339 with parameters: {'boosting_type': 'dart', 'num_leaves': 52, 'min_data_in_leaf': 64, 'lambda_l1': 0.001407405436789213, 'lambda_l2': 0.0009108068830068071, 'learning_rate': 0.05213696325873515}.\n",
      "[Parallel(n_jobs=-1)]: Using backend LokyBackend with 16 concurrent workers.\n",
      "[Parallel(n_jobs=-1)]: Done   5 out of   5 | elapsed:    0.2s finished\n",
      "[I 2019-03-04 05:34:46,397] Finished a trial resulted in value: -0.7848547817391219. Current best value is -0.7848547817391219 with parameters: {'boosting_type': 'dart', 'num_leaves': 64, 'min_data_in_leaf': 56, 'lambda_l1': 0.001498514705799734, 'lambda_l2': 0.0008847855551727171, 'learning_rate': 0.05655333427237074}.\n",
      "[Parallel(n_jobs=-1)]: Using backend LokyBackend with 16 concurrent workers.\n",
      "[Parallel(n_jobs=-1)]: Done   5 out of   5 | elapsed:    0.2s finished\n",
      "[I 2019-03-04 05:34:46,603] Finished a trial resulted in value: -0.0. Current best value is -0.7848547817391219 with parameters: {'boosting_type': 'dart', 'num_leaves': 64, 'min_data_in_leaf': 56, 'lambda_l1': 0.001498514705799734, 'lambda_l2': 0.0008847855551727171, 'learning_rate': 0.05655333427237074}.\n",
      "[Parallel(n_jobs=-1)]: Using backend LokyBackend with 16 concurrent workers.\n",
      "[Parallel(n_jobs=-1)]: Done   5 out of   5 | elapsed:    0.1s finished\n",
      "[I 2019-03-04 05:34:46,782] Finished a trial resulted in value: -0.0. Current best value is -0.7848547817391219 with parameters: {'boosting_type': 'dart', 'num_leaves': 64, 'min_data_in_leaf': 56, 'lambda_l1': 0.001498514705799734, 'lambda_l2': 0.0008847855551727171, 'learning_rate': 0.05655333427237074}.\n",
      "[Parallel(n_jobs=-1)]: Using backend LokyBackend with 16 concurrent workers.\n",
      "[Parallel(n_jobs=-1)]: Done   5 out of   5 | elapsed:    0.2s finished\n",
      "[I 2019-03-04 05:34:46,990] Finished a trial resulted in value: -0.0. Current best value is -0.7848547817391219 with parameters: {'boosting_type': 'dart', 'num_leaves': 64, 'min_data_in_leaf': 56, 'lambda_l1': 0.001498514705799734, 'lambda_l2': 0.0008847855551727171, 'learning_rate': 0.05655333427237074}.\n",
      "[Parallel(n_jobs=-1)]: Using backend LokyBackend with 16 concurrent workers.\n",
      "[Parallel(n_jobs=-1)]: Done   5 out of   5 | elapsed:    0.2s finished\n",
      "[I 2019-03-04 05:34:47,191] Finished a trial resulted in value: -0.6500784870238615. Current best value is -0.7848547817391219 with parameters: {'boosting_type': 'dart', 'num_leaves': 64, 'min_data_in_leaf': 56, 'lambda_l1': 0.001498514705799734, 'lambda_l2': 0.0008847855551727171, 'learning_rate': 0.05655333427237074}.\n",
      "[Parallel(n_jobs=-1)]: Using backend LokyBackend with 16 concurrent workers.\n",
      "[Parallel(n_jobs=-1)]: Done   5 out of   5 | elapsed:    0.2s finished\n",
      "[I 2019-03-04 05:34:47,398] Finished a trial resulted in value: -0.7099254418430279. Current best value is -0.7848547817391219 with parameters: {'boosting_type': 'dart', 'num_leaves': 64, 'min_data_in_leaf': 56, 'lambda_l1': 0.001498514705799734, 'lambda_l2': 0.0008847855551727171, 'learning_rate': 0.05655333427237074}.\n",
      "[Parallel(n_jobs=-1)]: Using backend LokyBackend with 16 concurrent workers.\n",
      "[Parallel(n_jobs=-1)]: Done   5 out of   5 | elapsed:    0.2s finished\n",
      "[I 2019-03-04 05:34:47,592] Finished a trial resulted in value: -0.7740937328118054. Current best value is -0.7848547817391219 with parameters: {'boosting_type': 'dart', 'num_leaves': 64, 'min_data_in_leaf': 56, 'lambda_l1': 0.001498514705799734, 'lambda_l2': 0.0008847855551727171, 'learning_rate': 0.05655333427237074}.\n",
      "[Parallel(n_jobs=-1)]: Using backend LokyBackend with 16 concurrent workers.\n",
      "[Parallel(n_jobs=-1)]: Done   5 out of   5 | elapsed:    0.2s finished\n",
      "[I 2019-03-04 05:34:47,814] Finished a trial resulted in value: -0.7803204539792837. Current best value is -0.7848547817391219 with parameters: {'boosting_type': 'dart', 'num_leaves': 64, 'min_data_in_leaf': 56, 'lambda_l1': 0.001498514705799734, 'lambda_l2': 0.0008847855551727171, 'learning_rate': 0.05655333427237074}.\n",
      "[Parallel(n_jobs=-1)]: Using backend LokyBackend with 16 concurrent workers.\n",
      "[Parallel(n_jobs=-1)]: Done   5 out of   5 | elapsed:    0.2s finished\n",
      "[I 2019-03-04 05:34:48,010] Finished a trial resulted in value: -0.7803522099737441. Current best value is -0.7848547817391219 with parameters: {'boosting_type': 'dart', 'num_leaves': 64, 'min_data_in_leaf': 56, 'lambda_l1': 0.001498514705799734, 'lambda_l2': 0.0008847855551727171, 'learning_rate': 0.05655333427237074}.\n",
      "[Parallel(n_jobs=-1)]: Using backend LokyBackend with 16 concurrent workers.\n",
      "[Parallel(n_jobs=-1)]: Done   5 out of   5 | elapsed:    0.2s finished\n"
     ]
    },
    {
     "name": "stderr",
     "output_type": "stream",
     "text": [
      "[I 2019-03-04 05:34:48,217] Finished a trial resulted in value: -0.7711211517571115. Current best value is -0.7848547817391219 with parameters: {'boosting_type': 'dart', 'num_leaves': 64, 'min_data_in_leaf': 56, 'lambda_l1': 0.001498514705799734, 'lambda_l2': 0.0008847855551727171, 'learning_rate': 0.05655333427237074}.\n",
      "[Parallel(n_jobs=-1)]: Using backend LokyBackend with 16 concurrent workers.\n",
      "[Parallel(n_jobs=-1)]: Done   5 out of   5 | elapsed:    0.2s finished\n",
      "[I 2019-03-04 05:34:48,420] Finished a trial resulted in value: -0.7671403903592742. Current best value is -0.7848547817391219 with parameters: {'boosting_type': 'dart', 'num_leaves': 64, 'min_data_in_leaf': 56, 'lambda_l1': 0.001498514705799734, 'lambda_l2': 0.0008847855551727171, 'learning_rate': 0.05655333427237074}.\n",
      "[Parallel(n_jobs=-1)]: Using backend LokyBackend with 16 concurrent workers.\n",
      "[Parallel(n_jobs=-1)]: Done   5 out of   5 | elapsed:    0.2s finished\n",
      "[I 2019-03-04 05:34:48,617] Finished a trial resulted in value: -0.7813907781827215. Current best value is -0.7848547817391219 with parameters: {'boosting_type': 'dart', 'num_leaves': 64, 'min_data_in_leaf': 56, 'lambda_l1': 0.001498514705799734, 'lambda_l2': 0.0008847855551727171, 'learning_rate': 0.05655333427237074}.\n",
      "[Parallel(n_jobs=-1)]: Using backend LokyBackend with 16 concurrent workers.\n",
      "[Parallel(n_jobs=-1)]: Done   5 out of   5 | elapsed:    0.2s finished\n",
      "[I 2019-03-04 05:34:48,825] Finished a trial resulted in value: -0.6456050559794416. Current best value is -0.7848547817391219 with parameters: {'boosting_type': 'dart', 'num_leaves': 64, 'min_data_in_leaf': 56, 'lambda_l1': 0.001498514705799734, 'lambda_l2': 0.0008847855551727171, 'learning_rate': 0.05655333427237074}.\n",
      "[Parallel(n_jobs=-1)]: Using backend LokyBackend with 16 concurrent workers.\n",
      "[Parallel(n_jobs=-1)]: Done   5 out of   5 | elapsed:    0.2s finished\n",
      "[I 2019-03-04 05:34:49,031] Finished a trial resulted in value: -0.6907504075789855. Current best value is -0.7848547817391219 with parameters: {'boosting_type': 'dart', 'num_leaves': 64, 'min_data_in_leaf': 56, 'lambda_l1': 0.001498514705799734, 'lambda_l2': 0.0008847855551727171, 'learning_rate': 0.05655333427237074}.\n",
      "[Parallel(n_jobs=-1)]: Using backend LokyBackend with 16 concurrent workers.\n",
      "[Parallel(n_jobs=-1)]: Done   5 out of   5 | elapsed:    0.2s finished\n",
      "[I 2019-03-04 05:34:49,246] Finished a trial resulted in value: -0.7740937328118054. Current best value is -0.7848547817391219 with parameters: {'boosting_type': 'dart', 'num_leaves': 64, 'min_data_in_leaf': 56, 'lambda_l1': 0.001498514705799734, 'lambda_l2': 0.0008847855551727171, 'learning_rate': 0.05655333427237074}.\n",
      "[Parallel(n_jobs=-1)]: Using backend LokyBackend with 16 concurrent workers.\n",
      "[Parallel(n_jobs=-1)]: Done   5 out of   5 | elapsed:    0.2s finished\n",
      "[I 2019-03-04 05:34:49,460] Finished a trial resulted in value: -0.7733096740864353. Current best value is -0.7848547817391219 with parameters: {'boosting_type': 'dart', 'num_leaves': 64, 'min_data_in_leaf': 56, 'lambda_l1': 0.001498514705799734, 'lambda_l2': 0.0008847855551727171, 'learning_rate': 0.05655333427237074}.\n",
      "[Parallel(n_jobs=-1)]: Using backend LokyBackend with 16 concurrent workers.\n",
      "[Parallel(n_jobs=-1)]: Done   5 out of   5 | elapsed:    0.2s finished\n",
      "[I 2019-03-04 05:34:49,692] Finished a trial resulted in value: -0.7691893108834461. Current best value is -0.7848547817391219 with parameters: {'boosting_type': 'dart', 'num_leaves': 64, 'min_data_in_leaf': 56, 'lambda_l1': 0.001498514705799734, 'lambda_l2': 0.0008847855551727171, 'learning_rate': 0.05655333427237074}.\n",
      "[Parallel(n_jobs=-1)]: Using backend LokyBackend with 16 concurrent workers.\n",
      "[Parallel(n_jobs=-1)]: Done   5 out of   5 | elapsed:    0.2s finished\n",
      "[I 2019-03-04 05:34:49,895] Finished a trial resulted in value: -0.6961623315310175. Current best value is -0.7848547817391219 with parameters: {'boosting_type': 'dart', 'num_leaves': 64, 'min_data_in_leaf': 56, 'lambda_l1': 0.001498514705799734, 'lambda_l2': 0.0008847855551727171, 'learning_rate': 0.05655333427237074}.\n",
      "[Parallel(n_jobs=-1)]: Using backend LokyBackend with 16 concurrent workers.\n",
      "[Parallel(n_jobs=-1)]: Done   5 out of   5 | elapsed:    0.1s finished\n",
      "[I 2019-03-04 05:34:50,056] Finished a trial resulted in value: -0.7725162072635111. Current best value is -0.7848547817391219 with parameters: {'boosting_type': 'dart', 'num_leaves': 64, 'min_data_in_leaf': 56, 'lambda_l1': 0.001498514705799734, 'lambda_l2': 0.0008847855551727171, 'learning_rate': 0.05655333427237074}.\n",
      "[Parallel(n_jobs=-1)]: Using backend LokyBackend with 16 concurrent workers.\n",
      "[Parallel(n_jobs=-1)]: Done   5 out of   5 | elapsed:    0.2s finished\n",
      "[I 2019-03-04 05:34:50,269] Finished a trial resulted in value: -0.7863444435666628. Current best value is -0.7863444435666628 with parameters: {'boosting_type': 'dart', 'num_leaves': 72, 'min_data_in_leaf': 55, 'lambda_l1': 0.0006776845683962857, 'lambda_l2': 0.00027765587625800157, 'learning_rate': 0.054290501127084605}.\n",
      "[Parallel(n_jobs=-1)]: Using backend LokyBackend with 16 concurrent workers.\n",
      "[Parallel(n_jobs=-1)]: Done   5 out of   5 | elapsed:    0.2s finished\n",
      "[I 2019-03-04 05:34:50,494] Finished a trial resulted in value: -0.6090366065356912. Current best value is -0.7863444435666628 with parameters: {'boosting_type': 'dart', 'num_leaves': 72, 'min_data_in_leaf': 55, 'lambda_l1': 0.0006776845683962857, 'lambda_l2': 0.00027765587625800157, 'learning_rate': 0.054290501127084605}.\n",
      "[Parallel(n_jobs=-1)]: Using backend LokyBackend with 16 concurrent workers.\n",
      "[Parallel(n_jobs=-1)]: Done   5 out of   5 | elapsed:    0.2s finished\n",
      "[I 2019-03-04 05:34:50,731] Finished a trial resulted in value: -0.0. Current best value is -0.7863444435666628 with parameters: {'boosting_type': 'dart', 'num_leaves': 72, 'min_data_in_leaf': 55, 'lambda_l1': 0.0006776845683962857, 'lambda_l2': 0.00027765587625800157, 'learning_rate': 0.054290501127084605}.\n",
      "[Parallel(n_jobs=-1)]: Using backend LokyBackend with 16 concurrent workers.\n",
      "[Parallel(n_jobs=-1)]: Done   5 out of   5 | elapsed:    0.2s finished\n",
      "[I 2019-03-04 05:34:50,955] Finished a trial resulted in value: -0.6463739115218714. Current best value is -0.7863444435666628 with parameters: {'boosting_type': 'dart', 'num_leaves': 72, 'min_data_in_leaf': 55, 'lambda_l1': 0.0006776845683962857, 'lambda_l2': 0.00027765587625800157, 'learning_rate': 0.054290501127084605}.\n",
      "[Parallel(n_jobs=-1)]: Using backend LokyBackend with 16 concurrent workers.\n",
      "[Parallel(n_jobs=-1)]: Done   5 out of   5 | elapsed:    0.1s finished\n",
      "[I 2019-03-04 05:34:51,117] Finished a trial resulted in value: -0.7725154284479213. Current best value is -0.7863444435666628 with parameters: {'boosting_type': 'dart', 'num_leaves': 72, 'min_data_in_leaf': 55, 'lambda_l1': 0.0006776845683962857, 'lambda_l2': 0.00027765587625800157, 'learning_rate': 0.054290501127084605}.\n",
      "[Parallel(n_jobs=-1)]: Using backend LokyBackend with 16 concurrent workers.\n",
      "[Parallel(n_jobs=-1)]: Done   5 out of   5 | elapsed:    0.2s finished\n",
      "[I 2019-03-04 05:34:51,363] Finished a trial resulted in value: -0.0. Current best value is -0.7863444435666628 with parameters: {'boosting_type': 'dart', 'num_leaves': 72, 'min_data_in_leaf': 55, 'lambda_l1': 0.0006776845683962857, 'lambda_l2': 0.00027765587625800157, 'learning_rate': 0.054290501127084605}.\n",
      "[Parallel(n_jobs=-1)]: Using backend LokyBackend with 16 concurrent workers.\n",
      "[Parallel(n_jobs=-1)]: Done   5 out of   5 | elapsed:    0.2s finished\n",
      "[I 2019-03-04 05:34:51,600] Finished a trial resulted in value: -0.0. Current best value is -0.7863444435666628 with parameters: {'boosting_type': 'dart', 'num_leaves': 72, 'min_data_in_leaf': 55, 'lambda_l1': 0.0006776845683962857, 'lambda_l2': 0.00027765587625800157, 'learning_rate': 0.054290501127084605}.\n",
      "[Parallel(n_jobs=-1)]: Using backend LokyBackend with 16 concurrent workers.\n",
      "[Parallel(n_jobs=-1)]: Done   5 out of   5 | elapsed:    0.2s finished\n"
     ]
    },
    {
     "name": "stderr",
     "output_type": "stream",
     "text": [
      "[I 2019-03-04 05:34:51,834] Finished a trial resulted in value: -0.7158267057328194. Current best value is -0.7863444435666628 with parameters: {'boosting_type': 'dart', 'num_leaves': 72, 'min_data_in_leaf': 55, 'lambda_l1': 0.0006776845683962857, 'lambda_l2': 0.00027765587625800157, 'learning_rate': 0.054290501127084605}.\n",
      "[Parallel(n_jobs=-1)]: Using backend LokyBackend with 16 concurrent workers.\n",
      "[Parallel(n_jobs=-1)]: Done   5 out of   5 | elapsed:    0.2s finished\n",
      "[I 2019-03-04 05:34:52,033] Finished a trial resulted in value: -0.7775278219324578. Current best value is -0.7863444435666628 with parameters: {'boosting_type': 'dart', 'num_leaves': 72, 'min_data_in_leaf': 55, 'lambda_l1': 0.0006776845683962857, 'lambda_l2': 0.00027765587625800157, 'learning_rate': 0.054290501127084605}.\n",
      "[Parallel(n_jobs=-1)]: Using backend LokyBackend with 16 concurrent workers.\n",
      "[Parallel(n_jobs=-1)]: Done   5 out of   5 | elapsed:    0.2s finished\n",
      "[I 2019-03-04 05:34:52,244] Finished a trial resulted in value: -0.7765239479579273. Current best value is -0.7863444435666628 with parameters: {'boosting_type': 'dart', 'num_leaves': 72, 'min_data_in_leaf': 55, 'lambda_l1': 0.0006776845683962857, 'lambda_l2': 0.00027765587625800157, 'learning_rate': 0.054290501127084605}.\n",
      "[Parallel(n_jobs=-1)]: Using backend LokyBackend with 16 concurrent workers.\n",
      "[Parallel(n_jobs=-1)]: Done   5 out of   5 | elapsed:    0.2s finished\n",
      "[I 2019-03-04 05:34:52,464] Finished a trial resulted in value: -0.0. Current best value is -0.7863444435666628 with parameters: {'boosting_type': 'dart', 'num_leaves': 72, 'min_data_in_leaf': 55, 'lambda_l1': 0.0006776845683962857, 'lambda_l2': 0.00027765587625800157, 'learning_rate': 0.054290501127084605}.\n",
      "[Parallel(n_jobs=-1)]: Using backend LokyBackend with 16 concurrent workers.\n",
      "[Parallel(n_jobs=-1)]: Done   5 out of   5 | elapsed:    0.2s finished\n",
      "[I 2019-03-04 05:34:52,685] Finished a trial resulted in value: -0.0. Current best value is -0.7863444435666628 with parameters: {'boosting_type': 'dart', 'num_leaves': 72, 'min_data_in_leaf': 55, 'lambda_l1': 0.0006776845683962857, 'lambda_l2': 0.00027765587625800157, 'learning_rate': 0.054290501127084605}.\n",
      "[Parallel(n_jobs=-1)]: Using backend LokyBackend with 16 concurrent workers.\n",
      "[Parallel(n_jobs=-1)]: Done   5 out of   5 | elapsed:    0.2s finished\n",
      "[I 2019-03-04 05:34:52,914] Finished a trial resulted in value: -0.0. Current best value is -0.7863444435666628 with parameters: {'boosting_type': 'dart', 'num_leaves': 72, 'min_data_in_leaf': 55, 'lambda_l1': 0.0006776845683962857, 'lambda_l2': 0.00027765587625800157, 'learning_rate': 0.054290501127084605}.\n",
      "[Parallel(n_jobs=-1)]: Using backend LokyBackend with 16 concurrent workers.\n",
      "[Parallel(n_jobs=-1)]: Done   5 out of   5 | elapsed:    0.1s finished\n",
      "[I 2019-03-04 05:34:53,084] Finished a trial resulted in value: -0.7540237307909046. Current best value is -0.7863444435666628 with parameters: {'boosting_type': 'dart', 'num_leaves': 72, 'min_data_in_leaf': 55, 'lambda_l1': 0.0006776845683962857, 'lambda_l2': 0.00027765587625800157, 'learning_rate': 0.054290501127084605}.\n",
      "[Parallel(n_jobs=-1)]: Using backend LokyBackend with 16 concurrent workers.\n",
      "[Parallel(n_jobs=-1)]: Done   5 out of   5 | elapsed:    0.2s finished\n",
      "[I 2019-03-04 05:34:53,352] Finished a trial resulted in value: -0.7421006978736678. Current best value is -0.7863444435666628 with parameters: {'boosting_type': 'dart', 'num_leaves': 72, 'min_data_in_leaf': 55, 'lambda_l1': 0.0006776845683962857, 'lambda_l2': 0.00027765587625800157, 'learning_rate': 0.054290501127084605}.\n",
      "[Parallel(n_jobs=-1)]: Using backend LokyBackend with 16 concurrent workers.\n",
      "[Parallel(n_jobs=-1)]: Done   5 out of   5 | elapsed:    0.2s finished\n",
      "[I 2019-03-04 05:34:53,570] Finished a trial resulted in value: -0.0. Current best value is -0.7863444435666628 with parameters: {'boosting_type': 'dart', 'num_leaves': 72, 'min_data_in_leaf': 55, 'lambda_l1': 0.0006776845683962857, 'lambda_l2': 0.00027765587625800157, 'learning_rate': 0.054290501127084605}.\n",
      "[Parallel(n_jobs=-1)]: Using backend LokyBackend with 16 concurrent workers.\n",
      "[Parallel(n_jobs=-1)]: Done   5 out of   5 | elapsed:    0.1s finished\n",
      "[I 2019-03-04 05:34:53,753] Finished a trial resulted in value: -0.0. Current best value is -0.7863444435666628 with parameters: {'boosting_type': 'dart', 'num_leaves': 72, 'min_data_in_leaf': 55, 'lambda_l1': 0.0006776845683962857, 'lambda_l2': 0.00027765587625800157, 'learning_rate': 0.054290501127084605}.\n",
      "[Parallel(n_jobs=-1)]: Using backend LokyBackend with 16 concurrent workers.\n",
      "[Parallel(n_jobs=-1)]: Done   5 out of   5 | elapsed:    0.1s finished\n",
      "[I 2019-03-04 05:34:53,907] Finished a trial resulted in value: -0.0. Current best value is -0.7863444435666628 with parameters: {'boosting_type': 'dart', 'num_leaves': 72, 'min_data_in_leaf': 55, 'lambda_l1': 0.0006776845683962857, 'lambda_l2': 0.00027765587625800157, 'learning_rate': 0.054290501127084605}.\n",
      "[Parallel(n_jobs=-1)]: Using backend LokyBackend with 16 concurrent workers.\n",
      "[Parallel(n_jobs=-1)]: Done   5 out of   5 | elapsed:    0.1s finished\n",
      "[I 2019-03-04 05:34:54,101] Finished a trial resulted in value: -0.7782213909696651. Current best value is -0.7863444435666628 with parameters: {'boosting_type': 'dart', 'num_leaves': 72, 'min_data_in_leaf': 55, 'lambda_l1': 0.0006776845683962857, 'lambda_l2': 0.00027765587625800157, 'learning_rate': 0.054290501127084605}.\n",
      "[Parallel(n_jobs=-1)]: Using backend LokyBackend with 16 concurrent workers.\n",
      "[Parallel(n_jobs=-1)]: Done   5 out of   5 | elapsed:    0.2s finished\n",
      "[I 2019-03-04 05:34:54,332] Finished a trial resulted in value: -0.6951156774468076. Current best value is -0.7863444435666628 with parameters: {'boosting_type': 'dart', 'num_leaves': 72, 'min_data_in_leaf': 55, 'lambda_l1': 0.0006776845683962857, 'lambda_l2': 0.00027765587625800157, 'learning_rate': 0.054290501127084605}.\n",
      "[Parallel(n_jobs=-1)]: Using backend LokyBackend with 16 concurrent workers.\n",
      "[Parallel(n_jobs=-1)]: Done   5 out of   5 | elapsed:    0.2s finished\n",
      "[I 2019-03-04 05:34:54,544] Finished a trial resulted in value: -0.741600445728351. Current best value is -0.7863444435666628 with parameters: {'boosting_type': 'dart', 'num_leaves': 72, 'min_data_in_leaf': 55, 'lambda_l1': 0.0006776845683962857, 'lambda_l2': 0.00027765587625800157, 'learning_rate': 0.054290501127084605}.\n",
      "[Parallel(n_jobs=-1)]: Using backend LokyBackend with 16 concurrent workers.\n",
      "[Parallel(n_jobs=-1)]: Done   5 out of   5 | elapsed:    0.2s finished\n",
      "[I 2019-03-04 05:34:54,761] Finished a trial resulted in value: -0.7283772708243412. Current best value is -0.7863444435666628 with parameters: {'boosting_type': 'dart', 'num_leaves': 72, 'min_data_in_leaf': 55, 'lambda_l1': 0.0006776845683962857, 'lambda_l2': 0.00027765587625800157, 'learning_rate': 0.054290501127084605}.\n"
     ]
    }
   ],
   "source": [
    "study.optimize(objective, n_trials=100)"
   ]
  },
  {
   "cell_type": "code",
   "execution_count": 88,
   "metadata": {},
   "outputs": [
    {
     "data": {
      "text/plain": [
       "-0.7863444435666628"
      ]
     },
     "execution_count": 88,
     "metadata": {},
     "output_type": "execute_result"
    }
   ],
   "source": [
    "study.best_value"
   ]
  },
  {
   "cell_type": "code",
   "execution_count": 91,
   "metadata": {},
   "outputs": [
    {
     "data": {
      "text/plain": [
       "LGBMClassifier(boosting_type='dart', class_weight=None, colsample_bytree=1.0,\n",
       "        importance_type='split', lambda_l1=0.0006776845683962857,\n",
       "        lambda_l2=0.00027765587625800157,\n",
       "        learning_rate=0.054290501127084605, max_depth=-1,\n",
       "        min_child_samples=20, min_child_weight=0.001, min_data_in_leaf=55,\n",
       "        min_split_gain=0.0, n_estimators=100, n_jobs=-1, num_leaves=72,\n",
       "        objective=None, random_state=10, reg_alpha=0.0, reg_lambda=0.0,\n",
       "        silent=True, subsample=1.0, subsample_for_bin=200000,\n",
       "        subsample_freq=0)"
      ]
     },
     "execution_count": 91,
     "metadata": {},
     "output_type": "execute_result"
    }
   ],
   "source": [
    "best_params = study.best_params\n",
    "# In[ ]:\n",
    "\n",
    "best_params[\"random_state\"] = RANDOM_STATE\n",
    "\n",
    "# In[ ]:\n",
    "\n",
    "clf = LGBMClassifier(**best_params)\n",
    "\n",
    "# In[ ]:\n",
    "\n",
    "clf.fit(X, Y, eval_metric=matthews_corrcoef, verbose=1)"
   ]
  },
  {
   "cell_type": "code",
   "execution_count": 93,
   "metadata": {},
   "outputs": [],
   "source": [
    "lgbm_predicted = clf.predict(X)"
   ]
  },
  {
   "cell_type": "code",
   "execution_count": 94,
   "metadata": {},
   "outputs": [
    {
     "data": {
      "text/plain": [
       "0.7930671032880142"
      ]
     },
     "execution_count": 94,
     "metadata": {},
     "output_type": "execute_result"
    }
   ],
   "source": [
    "matthews_corrcoef(Y, lgbm_predicted)"
   ]
  },
  {
   "cell_type": "code",
   "execution_count": 95,
   "metadata": {},
   "outputs": [
    {
     "data": {
      "text/plain": [
       "0.7057887705892316"
      ]
     },
     "execution_count": 95,
     "metadata": {},
     "output_type": "execute_result"
    }
   ],
   "source": [
    "matthews_corrcoef(Y, train_predicted.hard_voted_class)"
   ]
  },
  {
   "cell_type": "code",
   "execution_count": 96,
   "metadata": {},
   "outputs": [],
   "source": [
    "test_data_set = VbsDataSetFactory()(is_train=False)"
   ]
  },
  {
   "cell_type": "code",
   "execution_count": 97,
   "metadata": {},
   "outputs": [],
   "source": [
    "test_dfs = [pd.read_csv(cv_path.joinpath(\"predicted.csv\")) for cv_path in model_root.glob(\"cv*\")]"
   ]
  },
  {
   "cell_type": "code",
   "execution_count": 98,
   "metadata": {},
   "outputs": [],
   "source": [
    "test_predicted = pd.DataFrame()"
   ]
  },
  {
   "cell_type": "code",
   "execution_count": 101,
   "metadata": {},
   "outputs": [
    {
     "data": {
      "text/html": [
       "<div>\n",
       "<style scoped>\n",
       "    .dataframe tbody tr th:only-of-type {\n",
       "        vertical-align: middle;\n",
       "    }\n",
       "\n",
       "    .dataframe tbody tr th {\n",
       "        vertical-align: top;\n",
       "    }\n",
       "\n",
       "    .dataframe thead th {\n",
       "        text-align: right;\n",
       "    }\n",
       "</style>\n",
       "<table border=\"1\" class=\"dataframe\">\n",
       "  <thead>\n",
       "    <tr style=\"text-align: right;\">\n",
       "      <th></th>\n",
       "      <th>Unnamed: 0</th>\n",
       "      <th>id_measurement</th>\n",
       "      <th>probability</th>\n",
       "      <th>class</th>\n",
       "    </tr>\n",
       "  </thead>\n",
       "  <tbody>\n",
       "    <tr>\n",
       "      <th>0</th>\n",
       "      <td>0</td>\n",
       "      <td>2904</td>\n",
       "      <td>0.032240</td>\n",
       "      <td>0.0</td>\n",
       "    </tr>\n",
       "    <tr>\n",
       "      <th>1</th>\n",
       "      <td>1</td>\n",
       "      <td>2905</td>\n",
       "      <td>0.005053</td>\n",
       "      <td>0.0</td>\n",
       "    </tr>\n",
       "    <tr>\n",
       "      <th>2</th>\n",
       "      <td>2</td>\n",
       "      <td>2906</td>\n",
       "      <td>0.002420</td>\n",
       "      <td>0.0</td>\n",
       "    </tr>\n",
       "    <tr>\n",
       "      <th>3</th>\n",
       "      <td>3</td>\n",
       "      <td>2907</td>\n",
       "      <td>0.004459</td>\n",
       "      <td>0.0</td>\n",
       "    </tr>\n",
       "    <tr>\n",
       "      <th>4</th>\n",
       "      <td>4</td>\n",
       "      <td>2908</td>\n",
       "      <td>0.001583</td>\n",
       "      <td>0.0</td>\n",
       "    </tr>\n",
       "    <tr>\n",
       "      <th>5</th>\n",
       "      <td>5</td>\n",
       "      <td>2909</td>\n",
       "      <td>0.001407</td>\n",
       "      <td>0.0</td>\n",
       "    </tr>\n",
       "    <tr>\n",
       "      <th>6</th>\n",
       "      <td>6</td>\n",
       "      <td>2910</td>\n",
       "      <td>0.006728</td>\n",
       "      <td>0.0</td>\n",
       "    </tr>\n",
       "    <tr>\n",
       "      <th>7</th>\n",
       "      <td>7</td>\n",
       "      <td>2911</td>\n",
       "      <td>0.004342</td>\n",
       "      <td>0.0</td>\n",
       "    </tr>\n",
       "    <tr>\n",
       "      <th>8</th>\n",
       "      <td>8</td>\n",
       "      <td>2912</td>\n",
       "      <td>0.000262</td>\n",
       "      <td>0.0</td>\n",
       "    </tr>\n",
       "    <tr>\n",
       "      <th>9</th>\n",
       "      <td>9</td>\n",
       "      <td>2913</td>\n",
       "      <td>0.000808</td>\n",
       "      <td>0.0</td>\n",
       "    </tr>\n",
       "  </tbody>\n",
       "</table>\n",
       "</div>"
      ],
      "text/plain": [
       "   Unnamed: 0  id_measurement  probability  class\n",
       "0           0            2904     0.032240    0.0\n",
       "1           1            2905     0.005053    0.0\n",
       "2           2            2906     0.002420    0.0\n",
       "3           3            2907     0.004459    0.0\n",
       "4           4            2908     0.001583    0.0\n",
       "5           5            2909     0.001407    0.0\n",
       "6           6            2910     0.006728    0.0\n",
       "7           7            2911     0.004342    0.0\n",
       "8           8            2912     0.000262    0.0\n",
       "9           9            2913     0.000808    0.0"
      ]
     },
     "execution_count": 101,
     "metadata": {},
     "output_type": "execute_result"
    }
   ],
   "source": [
    "test_dfs[0][:10]"
   ]
  },
  {
   "cell_type": "code",
   "execution_count": 102,
   "metadata": {},
   "outputs": [],
   "source": [
    "test_predicted[\"id_measurement\"] = test_dfs[0][\"id_measurement\"]"
   ]
  },
  {
   "cell_type": "code",
   "execution_count": 103,
   "metadata": {},
   "outputs": [],
   "source": [
    "import numpy as np"
   ]
  },
  {
   "cell_type": "code",
   "execution_count": 119,
   "metadata": {},
   "outputs": [],
   "source": [
    "test_X = np.hstack([df.probability.values.reshape((-1, 1)) for df in test_dfs])"
   ]
  },
  {
   "cell_type": "code",
   "execution_count": 120,
   "metadata": {},
   "outputs": [
    {
     "data": {
      "text/plain": [
       "(6779, 10)"
      ]
     },
     "execution_count": 120,
     "metadata": {},
     "output_type": "execute_result"
    }
   ],
   "source": [
    "test_X.shape"
   ]
  },
  {
   "cell_type": "code",
   "execution_count": 121,
   "metadata": {},
   "outputs": [],
   "source": [
    "test_Y = clf.predict(test_X)"
   ]
  },
  {
   "cell_type": "code",
   "execution_count": 122,
   "metadata": {},
   "outputs": [
    {
     "data": {
      "text/plain": [
       "array([0, 0, 0, ..., 0, 0, 0])"
      ]
     },
     "execution_count": 122,
     "metadata": {},
     "output_type": "execute_result"
    }
   ],
   "source": [
    "test_Y"
   ]
  },
  {
   "cell_type": "code",
   "execution_count": 123,
   "metadata": {},
   "outputs": [],
   "source": [
    "test_predicted[\"target\"] = test_Y"
   ]
  },
  {
   "cell_type": "code",
   "execution_count": 124,
   "metadata": {},
   "outputs": [],
   "source": [
    "source_df = test_data_set.meta_df"
   ]
  },
  {
   "cell_type": "code",
   "execution_count": 125,
   "metadata": {},
   "outputs": [],
   "source": [
    "submission_df = source_df.merge(test_predicted, on=\"id_measurement\", how=\"left\")\n",
    "submission_df.drop([\"id_measurement\", \"phase\"], axis=1, inplace=True)"
   ]
  },
  {
   "cell_type": "code",
   "execution_count": 126,
   "metadata": {},
   "outputs": [
    {
     "data": {
      "text/html": [
       "<div>\n",
       "<style scoped>\n",
       "    .dataframe tbody tr th:only-of-type {\n",
       "        vertical-align: middle;\n",
       "    }\n",
       "\n",
       "    .dataframe tbody tr th {\n",
       "        vertical-align: top;\n",
       "    }\n",
       "\n",
       "    .dataframe thead th {\n",
       "        text-align: right;\n",
       "    }\n",
       "</style>\n",
       "<table border=\"1\" class=\"dataframe\">\n",
       "  <thead>\n",
       "    <tr style=\"text-align: right;\">\n",
       "      <th></th>\n",
       "      <th>signal_id</th>\n",
       "      <th>target</th>\n",
       "    </tr>\n",
       "  </thead>\n",
       "  <tbody>\n",
       "    <tr>\n",
       "      <th>0</th>\n",
       "      <td>8712</td>\n",
       "      <td>0</td>\n",
       "    </tr>\n",
       "    <tr>\n",
       "      <th>1</th>\n",
       "      <td>8713</td>\n",
       "      <td>0</td>\n",
       "    </tr>\n",
       "    <tr>\n",
       "      <th>2</th>\n",
       "      <td>8714</td>\n",
       "      <td>0</td>\n",
       "    </tr>\n",
       "    <tr>\n",
       "      <th>3</th>\n",
       "      <td>8715</td>\n",
       "      <td>0</td>\n",
       "    </tr>\n",
       "    <tr>\n",
       "      <th>4</th>\n",
       "      <td>8716</td>\n",
       "      <td>0</td>\n",
       "    </tr>\n",
       "    <tr>\n",
       "      <th>5</th>\n",
       "      <td>8717</td>\n",
       "      <td>0</td>\n",
       "    </tr>\n",
       "    <tr>\n",
       "      <th>6</th>\n",
       "      <td>8718</td>\n",
       "      <td>0</td>\n",
       "    </tr>\n",
       "    <tr>\n",
       "      <th>7</th>\n",
       "      <td>8719</td>\n",
       "      <td>0</td>\n",
       "    </tr>\n",
       "    <tr>\n",
       "      <th>8</th>\n",
       "      <td>8720</td>\n",
       "      <td>0</td>\n",
       "    </tr>\n",
       "    <tr>\n",
       "      <th>9</th>\n",
       "      <td>8721</td>\n",
       "      <td>0</td>\n",
       "    </tr>\n",
       "  </tbody>\n",
       "</table>\n",
       "</div>"
      ],
      "text/plain": [
       "   signal_id  target\n",
       "0       8712       0\n",
       "1       8713       0\n",
       "2       8714       0\n",
       "3       8715       0\n",
       "4       8716       0\n",
       "5       8717       0\n",
       "6       8718       0\n",
       "7       8719       0\n",
       "8       8720       0\n",
       "9       8721       0"
      ]
     },
     "execution_count": 126,
     "metadata": {},
     "output_type": "execute_result"
    }
   ],
   "source": [
    "submission_df[:10]"
   ]
  },
  {
   "cell_type": "code",
   "execution_count": 132,
   "metadata": {},
   "outputs": [],
   "source": [
    "submission_df.to_csv(model_root.joinpath(\"lgb_ensemble.csv\"), index=None)"
   ]
  },
  {
   "cell_type": "code",
   "execution_count": 128,
   "metadata": {},
   "outputs": [
    {
     "data": {
      "text/plain": [
       "'/mnt/share/vbs-power-line-fault-detection/models/bigru_attention/window_5000_summary/lgb_ensemble.csv'"
      ]
     },
     "execution_count": 128,
     "metadata": {},
     "output_type": "execute_result"
    }
   ],
   "source": [
    "str(model_root.joinpath(\"lgb_ensemble.csv\"))"
   ]
  },
  {
   "cell_type": "code",
   "execution_count": 133,
   "metadata": {},
   "outputs": [
    {
     "name": "stdout",
     "output_type": "stream",
     "text": [
      "Warning: Your Kaggle API key is readable by other users on this system! To fix this, you can run 'chmod 600 /home/yohyohyonyon/.kaggle/kaggle.json'\n",
      "Successfully submitted to VSB Power Line Fault Detection"
     ]
    },
    {
     "name": "stderr",
     "output_type": "stream",
     "text": [
      "\r",
      "  0%|          | 0.00/158k [00:00<?, ?B/s]\r",
      "100%|██████████| 158k/158k [00:00<00:00, 668kB/s]\n"
     ]
    }
   ],
   "source": [
    "%%bash\n",
    "kaggle competitions submit -f '/mnt/share/vbs-power-line-fault-detection/models/bigru_attention/window_5000_summary/lgb_ensemble.csv' \\\n",
    "-m \"bigru attention\\nwindow_5000\\n10fold\\nlgb_ensemble\" vsb-power-line-fault-detection"
   ]
  },
  {
   "cell_type": "code",
   "execution_count": null,
   "metadata": {},
   "outputs": [],
   "source": []
  }
 ],
 "metadata": {
  "kernelspec": {
   "display_name": "Python 3",
   "language": "python",
   "name": "python3"
  },
  "language_info": {
   "codemirror_mode": {
    "name": "ipython",
    "version": 3
   },
   "file_extension": ".py",
   "mimetype": "text/x-python",
   "name": "python",
   "nbconvert_exporter": "python",
   "pygments_lexer": "ipython3",
   "version": "3.7.2"
  }
 },
 "nbformat": 4,
 "nbformat_minor": 2
}
